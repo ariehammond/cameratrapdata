{
 "cells": [
  {
   "cell_type": "code",
   "execution_count": 34,
   "metadata": {},
   "outputs": [
    {
     "data": {
      "text/html": [
       "<iframe id=\"igraph\" scrolling=\"no\" style=\"border:none;\" seamless=\"seamless\" src=\"https://plot.ly/~graycyd/6.embed\" height=\"525px\" width=\"100%\"></iframe>"
      ],
      "text/plain": [
       "<plotly.tools.PlotlyDisplay object>"
      ]
     },
     "execution_count": 34,
     "metadata": {},
     "output_type": "execute_result"
    }
   ],
   "source": [
    "import plotly.plotly as py\n",
    "import plotly.graph_objs as go\n",
    "\n",
    "mapbox_access_token = 'pk.eyJ1IjoiZ3JheWN5ZCIsImEiOiJjanRvMDNlZnIwMjJrNDNyNG9rN3NkMjR5In0.Kes2DfHv8snHlGbUXACo1w'\n",
    "\n",
    "data = [\n",
    "    go.Scattermapbox(\n",
    "        lat=['-2.26','-2.576','-2.834',\n",
    "             '-2.605','-3.203','-2.34',\n",
    "             '-3.183','-2.188','-2.38',\n",
    "             '-3.139','-3.038','-2.772',\n",
    "             '-2.159','-2.233','-1.943',\n",
    "             '-2.103','-2.316','-2.908'\n",
    "             ],\n",
    "        lon=['34.075','34.487','34.588',\n",
    "             '35.067','34.756','34.20',\n",
    "             '35.093','34.18','34.30',\n",
    "             '35.389','35.720','35.590',\n",
    "             '34.431','34.755','34.917',\n",
    "             '35.179','34.50','34.843'\n",
    "             ],\n",
    "        mode='markers',\n",
    "        marker=go.scattermapbox.Marker(\n",
    "            size=9\n",
    "        ),\n",
    "        text=[\"C1\",\"C2\",\"C3\",\n",
    "             \"C4\",\"C5\",\"C6\",\n",
    "             \"C7\",\"C8\",\"C9\",\n",
    "              \"C10\",\"C11\",\"C12\",\n",
    "             'C13','C14','C15',\n",
    "             'C16','C17','C18'],\n",
    "    )\n",
    "]\n",
    "\n",
    "layout = go.Layout(\n",
    "    autosize=True,\n",
    "    hovermode='closest',\n",
    "    mapbox=go.layout.Mapbox(\n",
    "        accesstoken=mapbox_access_token,\n",
    "        bearing=0,\n",
    "        center=go.layout.mapbox.Center(\n",
    "            lat=-2.6869,\n",
    "            lon=34.9165\n",
    "        ),\n",
    "        pitch=0,\n",
    "        zoom=10\n",
    "    ),\n",
    ")\n",
    "\n",
    "fig = go.Figure(data=data, layout=layout)\n",
    "py.iplot(fig, filename='Multiple Mapbox')"
   ]
  },
  {
   "cell_type": "code",
   "execution_count": null,
   "metadata": {},
   "outputs": [],
   "source": []
  }
 ],
 "metadata": {
  "kernelspec": {
   "display_name": "Python 3",
   "language": "python",
   "name": "python3"
  },
  "language_info": {
   "codemirror_mode": {
    "name": "ipython",
    "version": 3
   },
   "file_extension": ".py",
   "mimetype": "text/x-python",
   "name": "python",
   "nbconvert_exporter": "python",
   "pygments_lexer": "ipython3",
   "version": "3.7.1"
  }
 },
 "nbformat": 4,
 "nbformat_minor": 2
}
