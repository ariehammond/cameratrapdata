{
 "cells": [
  {
   "cell_type": "code",
   "execution_count": 5,
   "metadata": {},
   "outputs": [],
   "source": [
    "import plotly_express as px\n",
    "import pandas as pd\n",
    "url = 'bubbledata.csv'\n",
    "dataset = pd.read_csv(url)"
   ]
  },
  {
   "cell_type": "code",
   "execution_count": 6,
   "metadata": {},
   "outputs": [
    {
     "data": {
      "application/vnd.plotly.v1+json": {
       "config": {
        "linkText": "Export to plot.ly",
        "plotlyServerURL": "https://plot.ly",
        "showLink": false
       },
       "data": [
        {
         "hovertemplate": "area=a<br>month=%{x}<br>giraffe=%{y}<extra></extra>",
         "legendgroup": "area=a",
         "marker": {
          "color": "#636efa",
          "symbol": "circle"
         },
         "mode": "markers",
         "name": "area=a",
         "showlegend": true,
         "type": "scatter",
         "uid": "6638063a-2be0-4035-87de-63a8ea351dc5",
         "x": [
          1,
          2,
          3,
          4,
          5,
          6,
          7,
          8,
          9,
          10,
          11,
          12
         ],
         "xaxis": "x",
         "y": [
          70,
          73,
          89,
          66,
          97,
          168,
          180,
          177,
          125,
          81,
          62,
          54
         ],
         "yaxis": "y"
        },
        {
         "alignmentgroup": "True",
         "legendgroup": "area=a",
         "marker": {
          "color": "#636efa",
          "symbol": "circle"
         },
         "name": "area=a",
         "notched": true,
         "offsetgroup": "area=a",
         "showlegend": false,
         "type": "box",
         "uid": "0d5f4283-5db2-4dc6-b5aa-90bb166eb66f",
         "x": [
          1,
          2,
          3,
          4,
          5,
          6,
          7,
          8,
          9,
          10,
          11,
          12
         ],
         "xaxis": "x",
         "yaxis": "y2"
        },
        {
         "alignmentgroup": "True",
         "legendgroup": "area=a",
         "marker": {
          "color": "#636efa",
          "symbol": "circle"
         },
         "name": "area=a",
         "offsetgroup": "area=a",
         "scalegroup": "y",
         "showlegend": false,
         "type": "violin",
         "uid": "4e64959e-27d5-4ec8-b5ad-8c655e6c848c",
         "xaxis": "x2",
         "y": [
          70,
          73,
          89,
          66,
          97,
          168,
          180,
          177,
          125,
          81,
          62,
          54
         ],
         "yaxis": "y"
        },
        {
         "hovertemplate": "area=b<br>month=%{x}<br>giraffe=%{y}<extra></extra>",
         "legendgroup": "area=b",
         "marker": {
          "color": "#EF553B",
          "symbol": "circle"
         },
         "mode": "markers",
         "name": "area=b",
         "showlegend": true,
         "type": "scatter",
         "uid": "d5251a7d-0c4c-4684-a275-0edd62c0a0dd",
         "x": [
          1,
          2,
          3,
          4,
          5,
          6,
          7,
          8,
          9,
          10,
          11,
          12
         ],
         "xaxis": "x",
         "y": [
          101,
          74,
          65,
          88,
          59,
          96,
          112,
          143,
          150,
          106,
          87,
          71
         ],
         "yaxis": "y"
        },
        {
         "alignmentgroup": "True",
         "legendgroup": "area=b",
         "marker": {
          "color": "#EF553B",
          "symbol": "circle"
         },
         "name": "area=b",
         "notched": true,
         "offsetgroup": "area=b",
         "showlegend": false,
         "type": "box",
         "uid": "d3198d46-7c62-47d5-974a-72288132a775",
         "x": [
          1,
          2,
          3,
          4,
          5,
          6,
          7,
          8,
          9,
          10,
          11,
          12
         ],
         "xaxis": "x",
         "yaxis": "y2"
        },
        {
         "alignmentgroup": "True",
         "legendgroup": "area=b",
         "marker": {
          "color": "#EF553B",
          "symbol": "circle"
         },
         "name": "area=b",
         "offsetgroup": "area=b",
         "scalegroup": "y",
         "showlegend": false,
         "type": "violin",
         "uid": "000bb36a-0e2e-4aea-a306-6580a7b48258",
         "xaxis": "x2",
         "y": [
          101,
          74,
          65,
          88,
          59,
          96,
          112,
          143,
          150,
          106,
          87,
          71
         ],
         "yaxis": "y"
        },
        {
         "hovertemplate": "area=c<br>month=%{x}<br>giraffe=%{y}<extra></extra>",
         "legendgroup": "area=c",
         "marker": {
          "color": "#00cc96",
          "symbol": "circle"
         },
         "mode": "markers",
         "name": "area=c",
         "showlegend": true,
         "type": "scatter",
         "uid": "0fe2cfd5-a146-4bd2-95e8-522453b5cfc0",
         "x": [
          1,
          2,
          3,
          4,
          5,
          6,
          7,
          8,
          9,
          10,
          11,
          12
         ],
         "xaxis": "x",
         "y": [
          68,
          52,
          64,
          46,
          55,
          70,
          68,
          62,
          86,
          103,
          116,
          89
         ],
         "yaxis": "y"
        },
        {
         "alignmentgroup": "True",
         "legendgroup": "area=c",
         "marker": {
          "color": "#00cc96",
          "symbol": "circle"
         },
         "name": "area=c",
         "notched": true,
         "offsetgroup": "area=c",
         "showlegend": false,
         "type": "box",
         "uid": "d6cc8846-40cb-4c8f-88ea-009053cafc4f",
         "x": [
          1,
          2,
          3,
          4,
          5,
          6,
          7,
          8,
          9,
          10,
          11,
          12
         ],
         "xaxis": "x",
         "yaxis": "y2"
        },
        {
         "alignmentgroup": "True",
         "legendgroup": "area=c",
         "marker": {
          "color": "#00cc96",
          "symbol": "circle"
         },
         "name": "area=c",
         "offsetgroup": "area=c",
         "scalegroup": "y",
         "showlegend": false,
         "type": "violin",
         "uid": "44e5f702-7706-4114-8a75-b4f736ca43b5",
         "xaxis": "x2",
         "y": [
          68,
          52,
          64,
          46,
          55,
          70,
          68,
          62,
          86,
          103,
          116,
          89
         ],
         "yaxis": "y"
        },
        {
         "hovertemplate": "area=d<br>month=%{x}<br>giraffe=%{y}<extra></extra>",
         "legendgroup": "area=d",
         "marker": {
          "color": "#ab63fa",
          "symbol": "circle"
         },
         "mode": "markers",
         "name": "area=d",
         "showlegend": true,
         "type": "scatter",
         "uid": "67236d63-0da0-4572-9a90-fb32404c143c",
         "x": [
          1,
          2,
          3,
          4,
          5,
          6,
          7,
          8,
          9,
          10,
          11,
          12
         ],
         "xaxis": "x",
         "y": [
          103,
          86,
          70,
          55,
          61,
          49,
          70,
          73,
          62,
          87,
          99,
          121
         ],
         "yaxis": "y"
        },
        {
         "alignmentgroup": "True",
         "legendgroup": "area=d",
         "marker": {
          "color": "#ab63fa",
          "symbol": "circle"
         },
         "name": "area=d",
         "notched": true,
         "offsetgroup": "area=d",
         "showlegend": false,
         "type": "box",
         "uid": "b62f49c0-02a6-4689-b246-52a720a09041",
         "x": [
          1,
          2,
          3,
          4,
          5,
          6,
          7,
          8,
          9,
          10,
          11,
          12
         ],
         "xaxis": "x",
         "yaxis": "y2"
        },
        {
         "alignmentgroup": "True",
         "legendgroup": "area=d",
         "marker": {
          "color": "#ab63fa",
          "symbol": "circle"
         },
         "name": "area=d",
         "offsetgroup": "area=d",
         "scalegroup": "y",
         "showlegend": false,
         "type": "violin",
         "uid": "4747d2b7-3d63-49ba-b3b6-c76b64d7c83b",
         "xaxis": "x2",
         "y": [
          103,
          86,
          70,
          55,
          61,
          49,
          70,
          73,
          62,
          87,
          99,
          121
         ],
         "yaxis": "y"
        },
        {
         "hovertemplate": "area=e<br>month=%{x}<br>giraffe=%{y}<extra></extra>",
         "legendgroup": "area=e",
         "marker": {
          "color": "#19d3f3",
          "symbol": "circle"
         },
         "mode": "markers",
         "name": "area=e",
         "showlegend": true,
         "type": "scatter",
         "uid": "0610159a-9871-4706-88d3-7cadc3e64c21",
         "x": [
          1,
          2,
          3,
          4,
          5,
          6,
          7,
          8,
          9,
          10,
          11,
          12
         ],
         "xaxis": "x",
         "y": [
          93,
          144,
          102,
          65,
          61,
          73,
          80,
          81,
          66,
          79,
          71,
          90
         ],
         "yaxis": "y"
        },
        {
         "alignmentgroup": "True",
         "legendgroup": "area=e",
         "marker": {
          "color": "#19d3f3",
          "symbol": "circle"
         },
         "name": "area=e",
         "notched": true,
         "offsetgroup": "area=e",
         "showlegend": false,
         "type": "box",
         "uid": "0415c3c8-25f3-417f-80f6-874c687afde3",
         "x": [
          1,
          2,
          3,
          4,
          5,
          6,
          7,
          8,
          9,
          10,
          11,
          12
         ],
         "xaxis": "x",
         "yaxis": "y2"
        },
        {
         "alignmentgroup": "True",
         "legendgroup": "area=e",
         "marker": {
          "color": "#19d3f3",
          "symbol": "circle"
         },
         "name": "area=e",
         "offsetgroup": "area=e",
         "scalegroup": "y",
         "showlegend": false,
         "type": "violin",
         "uid": "a3410264-da2a-4c43-9aa8-cd88032b6bd0",
         "xaxis": "x2",
         "y": [
          93,
          144,
          102,
          65,
          61,
          73,
          80,
          81,
          66,
          79,
          71,
          90
         ],
         "yaxis": "y"
        },
        {
         "hovertemplate": "area=f<br>month=%{x}<br>giraffe=%{y}<extra></extra>",
         "legendgroup": "area=f",
         "marker": {
          "color": "#e763fa",
          "symbol": "circle"
         },
         "mode": "markers",
         "name": "area=f",
         "showlegend": true,
         "type": "scatter",
         "uid": "4f33983e-e685-4bc3-a7ed-711873e7ec77",
         "x": [
          1,
          2,
          3,
          4,
          5,
          6,
          7,
          8,
          9,
          10,
          11,
          12
         ],
         "xaxis": "x",
         "y": [
          61,
          80,
          89,
          110,
          122,
          69,
          73,
          56,
          61,
          69,
          48,
          70
         ],
         "yaxis": "y"
        },
        {
         "alignmentgroup": "True",
         "legendgroup": "area=f",
         "marker": {
          "color": "#e763fa",
          "symbol": "circle"
         },
         "name": "area=f",
         "notched": true,
         "offsetgroup": "area=f",
         "showlegend": false,
         "type": "box",
         "uid": "c944e626-6b2d-4356-9bd0-83fbc4d71522",
         "x": [
          1,
          2,
          3,
          4,
          5,
          6,
          7,
          8,
          9,
          10,
          11,
          12
         ],
         "xaxis": "x",
         "yaxis": "y2"
        },
        {
         "alignmentgroup": "True",
         "legendgroup": "area=f",
         "marker": {
          "color": "#e763fa",
          "symbol": "circle"
         },
         "name": "area=f",
         "offsetgroup": "area=f",
         "scalegroup": "y",
         "showlegend": false,
         "type": "violin",
         "uid": "1b773f54-1d8e-4745-bf49-d006874e98fa",
         "xaxis": "x2",
         "y": [
          61,
          80,
          89,
          110,
          122,
          69,
          73,
          56,
          61,
          69,
          48,
          70
         ],
         "yaxis": "y"
        }
       ],
       "layout": {
        "barmode": "overlay",
        "height": 600,
        "legend": {
         "tracegroupgap": 0
        },
        "margin": {
         "t": 60
        },
        "template": {
         "data": {
          "bar": [
           {
            "marker": {
             "line": {
              "color": "#E5ECF6",
              "width": 0.5
             }
            },
            "type": "bar"
           }
          ],
          "barpolar": [
           {
            "marker": {
             "line": {
              "color": "#E5ECF6",
              "width": 0.5
             }
            },
            "type": "barpolar"
           }
          ],
          "carpet": [
           {
            "aaxis": {
             "endlinecolor": "#2a3f5f",
             "gridcolor": "white",
             "linecolor": "white",
             "minorgridcolor": "white",
             "startlinecolor": "#2a3f5f"
            },
            "baxis": {
             "endlinecolor": "#2a3f5f",
             "gridcolor": "white",
             "linecolor": "white",
             "minorgridcolor": "white",
             "startlinecolor": "#2a3f5f"
            },
            "type": "carpet"
           }
          ],
          "choropleth": [
           {
            "colorbar": {
             "outlinewidth": 0,
             "ticks": ""
            },
            "type": "choropleth"
           }
          ],
          "contour": [
           {
            "autocolorscale": true,
            "colorbar": {
             "outlinewidth": 0,
             "ticks": ""
            },
            "type": "contour"
           }
          ],
          "contourcarpet": [
           {
            "colorbar": {
             "outlinewidth": 0,
             "ticks": ""
            },
            "type": "contourcarpet"
           }
          ],
          "heatmap": [
           {
            "autocolorscale": true,
            "colorbar": {
             "outlinewidth": 0,
             "ticks": ""
            },
            "type": "heatmap"
           }
          ],
          "heatmapgl": [
           {
            "colorbar": {
             "outlinewidth": 0,
             "ticks": ""
            },
            "type": "heatmapgl"
           }
          ],
          "histogram": [
           {
            "marker": {
             "colorbar": {
              "outlinewidth": 0,
              "ticks": ""
             }
            },
            "type": "histogram"
           }
          ],
          "histogram2d": [
           {
            "autocolorscale": true,
            "colorbar": {
             "outlinewidth": 0,
             "ticks": ""
            },
            "type": "histogram2d"
           }
          ],
          "histogram2dcontour": [
           {
            "autocolorscale": true,
            "colorbar": {
             "outlinewidth": 0,
             "ticks": ""
            },
            "type": "histogram2dcontour"
           }
          ],
          "mesh3d": [
           {
            "colorbar": {
             "outlinewidth": 0,
             "ticks": ""
            },
            "type": "mesh3d"
           }
          ],
          "parcoords": [
           {
            "line": {
             "colorbar": {
              "outlinewidth": 0,
              "ticks": ""
             }
            },
            "type": "parcoords"
           }
          ],
          "scatter": [
           {
            "marker": {
             "colorbar": {
              "outlinewidth": 0,
              "ticks": ""
             }
            },
            "type": "scatter"
           }
          ],
          "scatter3d": [
           {
            "marker": {
             "colorbar": {
              "outlinewidth": 0,
              "ticks": ""
             }
            },
            "type": "scatter3d"
           }
          ],
          "scattercarpet": [
           {
            "marker": {
             "colorbar": {
              "outlinewidth": 0,
              "ticks": ""
             }
            },
            "type": "scattercarpet"
           }
          ],
          "scattergeo": [
           {
            "marker": {
             "colorbar": {
              "outlinewidth": 0,
              "ticks": ""
             }
            },
            "type": "scattergeo"
           }
          ],
          "scattergl": [
           {
            "marker": {
             "colorbar": {
              "outlinewidth": 0,
              "ticks": ""
             }
            },
            "type": "scattergl"
           }
          ],
          "scattermapbox": [
           {
            "marker": {
             "colorbar": {
              "outlinewidth": 0,
              "ticks": ""
             }
            },
            "type": "scattermapbox"
           }
          ],
          "scatterpolar": [
           {
            "marker": {
             "colorbar": {
              "outlinewidth": 0,
              "ticks": ""
             }
            },
            "type": "scatterpolar"
           }
          ],
          "scatterpolargl": [
           {
            "marker": {
             "colorbar": {
              "outlinewidth": 0,
              "ticks": ""
             }
            },
            "type": "scatterpolargl"
           }
          ],
          "scatterternary": [
           {
            "marker": {
             "colorbar": {
              "outlinewidth": 0,
              "ticks": ""
             }
            },
            "type": "scatterternary"
           }
          ],
          "surface": [
           {
            "colorbar": {
             "outlinewidth": 0,
             "ticks": ""
            },
            "type": "surface"
           }
          ],
          "table": [
           {
            "cells": {
             "fill": {
              "color": "#EBF0F8"
             },
             "line": {
              "color": "white"
             }
            },
            "header": {
             "fill": {
              "color": "#C8D4E3"
             },
             "line": {
              "color": "white"
             }
            },
            "type": "table"
           }
          ]
         },
         "layout": {
          "annotationdefaults": {
           "arrowcolor": "#506784",
           "arrowhead": 0,
           "arrowwidth": 1
          },
          "colorscale": {
           "diverging": [
            [
             0,
             "#8e0152"
            ],
            [
             0.1,
             "#c51b7d"
            ],
            [
             0.2,
             "#de77ae"
            ],
            [
             0.3,
             "#f1b6da"
            ],
            [
             0.4,
             "#fde0ef"
            ],
            [
             0.5,
             "#f7f7f7"
            ],
            [
             0.6,
             "#e6f5d0"
            ],
            [
             0.7,
             "#b8e186"
            ],
            [
             0.8,
             "#7fbc41"
            ],
            [
             0.9,
             "#4d9221"
            ],
            [
             1,
             "#276419"
            ]
           ],
           "sequential": [
            [
             0,
             "#0508b8"
            ],
            [
             0.0893854748603352,
             "#1910d8"
            ],
            [
             0.1787709497206704,
             "#3c19f0"
            ],
            [
             0.2681564245810056,
             "#6b1cfb"
            ],
            [
             0.3575418994413408,
             "#981cfd"
            ],
            [
             0.44692737430167595,
             "#bf1cfd"
            ],
            [
             0.5363128491620112,
             "#dd2bfd"
            ],
            [
             0.6256983240223464,
             "#f246fe"
            ],
            [
             0.7150837988826816,
             "#fc67fd"
            ],
            [
             0.8044692737430168,
             "#fe88fc"
            ],
            [
             0.8938547486033519,
             "#fea5fd"
            ],
            [
             0.9832402234636871,
             "#febefe"
            ],
            [
             1,
             "#fec3fe"
            ]
           ],
           "sequentialminus": [
            [
             0,
             "#0508b8"
            ],
            [
             0.0893854748603352,
             "#1910d8"
            ],
            [
             0.1787709497206704,
             "#3c19f0"
            ],
            [
             0.2681564245810056,
             "#6b1cfb"
            ],
            [
             0.3575418994413408,
             "#981cfd"
            ],
            [
             0.44692737430167595,
             "#bf1cfd"
            ],
            [
             0.5363128491620112,
             "#dd2bfd"
            ],
            [
             0.6256983240223464,
             "#f246fe"
            ],
            [
             0.7150837988826816,
             "#fc67fd"
            ],
            [
             0.8044692737430168,
             "#fe88fc"
            ],
            [
             0.8938547486033519,
             "#fea5fd"
            ],
            [
             0.9832402234636871,
             "#febefe"
            ],
            [
             1,
             "#fec3fe"
            ]
           ]
          },
          "colorway": [
           "#636efa",
           "#EF553B",
           "#00cc96",
           "#ab63fa",
           "#19d3f3",
           "#e763fa",
           "#FECB52",
           "#FFA15A",
           "#FF6692",
           "#B6E880"
          ],
          "font": {
           "color": "#2a3f5f"
          },
          "geo": {
           "bgcolor": "white",
           "lakecolor": "white",
           "landcolor": "#E5ECF6",
           "showlakes": true,
           "showland": true,
           "subunitcolor": "white"
          },
          "hovermode": "closest",
          "mapbox": {
           "style": "light"
          },
          "paper_bgcolor": "white",
          "plot_bgcolor": "#E5ECF6",
          "polar": {
           "angularaxis": {
            "gridcolor": "white",
            "linecolor": "white",
            "ticks": ""
           },
           "bgcolor": "#E5ECF6",
           "radialaxis": {
            "gridcolor": "white",
            "linecolor": "white",
            "ticks": ""
           }
          },
          "scene": {
           "xaxis": {
            "backgroundcolor": "#E5ECF6",
            "gridcolor": "white",
            "gridwidth": 2,
            "linecolor": "white",
            "showbackground": true,
            "ticks": "",
            "zerolinecolor": "white"
           },
           "yaxis": {
            "backgroundcolor": "#E5ECF6",
            "gridcolor": "white",
            "gridwidth": 2,
            "linecolor": "white",
            "showbackground": true,
            "ticks": "",
            "zerolinecolor": "white"
           },
           "zaxis": {
            "backgroundcolor": "#E5ECF6",
            "gridcolor": "white",
            "gridwidth": 2,
            "linecolor": "white",
            "showbackground": true,
            "ticks": "",
            "zerolinecolor": "white"
           }
          },
          "shapedefaults": {
           "fillcolor": "#506784",
           "line": {
            "width": 0
           },
           "opacity": 0.4
          },
          "ternary": {
           "aaxis": {
            "gridcolor": "white",
            "linecolor": "white",
            "ticks": ""
           },
           "baxis": {
            "gridcolor": "white",
            "linecolor": "white",
            "ticks": ""
           },
           "bgcolor": "#E5ECF6",
           "caxis": {
            "gridcolor": "white",
            "linecolor": "white",
            "ticks": ""
           }
          },
          "title": {
           "x": 0.05
          },
          "xaxis": {
           "automargin": true,
           "gridcolor": "white",
           "linecolor": "white",
           "ticks": "",
           "zerolinecolor": "white",
           "zerolinewidth": 2
          },
          "yaxis": {
           "automargin": true,
           "gridcolor": "white",
           "linecolor": "white",
           "ticks": "",
           "zerolinecolor": "white",
           "zerolinewidth": 2
          }
         }
        },
        "violinmode": "overlay",
        "xaxis": {
         "domain": [
          0,
          0.74
         ],
         "showgrid": true,
         "title": {
          "text": "month"
         }
        },
        "xaxis2": {
         "domain": [
          0.745,
          1
         ],
         "showticklabels": false
        },
        "yaxis": {
         "domain": [
          0,
          0.74
         ],
         "showgrid": true,
         "title": {
          "text": "giraffe"
         }
        },
        "yaxis2": {
         "domain": [
          0.745,
          1
         ],
         "showticklabels": false
        }
       }
      },
      "text/html": [
       "<div id=\"c13859e5-5676-4bb1-a1f8-c9afb9d0822f\" style=\"height: 600px; width: 100%;\" class=\"plotly-graph-div\"></div><script type=\"text/javascript\">require([\"plotly\"], function(Plotly) { window.PLOTLYENV=window.PLOTLYENV || {};window.PLOTLYENV.BASE_URL=\"https://plot.ly\";\n",
       "if (document.getElementById(\"c13859e5-5676-4bb1-a1f8-c9afb9d0822f\")) {\n",
       "    Plotly.newPlot(\"c13859e5-5676-4bb1-a1f8-c9afb9d0822f\", [{\"hovertemplate\": \"area=a<br>month=%{x}<br>giraffe=%{y}<extra></extra>\", \"legendgroup\": \"area=a\", \"marker\": {\"color\": \"#636efa\", \"symbol\": \"circle\"}, \"mode\": \"markers\", \"name\": \"area=a\", \"showlegend\": true, \"x\": [1, 2, 3, 4, 5, 6, 7, 8, 9, 10, 11, 12], \"xaxis\": \"x\", \"y\": [70, 73, 89, 66, 97, 168, 180, 177, 125, 81, 62, 54], \"yaxis\": \"y\", \"type\": \"scatter\", \"uid\": \"6638063a-2be0-4035-87de-63a8ea351dc5\"}, {\"alignmentgroup\": \"True\", \"legendgroup\": \"area=a\", \"marker\": {\"color\": \"#636efa\", \"symbol\": \"circle\"}, \"name\": \"area=a\", \"notched\": true, \"offsetgroup\": \"area=a\", \"showlegend\": false, \"x\": [1, 2, 3, 4, 5, 6, 7, 8, 9, 10, 11, 12], \"xaxis\": \"x\", \"yaxis\": \"y2\", \"type\": \"box\", \"uid\": \"0d5f4283-5db2-4dc6-b5aa-90bb166eb66f\"}, {\"alignmentgroup\": \"True\", \"legendgroup\": \"area=a\", \"marker\": {\"color\": \"#636efa\", \"symbol\": \"circle\"}, \"name\": \"area=a\", \"offsetgroup\": \"area=a\", \"scalegroup\": \"y\", \"showlegend\": false, \"xaxis\": \"x2\", \"y\": [70, 73, 89, 66, 97, 168, 180, 177, 125, 81, 62, 54], \"yaxis\": \"y\", \"type\": \"violin\", \"uid\": \"4e64959e-27d5-4ec8-b5ad-8c655e6c848c\"}, {\"hovertemplate\": \"area=b<br>month=%{x}<br>giraffe=%{y}<extra></extra>\", \"legendgroup\": \"area=b\", \"marker\": {\"color\": \"#EF553B\", \"symbol\": \"circle\"}, \"mode\": \"markers\", \"name\": \"area=b\", \"showlegend\": true, \"x\": [1, 2, 3, 4, 5, 6, 7, 8, 9, 10, 11, 12], \"xaxis\": \"x\", \"y\": [101, 74, 65, 88, 59, 96, 112, 143, 150, 106, 87, 71], \"yaxis\": \"y\", \"type\": \"scatter\", \"uid\": \"d5251a7d-0c4c-4684-a275-0edd62c0a0dd\"}, {\"alignmentgroup\": \"True\", \"legendgroup\": \"area=b\", \"marker\": {\"color\": \"#EF553B\", \"symbol\": \"circle\"}, \"name\": \"area=b\", \"notched\": true, \"offsetgroup\": \"area=b\", \"showlegend\": false, \"x\": [1, 2, 3, 4, 5, 6, 7, 8, 9, 10, 11, 12], \"xaxis\": \"x\", \"yaxis\": \"y2\", \"type\": \"box\", \"uid\": \"d3198d46-7c62-47d5-974a-72288132a775\"}, {\"alignmentgroup\": \"True\", \"legendgroup\": \"area=b\", \"marker\": {\"color\": \"#EF553B\", \"symbol\": \"circle\"}, \"name\": \"area=b\", \"offsetgroup\": \"area=b\", \"scalegroup\": \"y\", \"showlegend\": false, \"xaxis\": \"x2\", \"y\": [101, 74, 65, 88, 59, 96, 112, 143, 150, 106, 87, 71], \"yaxis\": \"y\", \"type\": \"violin\", \"uid\": \"000bb36a-0e2e-4aea-a306-6580a7b48258\"}, {\"hovertemplate\": \"area=c<br>month=%{x}<br>giraffe=%{y}<extra></extra>\", \"legendgroup\": \"area=c\", \"marker\": {\"color\": \"#00cc96\", \"symbol\": \"circle\"}, \"mode\": \"markers\", \"name\": \"area=c\", \"showlegend\": true, \"x\": [1, 2, 3, 4, 5, 6, 7, 8, 9, 10, 11, 12], \"xaxis\": \"x\", \"y\": [68, 52, 64, 46, 55, 70, 68, 62, 86, 103, 116, 89], \"yaxis\": \"y\", \"type\": \"scatter\", \"uid\": \"0fe2cfd5-a146-4bd2-95e8-522453b5cfc0\"}, {\"alignmentgroup\": \"True\", \"legendgroup\": \"area=c\", \"marker\": {\"color\": \"#00cc96\", \"symbol\": \"circle\"}, \"name\": \"area=c\", \"notched\": true, \"offsetgroup\": \"area=c\", \"showlegend\": false, \"x\": [1, 2, 3, 4, 5, 6, 7, 8, 9, 10, 11, 12], \"xaxis\": \"x\", \"yaxis\": \"y2\", \"type\": \"box\", \"uid\": \"d6cc8846-40cb-4c8f-88ea-009053cafc4f\"}, {\"alignmentgroup\": \"True\", \"legendgroup\": \"area=c\", \"marker\": {\"color\": \"#00cc96\", \"symbol\": \"circle\"}, \"name\": \"area=c\", \"offsetgroup\": \"area=c\", \"scalegroup\": \"y\", \"showlegend\": false, \"xaxis\": \"x2\", \"y\": [68, 52, 64, 46, 55, 70, 68, 62, 86, 103, 116, 89], \"yaxis\": \"y\", \"type\": \"violin\", \"uid\": \"44e5f702-7706-4114-8a75-b4f736ca43b5\"}, {\"hovertemplate\": \"area=d<br>month=%{x}<br>giraffe=%{y}<extra></extra>\", \"legendgroup\": \"area=d\", \"marker\": {\"color\": \"#ab63fa\", \"symbol\": \"circle\"}, \"mode\": \"markers\", \"name\": \"area=d\", \"showlegend\": true, \"x\": [1, 2, 3, 4, 5, 6, 7, 8, 9, 10, 11, 12], \"xaxis\": \"x\", \"y\": [103, 86, 70, 55, 61, 49, 70, 73, 62, 87, 99, 121], \"yaxis\": \"y\", \"type\": \"scatter\", \"uid\": \"67236d63-0da0-4572-9a90-fb32404c143c\"}, {\"alignmentgroup\": \"True\", \"legendgroup\": \"area=d\", \"marker\": {\"color\": \"#ab63fa\", \"symbol\": \"circle\"}, \"name\": \"area=d\", \"notched\": true, \"offsetgroup\": \"area=d\", \"showlegend\": false, \"x\": [1, 2, 3, 4, 5, 6, 7, 8, 9, 10, 11, 12], \"xaxis\": \"x\", \"yaxis\": \"y2\", \"type\": \"box\", \"uid\": \"b62f49c0-02a6-4689-b246-52a720a09041\"}, {\"alignmentgroup\": \"True\", \"legendgroup\": \"area=d\", \"marker\": {\"color\": \"#ab63fa\", \"symbol\": \"circle\"}, \"name\": \"area=d\", \"offsetgroup\": \"area=d\", \"scalegroup\": \"y\", \"showlegend\": false, \"xaxis\": \"x2\", \"y\": [103, 86, 70, 55, 61, 49, 70, 73, 62, 87, 99, 121], \"yaxis\": \"y\", \"type\": \"violin\", \"uid\": \"4747d2b7-3d63-49ba-b3b6-c76b64d7c83b\"}, {\"hovertemplate\": \"area=e<br>month=%{x}<br>giraffe=%{y}<extra></extra>\", \"legendgroup\": \"area=e\", \"marker\": {\"color\": \"#19d3f3\", \"symbol\": \"circle\"}, \"mode\": \"markers\", \"name\": \"area=e\", \"showlegend\": true, \"x\": [1, 2, 3, 4, 5, 6, 7, 8, 9, 10, 11, 12], \"xaxis\": \"x\", \"y\": [93, 144, 102, 65, 61, 73, 80, 81, 66, 79, 71, 90], \"yaxis\": \"y\", \"type\": \"scatter\", \"uid\": \"0610159a-9871-4706-88d3-7cadc3e64c21\"}, {\"alignmentgroup\": \"True\", \"legendgroup\": \"area=e\", \"marker\": {\"color\": \"#19d3f3\", \"symbol\": \"circle\"}, \"name\": \"area=e\", \"notched\": true, \"offsetgroup\": \"area=e\", \"showlegend\": false, \"x\": [1, 2, 3, 4, 5, 6, 7, 8, 9, 10, 11, 12], \"xaxis\": \"x\", \"yaxis\": \"y2\", \"type\": \"box\", \"uid\": \"0415c3c8-25f3-417f-80f6-874c687afde3\"}, {\"alignmentgroup\": \"True\", \"legendgroup\": \"area=e\", \"marker\": {\"color\": \"#19d3f3\", \"symbol\": \"circle\"}, \"name\": \"area=e\", \"offsetgroup\": \"area=e\", \"scalegroup\": \"y\", \"showlegend\": false, \"xaxis\": \"x2\", \"y\": [93, 144, 102, 65, 61, 73, 80, 81, 66, 79, 71, 90], \"yaxis\": \"y\", \"type\": \"violin\", \"uid\": \"a3410264-da2a-4c43-9aa8-cd88032b6bd0\"}, {\"hovertemplate\": \"area=f<br>month=%{x}<br>giraffe=%{y}<extra></extra>\", \"legendgroup\": \"area=f\", \"marker\": {\"color\": \"#e763fa\", \"symbol\": \"circle\"}, \"mode\": \"markers\", \"name\": \"area=f\", \"showlegend\": true, \"x\": [1, 2, 3, 4, 5, 6, 7, 8, 9, 10, 11, 12], \"xaxis\": \"x\", \"y\": [61, 80, 89, 110, 122, 69, 73, 56, 61, 69, 48, 70], \"yaxis\": \"y\", \"type\": \"scatter\", \"uid\": \"4f33983e-e685-4bc3-a7ed-711873e7ec77\"}, {\"alignmentgroup\": \"True\", \"legendgroup\": \"area=f\", \"marker\": {\"color\": \"#e763fa\", \"symbol\": \"circle\"}, \"name\": \"area=f\", \"notched\": true, \"offsetgroup\": \"area=f\", \"showlegend\": false, \"x\": [1, 2, 3, 4, 5, 6, 7, 8, 9, 10, 11, 12], \"xaxis\": \"x\", \"yaxis\": \"y2\", \"type\": \"box\", \"uid\": \"c944e626-6b2d-4356-9bd0-83fbc4d71522\"}, {\"alignmentgroup\": \"True\", \"legendgroup\": \"area=f\", \"marker\": {\"color\": \"#e763fa\", \"symbol\": \"circle\"}, \"name\": \"area=f\", \"offsetgroup\": \"area=f\", \"scalegroup\": \"y\", \"showlegend\": false, \"xaxis\": \"x2\", \"y\": [61, 80, 89, 110, 122, 69, 73, 56, 61, 69, 48, 70], \"yaxis\": \"y\", \"type\": \"violin\", \"uid\": \"1b773f54-1d8e-4745-bf49-d006874e98fa\"}], {\"height\": 600, \"legend\": {\"tracegroupgap\": 0}, \"margin\": {\"t\": 60}, \"template\": {\"data\": {\"barpolar\": [{\"marker\": {\"line\": {\"color\": \"#E5ECF6\", \"width\": 0.5}}, \"type\": \"barpolar\"}], \"bar\": [{\"marker\": {\"line\": {\"color\": \"#E5ECF6\", \"width\": 0.5}}, \"type\": \"bar\"}], \"carpet\": [{\"aaxis\": {\"endlinecolor\": \"#2a3f5f\", \"gridcolor\": \"white\", \"linecolor\": \"white\", \"minorgridcolor\": \"white\", \"startlinecolor\": \"#2a3f5f\"}, \"baxis\": {\"endlinecolor\": \"#2a3f5f\", \"gridcolor\": \"white\", \"linecolor\": \"white\", \"minorgridcolor\": \"white\", \"startlinecolor\": \"#2a3f5f\"}, \"type\": \"carpet\"}], \"choropleth\": [{\"colorbar\": {\"outlinewidth\": 0, \"ticks\": \"\"}, \"type\": \"choropleth\"}], \"contourcarpet\": [{\"colorbar\": {\"outlinewidth\": 0, \"ticks\": \"\"}, \"type\": \"contourcarpet\"}], \"contour\": [{\"autocolorscale\": true, \"colorbar\": {\"outlinewidth\": 0, \"ticks\": \"\"}, \"type\": \"contour\"}], \"heatmapgl\": [{\"colorbar\": {\"outlinewidth\": 0, \"ticks\": \"\"}, \"type\": \"heatmapgl\"}], \"heatmap\": [{\"autocolorscale\": true, \"colorbar\": {\"outlinewidth\": 0, \"ticks\": \"\"}, \"type\": \"heatmap\"}], \"histogram2dcontour\": [{\"autocolorscale\": true, \"colorbar\": {\"outlinewidth\": 0, \"ticks\": \"\"}, \"type\": \"histogram2dcontour\"}], \"histogram2d\": [{\"autocolorscale\": true, \"colorbar\": {\"outlinewidth\": 0, \"ticks\": \"\"}, \"type\": \"histogram2d\"}], \"histogram\": [{\"marker\": {\"colorbar\": {\"outlinewidth\": 0, \"ticks\": \"\"}}, \"type\": \"histogram\"}], \"mesh3d\": [{\"colorbar\": {\"outlinewidth\": 0, \"ticks\": \"\"}, \"type\": \"mesh3d\"}], \"parcoords\": [{\"line\": {\"colorbar\": {\"outlinewidth\": 0, \"ticks\": \"\"}}, \"type\": \"parcoords\"}], \"scatter3d\": [{\"marker\": {\"colorbar\": {\"outlinewidth\": 0, \"ticks\": \"\"}}, \"type\": \"scatter3d\"}], \"scattercarpet\": [{\"marker\": {\"colorbar\": {\"outlinewidth\": 0, \"ticks\": \"\"}}, \"type\": \"scattercarpet\"}], \"scattergeo\": [{\"marker\": {\"colorbar\": {\"outlinewidth\": 0, \"ticks\": \"\"}}, \"type\": \"scattergeo\"}], \"scattergl\": [{\"marker\": {\"colorbar\": {\"outlinewidth\": 0, \"ticks\": \"\"}}, \"type\": \"scattergl\"}], \"scattermapbox\": [{\"marker\": {\"colorbar\": {\"outlinewidth\": 0, \"ticks\": \"\"}}, \"type\": \"scattermapbox\"}], \"scatterpolargl\": [{\"marker\": {\"colorbar\": {\"outlinewidth\": 0, \"ticks\": \"\"}}, \"type\": \"scatterpolargl\"}], \"scatterpolar\": [{\"marker\": {\"colorbar\": {\"outlinewidth\": 0, \"ticks\": \"\"}}, \"type\": \"scatterpolar\"}], \"scatter\": [{\"marker\": {\"colorbar\": {\"outlinewidth\": 0, \"ticks\": \"\"}}, \"type\": \"scatter\"}], \"scatterternary\": [{\"marker\": {\"colorbar\": {\"outlinewidth\": 0, \"ticks\": \"\"}}, \"type\": \"scatterternary\"}], \"surface\": [{\"colorbar\": {\"outlinewidth\": 0, \"ticks\": \"\"}, \"type\": \"surface\"}], \"table\": [{\"cells\": {\"fill\": {\"color\": \"#EBF0F8\"}, \"line\": {\"color\": \"white\"}}, \"header\": {\"fill\": {\"color\": \"#C8D4E3\"}, \"line\": {\"color\": \"white\"}}, \"type\": \"table\"}]}, \"layout\": {\"annotationdefaults\": {\"arrowcolor\": \"#506784\", \"arrowhead\": 0, \"arrowwidth\": 1}, \"colorscale\": {\"diverging\": [[0, \"#8e0152\"], [0.1, \"#c51b7d\"], [0.2, \"#de77ae\"], [0.3, \"#f1b6da\"], [0.4, \"#fde0ef\"], [0.5, \"#f7f7f7\"], [0.6, \"#e6f5d0\"], [0.7, \"#b8e186\"], [0.8, \"#7fbc41\"], [0.9, \"#4d9221\"], [1, \"#276419\"]], \"sequential\": [[0.0, \"#0508b8\"], [0.0893854748603352, \"#1910d8\"], [0.1787709497206704, \"#3c19f0\"], [0.2681564245810056, \"#6b1cfb\"], [0.3575418994413408, \"#981cfd\"], [0.44692737430167595, \"#bf1cfd\"], [0.5363128491620112, \"#dd2bfd\"], [0.6256983240223464, \"#f246fe\"], [0.7150837988826816, \"#fc67fd\"], [0.8044692737430168, \"#fe88fc\"], [0.8938547486033519, \"#fea5fd\"], [0.9832402234636871, \"#febefe\"], [1.0, \"#fec3fe\"]], \"sequentialminus\": [[0.0, \"#0508b8\"], [0.0893854748603352, \"#1910d8\"], [0.1787709497206704, \"#3c19f0\"], [0.2681564245810056, \"#6b1cfb\"], [0.3575418994413408, \"#981cfd\"], [0.44692737430167595, \"#bf1cfd\"], [0.5363128491620112, \"#dd2bfd\"], [0.6256983240223464, \"#f246fe\"], [0.7150837988826816, \"#fc67fd\"], [0.8044692737430168, \"#fe88fc\"], [0.8938547486033519, \"#fea5fd\"], [0.9832402234636871, \"#febefe\"], [1.0, \"#fec3fe\"]]}, \"colorway\": [\"#636efa\", \"#EF553B\", \"#00cc96\", \"#ab63fa\", \"#19d3f3\", \"#e763fa\", \"#FECB52\", \"#FFA15A\", \"#FF6692\", \"#B6E880\"], \"font\": {\"color\": \"#2a3f5f\"}, \"geo\": {\"bgcolor\": \"white\", \"lakecolor\": \"white\", \"landcolor\": \"#E5ECF6\", \"showlakes\": true, \"showland\": true, \"subunitcolor\": \"white\"}, \"hovermode\": \"closest\", \"mapbox\": {\"style\": \"light\"}, \"paper_bgcolor\": \"white\", \"plot_bgcolor\": \"#E5ECF6\", \"polar\": {\"angularaxis\": {\"gridcolor\": \"white\", \"linecolor\": \"white\", \"ticks\": \"\"}, \"bgcolor\": \"#E5ECF6\", \"radialaxis\": {\"gridcolor\": \"white\", \"linecolor\": \"white\", \"ticks\": \"\"}}, \"scene\": {\"xaxis\": {\"backgroundcolor\": \"#E5ECF6\", \"gridcolor\": \"white\", \"gridwidth\": 2, \"linecolor\": \"white\", \"showbackground\": true, \"ticks\": \"\", \"zerolinecolor\": \"white\"}, \"yaxis\": {\"backgroundcolor\": \"#E5ECF6\", \"gridcolor\": \"white\", \"gridwidth\": 2, \"linecolor\": \"white\", \"showbackground\": true, \"ticks\": \"\", \"zerolinecolor\": \"white\"}, \"zaxis\": {\"backgroundcolor\": \"#E5ECF6\", \"gridcolor\": \"white\", \"gridwidth\": 2, \"linecolor\": \"white\", \"showbackground\": true, \"ticks\": \"\", \"zerolinecolor\": \"white\"}}, \"shapedefaults\": {\"fillcolor\": \"#506784\", \"line\": {\"width\": 0}, \"opacity\": 0.4}, \"ternary\": {\"aaxis\": {\"gridcolor\": \"white\", \"linecolor\": \"white\", \"ticks\": \"\"}, \"baxis\": {\"gridcolor\": \"white\", \"linecolor\": \"white\", \"ticks\": \"\"}, \"bgcolor\": \"#E5ECF6\", \"caxis\": {\"gridcolor\": \"white\", \"linecolor\": \"white\", \"ticks\": \"\"}}, \"title\": {\"x\": 0.05}, \"xaxis\": {\"automargin\": true, \"gridcolor\": \"white\", \"linecolor\": \"white\", \"ticks\": \"\", \"zerolinecolor\": \"white\", \"zerolinewidth\": 2}, \"yaxis\": {\"automargin\": true, \"gridcolor\": \"white\", \"linecolor\": \"white\", \"ticks\": \"\", \"zerolinecolor\": \"white\", \"zerolinewidth\": 2}}}, \"xaxis\": {\"title\": {\"text\": \"month\"}, \"domain\": [0, 0.74], \"showgrid\": true}, \"yaxis\": {\"title\": {\"text\": \"giraffe\"}, \"domain\": [0, 0.74], \"showgrid\": true}, \"yaxis2\": {\"domain\": [0.745, 1], \"showticklabels\": false}, \"xaxis2\": {\"domain\": [0.745, 1], \"showticklabels\": false}, \"barmode\": \"overlay\", \"violinmode\": \"overlay\"}, {\"showLink\": false, \"linkText\": \"Export to plot.ly\", \"plotlyServerURL\": \"https://plot.ly\"}); \n",
       "}\n",
       "});</script><script type=\"text/javascript\">window.addEventListener(\"resize\", function(){if (document.getElementById(\"c13859e5-5676-4bb1-a1f8-c9afb9d0822f\")) {window._Plotly.Plots.resize(document.getElementById(\"c13859e5-5676-4bb1-a1f8-c9afb9d0822f\"));};})</script>"
      ],
      "text/vnd.plotly.v1+html": [
       "<div id=\"c13859e5-5676-4bb1-a1f8-c9afb9d0822f\" style=\"height: 600px; width: 100%;\" class=\"plotly-graph-div\"></div><script type=\"text/javascript\">require([\"plotly\"], function(Plotly) { window.PLOTLYENV=window.PLOTLYENV || {};window.PLOTLYENV.BASE_URL=\"https://plot.ly\";\n",
       "if (document.getElementById(\"c13859e5-5676-4bb1-a1f8-c9afb9d0822f\")) {\n",
       "    Plotly.newPlot(\"c13859e5-5676-4bb1-a1f8-c9afb9d0822f\", [{\"hovertemplate\": \"area=a<br>month=%{x}<br>giraffe=%{y}<extra></extra>\", \"legendgroup\": \"area=a\", \"marker\": {\"color\": \"#636efa\", \"symbol\": \"circle\"}, \"mode\": \"markers\", \"name\": \"area=a\", \"showlegend\": true, \"x\": [1, 2, 3, 4, 5, 6, 7, 8, 9, 10, 11, 12], \"xaxis\": \"x\", \"y\": [70, 73, 89, 66, 97, 168, 180, 177, 125, 81, 62, 54], \"yaxis\": \"y\", \"type\": \"scatter\", \"uid\": \"6638063a-2be0-4035-87de-63a8ea351dc5\"}, {\"alignmentgroup\": \"True\", \"legendgroup\": \"area=a\", \"marker\": {\"color\": \"#636efa\", \"symbol\": \"circle\"}, \"name\": \"area=a\", \"notched\": true, \"offsetgroup\": \"area=a\", \"showlegend\": false, \"x\": [1, 2, 3, 4, 5, 6, 7, 8, 9, 10, 11, 12], \"xaxis\": \"x\", \"yaxis\": \"y2\", \"type\": \"box\", \"uid\": \"0d5f4283-5db2-4dc6-b5aa-90bb166eb66f\"}, {\"alignmentgroup\": \"True\", \"legendgroup\": \"area=a\", \"marker\": {\"color\": \"#636efa\", \"symbol\": \"circle\"}, \"name\": \"area=a\", \"offsetgroup\": \"area=a\", \"scalegroup\": \"y\", \"showlegend\": false, \"xaxis\": \"x2\", \"y\": [70, 73, 89, 66, 97, 168, 180, 177, 125, 81, 62, 54], \"yaxis\": \"y\", \"type\": \"violin\", \"uid\": \"4e64959e-27d5-4ec8-b5ad-8c655e6c848c\"}, {\"hovertemplate\": \"area=b<br>month=%{x}<br>giraffe=%{y}<extra></extra>\", \"legendgroup\": \"area=b\", \"marker\": {\"color\": \"#EF553B\", \"symbol\": \"circle\"}, \"mode\": \"markers\", \"name\": \"area=b\", \"showlegend\": true, \"x\": [1, 2, 3, 4, 5, 6, 7, 8, 9, 10, 11, 12], \"xaxis\": \"x\", \"y\": [101, 74, 65, 88, 59, 96, 112, 143, 150, 106, 87, 71], \"yaxis\": \"y\", \"type\": \"scatter\", \"uid\": \"d5251a7d-0c4c-4684-a275-0edd62c0a0dd\"}, {\"alignmentgroup\": \"True\", \"legendgroup\": \"area=b\", \"marker\": {\"color\": \"#EF553B\", \"symbol\": \"circle\"}, \"name\": \"area=b\", \"notched\": true, \"offsetgroup\": \"area=b\", \"showlegend\": false, \"x\": [1, 2, 3, 4, 5, 6, 7, 8, 9, 10, 11, 12], \"xaxis\": \"x\", \"yaxis\": \"y2\", \"type\": \"box\", \"uid\": \"d3198d46-7c62-47d5-974a-72288132a775\"}, {\"alignmentgroup\": \"True\", \"legendgroup\": \"area=b\", \"marker\": {\"color\": \"#EF553B\", \"symbol\": \"circle\"}, \"name\": \"area=b\", \"offsetgroup\": \"area=b\", \"scalegroup\": \"y\", \"showlegend\": false, \"xaxis\": \"x2\", \"y\": [101, 74, 65, 88, 59, 96, 112, 143, 150, 106, 87, 71], \"yaxis\": \"y\", \"type\": \"violin\", \"uid\": \"000bb36a-0e2e-4aea-a306-6580a7b48258\"}, {\"hovertemplate\": \"area=c<br>month=%{x}<br>giraffe=%{y}<extra></extra>\", \"legendgroup\": \"area=c\", \"marker\": {\"color\": \"#00cc96\", \"symbol\": \"circle\"}, \"mode\": \"markers\", \"name\": \"area=c\", \"showlegend\": true, \"x\": [1, 2, 3, 4, 5, 6, 7, 8, 9, 10, 11, 12], \"xaxis\": \"x\", \"y\": [68, 52, 64, 46, 55, 70, 68, 62, 86, 103, 116, 89], \"yaxis\": \"y\", \"type\": \"scatter\", \"uid\": \"0fe2cfd5-a146-4bd2-95e8-522453b5cfc0\"}, {\"alignmentgroup\": \"True\", \"legendgroup\": \"area=c\", \"marker\": {\"color\": \"#00cc96\", \"symbol\": \"circle\"}, \"name\": \"area=c\", \"notched\": true, \"offsetgroup\": \"area=c\", \"showlegend\": false, \"x\": [1, 2, 3, 4, 5, 6, 7, 8, 9, 10, 11, 12], \"xaxis\": \"x\", \"yaxis\": \"y2\", \"type\": \"box\", \"uid\": \"d6cc8846-40cb-4c8f-88ea-009053cafc4f\"}, {\"alignmentgroup\": \"True\", \"legendgroup\": \"area=c\", \"marker\": {\"color\": \"#00cc96\", \"symbol\": \"circle\"}, \"name\": \"area=c\", \"offsetgroup\": \"area=c\", \"scalegroup\": \"y\", \"showlegend\": false, \"xaxis\": \"x2\", \"y\": [68, 52, 64, 46, 55, 70, 68, 62, 86, 103, 116, 89], \"yaxis\": \"y\", \"type\": \"violin\", \"uid\": \"44e5f702-7706-4114-8a75-b4f736ca43b5\"}, {\"hovertemplate\": \"area=d<br>month=%{x}<br>giraffe=%{y}<extra></extra>\", \"legendgroup\": \"area=d\", \"marker\": {\"color\": \"#ab63fa\", \"symbol\": \"circle\"}, \"mode\": \"markers\", \"name\": \"area=d\", \"showlegend\": true, \"x\": [1, 2, 3, 4, 5, 6, 7, 8, 9, 10, 11, 12], \"xaxis\": \"x\", \"y\": [103, 86, 70, 55, 61, 49, 70, 73, 62, 87, 99, 121], \"yaxis\": \"y\", \"type\": \"scatter\", \"uid\": \"67236d63-0da0-4572-9a90-fb32404c143c\"}, {\"alignmentgroup\": \"True\", \"legendgroup\": \"area=d\", \"marker\": {\"color\": \"#ab63fa\", \"symbol\": \"circle\"}, \"name\": \"area=d\", \"notched\": true, \"offsetgroup\": \"area=d\", \"showlegend\": false, \"x\": [1, 2, 3, 4, 5, 6, 7, 8, 9, 10, 11, 12], \"xaxis\": \"x\", \"yaxis\": \"y2\", \"type\": \"box\", \"uid\": \"b62f49c0-02a6-4689-b246-52a720a09041\"}, {\"alignmentgroup\": \"True\", \"legendgroup\": \"area=d\", \"marker\": {\"color\": \"#ab63fa\", \"symbol\": \"circle\"}, \"name\": \"area=d\", \"offsetgroup\": \"area=d\", \"scalegroup\": \"y\", \"showlegend\": false, \"xaxis\": \"x2\", \"y\": [103, 86, 70, 55, 61, 49, 70, 73, 62, 87, 99, 121], \"yaxis\": \"y\", \"type\": \"violin\", \"uid\": \"4747d2b7-3d63-49ba-b3b6-c76b64d7c83b\"}, {\"hovertemplate\": \"area=e<br>month=%{x}<br>giraffe=%{y}<extra></extra>\", \"legendgroup\": \"area=e\", \"marker\": {\"color\": \"#19d3f3\", \"symbol\": \"circle\"}, \"mode\": \"markers\", \"name\": \"area=e\", \"showlegend\": true, \"x\": [1, 2, 3, 4, 5, 6, 7, 8, 9, 10, 11, 12], \"xaxis\": \"x\", \"y\": [93, 144, 102, 65, 61, 73, 80, 81, 66, 79, 71, 90], \"yaxis\": \"y\", \"type\": \"scatter\", \"uid\": \"0610159a-9871-4706-88d3-7cadc3e64c21\"}, {\"alignmentgroup\": \"True\", \"legendgroup\": \"area=e\", \"marker\": {\"color\": \"#19d3f3\", \"symbol\": \"circle\"}, \"name\": \"area=e\", \"notched\": true, \"offsetgroup\": \"area=e\", \"showlegend\": false, \"x\": [1, 2, 3, 4, 5, 6, 7, 8, 9, 10, 11, 12], \"xaxis\": \"x\", \"yaxis\": \"y2\", \"type\": \"box\", \"uid\": \"0415c3c8-25f3-417f-80f6-874c687afde3\"}, {\"alignmentgroup\": \"True\", \"legendgroup\": \"area=e\", \"marker\": {\"color\": \"#19d3f3\", \"symbol\": \"circle\"}, \"name\": \"area=e\", \"offsetgroup\": \"area=e\", \"scalegroup\": \"y\", \"showlegend\": false, \"xaxis\": \"x2\", \"y\": [93, 144, 102, 65, 61, 73, 80, 81, 66, 79, 71, 90], \"yaxis\": \"y\", \"type\": \"violin\", \"uid\": \"a3410264-da2a-4c43-9aa8-cd88032b6bd0\"}, {\"hovertemplate\": \"area=f<br>month=%{x}<br>giraffe=%{y}<extra></extra>\", \"legendgroup\": \"area=f\", \"marker\": {\"color\": \"#e763fa\", \"symbol\": \"circle\"}, \"mode\": \"markers\", \"name\": \"area=f\", \"showlegend\": true, \"x\": [1, 2, 3, 4, 5, 6, 7, 8, 9, 10, 11, 12], \"xaxis\": \"x\", \"y\": [61, 80, 89, 110, 122, 69, 73, 56, 61, 69, 48, 70], \"yaxis\": \"y\", \"type\": \"scatter\", \"uid\": \"4f33983e-e685-4bc3-a7ed-711873e7ec77\"}, {\"alignmentgroup\": \"True\", \"legendgroup\": \"area=f\", \"marker\": {\"color\": \"#e763fa\", \"symbol\": \"circle\"}, \"name\": \"area=f\", \"notched\": true, \"offsetgroup\": \"area=f\", \"showlegend\": false, \"x\": [1, 2, 3, 4, 5, 6, 7, 8, 9, 10, 11, 12], \"xaxis\": \"x\", \"yaxis\": \"y2\", \"type\": \"box\", \"uid\": \"c944e626-6b2d-4356-9bd0-83fbc4d71522\"}, {\"alignmentgroup\": \"True\", \"legendgroup\": \"area=f\", \"marker\": {\"color\": \"#e763fa\", \"symbol\": \"circle\"}, \"name\": \"area=f\", \"offsetgroup\": \"area=f\", \"scalegroup\": \"y\", \"showlegend\": false, \"xaxis\": \"x2\", \"y\": [61, 80, 89, 110, 122, 69, 73, 56, 61, 69, 48, 70], \"yaxis\": \"y\", \"type\": \"violin\", \"uid\": \"1b773f54-1d8e-4745-bf49-d006874e98fa\"}], {\"height\": 600, \"legend\": {\"tracegroupgap\": 0}, \"margin\": {\"t\": 60}, \"template\": {\"data\": {\"barpolar\": [{\"marker\": {\"line\": {\"color\": \"#E5ECF6\", \"width\": 0.5}}, \"type\": \"barpolar\"}], \"bar\": [{\"marker\": {\"line\": {\"color\": \"#E5ECF6\", \"width\": 0.5}}, \"type\": \"bar\"}], \"carpet\": [{\"aaxis\": {\"endlinecolor\": \"#2a3f5f\", \"gridcolor\": \"white\", \"linecolor\": \"white\", \"minorgridcolor\": \"white\", \"startlinecolor\": \"#2a3f5f\"}, \"baxis\": {\"endlinecolor\": \"#2a3f5f\", \"gridcolor\": \"white\", \"linecolor\": \"white\", \"minorgridcolor\": \"white\", \"startlinecolor\": \"#2a3f5f\"}, \"type\": \"carpet\"}], \"choropleth\": [{\"colorbar\": {\"outlinewidth\": 0, \"ticks\": \"\"}, \"type\": \"choropleth\"}], \"contourcarpet\": [{\"colorbar\": {\"outlinewidth\": 0, \"ticks\": \"\"}, \"type\": \"contourcarpet\"}], \"contour\": [{\"autocolorscale\": true, \"colorbar\": {\"outlinewidth\": 0, \"ticks\": \"\"}, \"type\": \"contour\"}], \"heatmapgl\": [{\"colorbar\": {\"outlinewidth\": 0, \"ticks\": \"\"}, \"type\": \"heatmapgl\"}], \"heatmap\": [{\"autocolorscale\": true, \"colorbar\": {\"outlinewidth\": 0, \"ticks\": \"\"}, \"type\": \"heatmap\"}], \"histogram2dcontour\": [{\"autocolorscale\": true, \"colorbar\": {\"outlinewidth\": 0, \"ticks\": \"\"}, \"type\": \"histogram2dcontour\"}], \"histogram2d\": [{\"autocolorscale\": true, \"colorbar\": {\"outlinewidth\": 0, \"ticks\": \"\"}, \"type\": \"histogram2d\"}], \"histogram\": [{\"marker\": {\"colorbar\": {\"outlinewidth\": 0, \"ticks\": \"\"}}, \"type\": \"histogram\"}], \"mesh3d\": [{\"colorbar\": {\"outlinewidth\": 0, \"ticks\": \"\"}, \"type\": \"mesh3d\"}], \"parcoords\": [{\"line\": {\"colorbar\": {\"outlinewidth\": 0, \"ticks\": \"\"}}, \"type\": \"parcoords\"}], \"scatter3d\": [{\"marker\": {\"colorbar\": {\"outlinewidth\": 0, \"ticks\": \"\"}}, \"type\": \"scatter3d\"}], \"scattercarpet\": [{\"marker\": {\"colorbar\": {\"outlinewidth\": 0, \"ticks\": \"\"}}, \"type\": \"scattercarpet\"}], \"scattergeo\": [{\"marker\": {\"colorbar\": {\"outlinewidth\": 0, \"ticks\": \"\"}}, \"type\": \"scattergeo\"}], \"scattergl\": [{\"marker\": {\"colorbar\": {\"outlinewidth\": 0, \"ticks\": \"\"}}, \"type\": \"scattergl\"}], \"scattermapbox\": [{\"marker\": {\"colorbar\": {\"outlinewidth\": 0, \"ticks\": \"\"}}, \"type\": \"scattermapbox\"}], \"scatterpolargl\": [{\"marker\": {\"colorbar\": {\"outlinewidth\": 0, \"ticks\": \"\"}}, \"type\": \"scatterpolargl\"}], \"scatterpolar\": [{\"marker\": {\"colorbar\": {\"outlinewidth\": 0, \"ticks\": \"\"}}, \"type\": \"scatterpolar\"}], \"scatter\": [{\"marker\": {\"colorbar\": {\"outlinewidth\": 0, \"ticks\": \"\"}}, \"type\": \"scatter\"}], \"scatterternary\": [{\"marker\": {\"colorbar\": {\"outlinewidth\": 0, \"ticks\": \"\"}}, \"type\": \"scatterternary\"}], \"surface\": [{\"colorbar\": {\"outlinewidth\": 0, \"ticks\": \"\"}, \"type\": \"surface\"}], \"table\": [{\"cells\": {\"fill\": {\"color\": \"#EBF0F8\"}, \"line\": {\"color\": \"white\"}}, \"header\": {\"fill\": {\"color\": \"#C8D4E3\"}, \"line\": {\"color\": \"white\"}}, \"type\": \"table\"}]}, \"layout\": {\"annotationdefaults\": {\"arrowcolor\": \"#506784\", \"arrowhead\": 0, \"arrowwidth\": 1}, \"colorscale\": {\"diverging\": [[0, \"#8e0152\"], [0.1, \"#c51b7d\"], [0.2, \"#de77ae\"], [0.3, \"#f1b6da\"], [0.4, \"#fde0ef\"], [0.5, \"#f7f7f7\"], [0.6, \"#e6f5d0\"], [0.7, \"#b8e186\"], [0.8, \"#7fbc41\"], [0.9, \"#4d9221\"], [1, \"#276419\"]], \"sequential\": [[0.0, \"#0508b8\"], [0.0893854748603352, \"#1910d8\"], [0.1787709497206704, \"#3c19f0\"], [0.2681564245810056, \"#6b1cfb\"], [0.3575418994413408, \"#981cfd\"], [0.44692737430167595, \"#bf1cfd\"], [0.5363128491620112, \"#dd2bfd\"], [0.6256983240223464, \"#f246fe\"], [0.7150837988826816, \"#fc67fd\"], [0.8044692737430168, \"#fe88fc\"], [0.8938547486033519, \"#fea5fd\"], [0.9832402234636871, \"#febefe\"], [1.0, \"#fec3fe\"]], \"sequentialminus\": [[0.0, \"#0508b8\"], [0.0893854748603352, \"#1910d8\"], [0.1787709497206704, \"#3c19f0\"], [0.2681564245810056, \"#6b1cfb\"], [0.3575418994413408, \"#981cfd\"], [0.44692737430167595, \"#bf1cfd\"], [0.5363128491620112, \"#dd2bfd\"], [0.6256983240223464, \"#f246fe\"], [0.7150837988826816, \"#fc67fd\"], [0.8044692737430168, \"#fe88fc\"], [0.8938547486033519, \"#fea5fd\"], [0.9832402234636871, \"#febefe\"], [1.0, \"#fec3fe\"]]}, \"colorway\": [\"#636efa\", \"#EF553B\", \"#00cc96\", \"#ab63fa\", \"#19d3f3\", \"#e763fa\", \"#FECB52\", \"#FFA15A\", \"#FF6692\", \"#B6E880\"], \"font\": {\"color\": \"#2a3f5f\"}, \"geo\": {\"bgcolor\": \"white\", \"lakecolor\": \"white\", \"landcolor\": \"#E5ECF6\", \"showlakes\": true, \"showland\": true, \"subunitcolor\": \"white\"}, \"hovermode\": \"closest\", \"mapbox\": {\"style\": \"light\"}, \"paper_bgcolor\": \"white\", \"plot_bgcolor\": \"#E5ECF6\", \"polar\": {\"angularaxis\": {\"gridcolor\": \"white\", \"linecolor\": \"white\", \"ticks\": \"\"}, \"bgcolor\": \"#E5ECF6\", \"radialaxis\": {\"gridcolor\": \"white\", \"linecolor\": \"white\", \"ticks\": \"\"}}, \"scene\": {\"xaxis\": {\"backgroundcolor\": \"#E5ECF6\", \"gridcolor\": \"white\", \"gridwidth\": 2, \"linecolor\": \"white\", \"showbackground\": true, \"ticks\": \"\", \"zerolinecolor\": \"white\"}, \"yaxis\": {\"backgroundcolor\": \"#E5ECF6\", \"gridcolor\": \"white\", \"gridwidth\": 2, \"linecolor\": \"white\", \"showbackground\": true, \"ticks\": \"\", \"zerolinecolor\": \"white\"}, \"zaxis\": {\"backgroundcolor\": \"#E5ECF6\", \"gridcolor\": \"white\", \"gridwidth\": 2, \"linecolor\": \"white\", \"showbackground\": true, \"ticks\": \"\", \"zerolinecolor\": \"white\"}}, \"shapedefaults\": {\"fillcolor\": \"#506784\", \"line\": {\"width\": 0}, \"opacity\": 0.4}, \"ternary\": {\"aaxis\": {\"gridcolor\": \"white\", \"linecolor\": \"white\", \"ticks\": \"\"}, \"baxis\": {\"gridcolor\": \"white\", \"linecolor\": \"white\", \"ticks\": \"\"}, \"bgcolor\": \"#E5ECF6\", \"caxis\": {\"gridcolor\": \"white\", \"linecolor\": \"white\", \"ticks\": \"\"}}, \"title\": {\"x\": 0.05}, \"xaxis\": {\"automargin\": true, \"gridcolor\": \"white\", \"linecolor\": \"white\", \"ticks\": \"\", \"zerolinecolor\": \"white\", \"zerolinewidth\": 2}, \"yaxis\": {\"automargin\": true, \"gridcolor\": \"white\", \"linecolor\": \"white\", \"ticks\": \"\", \"zerolinecolor\": \"white\", \"zerolinewidth\": 2}}}, \"xaxis\": {\"title\": {\"text\": \"month\"}, \"domain\": [0, 0.74], \"showgrid\": true}, \"yaxis\": {\"title\": {\"text\": \"giraffe\"}, \"domain\": [0, 0.74], \"showgrid\": true}, \"yaxis2\": {\"domain\": [0.745, 1], \"showticklabels\": false}, \"xaxis2\": {\"domain\": [0.745, 1], \"showticklabels\": false}, \"barmode\": \"overlay\", \"violinmode\": \"overlay\"}, {\"showLink\": false, \"linkText\": \"Export to plot.ly\", \"plotlyServerURL\": \"https://plot.ly\"}); \n",
       "}\n",
       "});</script><script type=\"text/javascript\">window.addEventListener(\"resize\", function(){if (document.getElementById(\"c13859e5-5676-4bb1-a1f8-c9afb9d0822f\")) {window._Plotly.Plots.resize(document.getElementById(\"c13859e5-5676-4bb1-a1f8-c9afb9d0822f\"));};})</script>"
      ]
     },
     "metadata": {},
     "output_type": "display_data"
    }
   ],
   "source": [
    "px.scatter(dataset, x=\"month\", y=\"giraffe\", color=\"area\",marginal_y=\"violin\", \n",
    "           marginal_x=\"box\")"
   ]
  },
  {
   "cell_type": "code",
   "execution_count": 7,
   "metadata": {},
   "outputs": [
    {
     "data": {
      "application/vnd.plotly.v1+json": {
       "config": {
        "linkText": "Export to plot.ly",
        "plotlyServerURL": "https://plot.ly",
        "showLink": false
       },
       "data": [
        {
         "dimensions": [
          {
           "axis": {
            "matches": true
           },
           "label": "month",
           "values": [
            1,
            2,
            3,
            4,
            5,
            6,
            7,
            8,
            9,
            10,
            11,
            12
           ]
          },
          {
           "axis": {
            "matches": true
           },
           "label": "number",
           "values": [
            320,
            356,
            341,
            468,
            696,
            831,
            1088,
            720,
            449,
            312,
            287,
            313
           ]
          },
          {
           "axis": {
            "matches": true
           },
           "label": "giraffe",
           "values": [
            70,
            73,
            89,
            66,
            97,
            168,
            180,
            177,
            125,
            81,
            62,
            54
           ]
          },
          {
           "axis": {
            "matches": true
           },
           "label": "pop",
           "values": [
            8425333,
            9240934,
            10267083,
            11537966,
            13079460,
            14880372,
            12881816,
            13867957,
            16317921,
            22227415,
            25268405,
            31889923
           ]
          }
         ],
         "legendgroup": "area=a",
         "marker": {
          "color": "#636efa",
          "symbol": "circle"
         },
         "name": "area=a",
         "showlegend": true,
         "type": "splom",
         "uid": "eb459abf-42f6-44d0-bc18-0a25141c7f8b"
        },
        {
         "dimensions": [
          {
           "axis": {
            "matches": true
           },
           "label": "month",
           "values": [
            1,
            2,
            3,
            4,
            5,
            6,
            7,
            8,
            9,
            10,
            11,
            12
           ]
          },
          {
           "axis": {
            "matches": true
           },
           "label": "number",
           "values": [
            303,
            318,
            299,
            241,
            289,
            669,
            826,
            1143,
            550,
            342,
            301,
            296
           ]
          },
          {
           "axis": {
            "matches": true
           },
           "label": "giraffe",
           "values": [
            101,
            74,
            65,
            88,
            59,
            96,
            112,
            143,
            150,
            106,
            87,
            71
           ]
          },
          {
           "axis": {
            "matches": true
           },
           "label": "pop",
           "values": [
            1282697,
            1476505,
            1728137,
            1984060,
            2263554,
            2509048,
            2780097,
            3075321,
            3326498,
            3428038,
            3508512,
            3600523
           ]
          }
         ],
         "legendgroup": "area=b",
         "marker": {
          "color": "#EF553B",
          "symbol": "circle"
         },
         "name": "area=b",
         "showlegend": true,
         "type": "splom",
         "uid": "73ac68c2-4564-471b-ae03-1d8bc9744702"
        },
        {
         "dimensions": [
          {
           "axis": {
            "matches": true
           },
           "label": "month",
           "values": [
            1,
            2,
            3,
            4,
            5,
            6,
            7,
            8,
            9,
            10,
            11,
            12
           ]
          },
          {
           "axis": {
            "matches": true
           },
           "label": "number",
           "values": [
            341,
            319,
            268,
            254,
            322,
            378,
            483,
            762,
            935,
            980,
            511,
            302
           ]
          },
          {
           "axis": {
            "matches": true
           },
           "label": "giraffe",
           "values": [
            68,
            52,
            64,
            46,
            55,
            70,
            68,
            62,
            86,
            103,
            116,
            89
           ]
          },
          {
           "axis": {
            "matches": true
           },
           "label": "pop",
           "values": [
            9279525,
            10270856,
            11000948,
            12760499,
            14760787,
            17152804,
            20033753,
            23254956,
            26298373,
            29072015,
            31287142,
            33333216
           ]
          }
         ],
         "legendgroup": "area=c",
         "marker": {
          "color": "#00cc96",
          "symbol": "circle"
         },
         "name": "area=c",
         "showlegend": true,
         "type": "splom",
         "uid": "c220e0e4-3827-4cb6-97b1-2281e32b5257"
        },
        {
         "dimensions": [
          {
           "axis": {
            "matches": true
           },
           "label": "month",
           "values": [
            1,
            2,
            3,
            4,
            5,
            6,
            7,
            8,
            9,
            10,
            11,
            12
           ]
          },
          {
           "axis": {
            "matches": true
           },
           "label": "number",
           "values": [
            416,
            337,
            362,
            340,
            361,
            388,
            404,
            461,
            522,
            878,
            1031,
            659
           ]
          },
          {
           "axis": {
            "matches": true
           },
           "label": "giraffe",
           "values": [
            103,
            86,
            70,
            55,
            61,
            49,
            70,
            73,
            62,
            87,
            99,
            121
           ]
          },
          {
           "axis": {
            "matches": true
           },
           "label": "pop",
           "values": [
            4232095,
            4561361,
            4826015,
            5247469,
            5894858,
            6162675,
            7016384,
            7874230,
            8735988,
            9875024,
            10866106,
            12420476
           ]
          }
         ],
         "legendgroup": "area=d",
         "marker": {
          "color": "#ab63fa",
          "symbol": "circle"
         },
         "name": "area=d",
         "showlegend": true,
         "type": "splom",
         "uid": "09fae45e-5347-4f36-a9a8-c00658156b4e"
        },
        {
         "dimensions": [
          {
           "axis": {
            "matches": true
           },
           "label": "month",
           "values": [
            1,
            2,
            3,
            4,
            5,
            6,
            7,
            8,
            9,
            10,
            11,
            12
           ]
          },
          {
           "axis": {
            "matches": true
           },
           "label": "number",
           "values": [
            1073,
            684,
            466,
            305,
            324,
            298,
            366,
            269,
            341,
            402,
            559,
            853
           ]
          },
          {
           "axis": {
            "matches": true
           },
           "label": "giraffe",
           "values": [
            93,
            144,
            102,
            65,
            61,
            73,
            80,
            81,
            66,
            79,
            71,
            90
           ]
          },
          {
           "axis": {
            "matches": true
           },
           "label": "pop",
           "values": [
            17876956,
            19610538,
            21283783,
            22934225,
            24779799,
            26983828,
            29341374,
            31620918,
            33958947,
            36203463,
            38331121,
            40301927
           ]
          }
         ],
         "legendgroup": "area=e",
         "marker": {
          "color": "#19d3f3",
          "symbol": "circle"
         },
         "name": "area=e",
         "showlegend": true,
         "type": "splom",
         "uid": "86ff6246-ea6e-477b-ae29-039fe9175cac"
        },
        {
         "dimensions": [
          {
           "axis": {
            "matches": true
           },
           "label": "month",
           "values": [
            1,
            2,
            3,
            4,
            5,
            6,
            7,
            8,
            9,
            10,
            11,
            12
           ]
          },
          {
           "axis": {
            "matches": true
           },
           "label": "number",
           "values": [
            352,
            469,
            898,
            1136,
            740,
            416,
            332,
            267,
            309,
            368,
            287,
            311
           ]
          },
          {
           "axis": {
            "matches": true
           },
           "label": "giraffe",
           "values": [
            61,
            80,
            89,
            110,
            122,
            69,
            73,
            56,
            61,
            69,
            48,
            70
           ]
          },
          {
           "axis": {
            "matches": true
           },
           "label": "pop",
           "values": [
            8691212,
            9712569,
            10794968,
            11872264,
            13177000,
            14074100,
            15184200,
            16257249,
            17481977,
            18565243,
            19546792,
            20434176
           ]
          }
         ],
         "legendgroup": "area=f",
         "marker": {
          "color": "#e763fa",
          "symbol": "circle"
         },
         "name": "area=f",
         "showlegend": true,
         "type": "splom",
         "uid": "ecb4ed16-17de-4ef0-ae01-bbfac744a486"
        }
       ],
       "layout": {
        "dragmode": "select",
        "height": 600,
        "legend": {
         "tracegroupgap": 0
        },
        "margin": {
         "t": 60
        },
        "template": {
         "data": {
          "bar": [
           {
            "marker": {
             "line": {
              "color": "#E5ECF6",
              "width": 0.5
             }
            },
            "type": "bar"
           }
          ],
          "barpolar": [
           {
            "marker": {
             "line": {
              "color": "#E5ECF6",
              "width": 0.5
             }
            },
            "type": "barpolar"
           }
          ],
          "carpet": [
           {
            "aaxis": {
             "endlinecolor": "#2a3f5f",
             "gridcolor": "white",
             "linecolor": "white",
             "minorgridcolor": "white",
             "startlinecolor": "#2a3f5f"
            },
            "baxis": {
             "endlinecolor": "#2a3f5f",
             "gridcolor": "white",
             "linecolor": "white",
             "minorgridcolor": "white",
             "startlinecolor": "#2a3f5f"
            },
            "type": "carpet"
           }
          ],
          "choropleth": [
           {
            "colorbar": {
             "outlinewidth": 0,
             "ticks": ""
            },
            "type": "choropleth"
           }
          ],
          "contour": [
           {
            "autocolorscale": true,
            "colorbar": {
             "outlinewidth": 0,
             "ticks": ""
            },
            "type": "contour"
           }
          ],
          "contourcarpet": [
           {
            "colorbar": {
             "outlinewidth": 0,
             "ticks": ""
            },
            "type": "contourcarpet"
           }
          ],
          "heatmap": [
           {
            "autocolorscale": true,
            "colorbar": {
             "outlinewidth": 0,
             "ticks": ""
            },
            "type": "heatmap"
           }
          ],
          "heatmapgl": [
           {
            "colorbar": {
             "outlinewidth": 0,
             "ticks": ""
            },
            "type": "heatmapgl"
           }
          ],
          "histogram": [
           {
            "marker": {
             "colorbar": {
              "outlinewidth": 0,
              "ticks": ""
             }
            },
            "type": "histogram"
           }
          ],
          "histogram2d": [
           {
            "autocolorscale": true,
            "colorbar": {
             "outlinewidth": 0,
             "ticks": ""
            },
            "type": "histogram2d"
           }
          ],
          "histogram2dcontour": [
           {
            "autocolorscale": true,
            "colorbar": {
             "outlinewidth": 0,
             "ticks": ""
            },
            "type": "histogram2dcontour"
           }
          ],
          "mesh3d": [
           {
            "colorbar": {
             "outlinewidth": 0,
             "ticks": ""
            },
            "type": "mesh3d"
           }
          ],
          "parcoords": [
           {
            "line": {
             "colorbar": {
              "outlinewidth": 0,
              "ticks": ""
             }
            },
            "type": "parcoords"
           }
          ],
          "scatter": [
           {
            "marker": {
             "colorbar": {
              "outlinewidth": 0,
              "ticks": ""
             }
            },
            "type": "scatter"
           }
          ],
          "scatter3d": [
           {
            "marker": {
             "colorbar": {
              "outlinewidth": 0,
              "ticks": ""
             }
            },
            "type": "scatter3d"
           }
          ],
          "scattercarpet": [
           {
            "marker": {
             "colorbar": {
              "outlinewidth": 0,
              "ticks": ""
             }
            },
            "type": "scattercarpet"
           }
          ],
          "scattergeo": [
           {
            "marker": {
             "colorbar": {
              "outlinewidth": 0,
              "ticks": ""
             }
            },
            "type": "scattergeo"
           }
          ],
          "scattergl": [
           {
            "marker": {
             "colorbar": {
              "outlinewidth": 0,
              "ticks": ""
             }
            },
            "type": "scattergl"
           }
          ],
          "scattermapbox": [
           {
            "marker": {
             "colorbar": {
              "outlinewidth": 0,
              "ticks": ""
             }
            },
            "type": "scattermapbox"
           }
          ],
          "scatterpolar": [
           {
            "marker": {
             "colorbar": {
              "outlinewidth": 0,
              "ticks": ""
             }
            },
            "type": "scatterpolar"
           }
          ],
          "scatterpolargl": [
           {
            "marker": {
             "colorbar": {
              "outlinewidth": 0,
              "ticks": ""
             }
            },
            "type": "scatterpolargl"
           }
          ],
          "scatterternary": [
           {
            "marker": {
             "colorbar": {
              "outlinewidth": 0,
              "ticks": ""
             }
            },
            "type": "scatterternary"
           }
          ],
          "surface": [
           {
            "colorbar": {
             "outlinewidth": 0,
             "ticks": ""
            },
            "type": "surface"
           }
          ],
          "table": [
           {
            "cells": {
             "fill": {
              "color": "#EBF0F8"
             },
             "line": {
              "color": "white"
             }
            },
            "header": {
             "fill": {
              "color": "#C8D4E3"
             },
             "line": {
              "color": "white"
             }
            },
            "type": "table"
           }
          ]
         },
         "layout": {
          "annotationdefaults": {
           "arrowcolor": "#506784",
           "arrowhead": 0,
           "arrowwidth": 1
          },
          "colorscale": {
           "diverging": [
            [
             0,
             "#8e0152"
            ],
            [
             0.1,
             "#c51b7d"
            ],
            [
             0.2,
             "#de77ae"
            ],
            [
             0.3,
             "#f1b6da"
            ],
            [
             0.4,
             "#fde0ef"
            ],
            [
             0.5,
             "#f7f7f7"
            ],
            [
             0.6,
             "#e6f5d0"
            ],
            [
             0.7,
             "#b8e186"
            ],
            [
             0.8,
             "#7fbc41"
            ],
            [
             0.9,
             "#4d9221"
            ],
            [
             1,
             "#276419"
            ]
           ],
           "sequential": [
            [
             0,
             "#0508b8"
            ],
            [
             0.0893854748603352,
             "#1910d8"
            ],
            [
             0.1787709497206704,
             "#3c19f0"
            ],
            [
             0.2681564245810056,
             "#6b1cfb"
            ],
            [
             0.3575418994413408,
             "#981cfd"
            ],
            [
             0.44692737430167595,
             "#bf1cfd"
            ],
            [
             0.5363128491620112,
             "#dd2bfd"
            ],
            [
             0.6256983240223464,
             "#f246fe"
            ],
            [
             0.7150837988826816,
             "#fc67fd"
            ],
            [
             0.8044692737430168,
             "#fe88fc"
            ],
            [
             0.8938547486033519,
             "#fea5fd"
            ],
            [
             0.9832402234636871,
             "#febefe"
            ],
            [
             1,
             "#fec3fe"
            ]
           ],
           "sequentialminus": [
            [
             0,
             "#0508b8"
            ],
            [
             0.0893854748603352,
             "#1910d8"
            ],
            [
             0.1787709497206704,
             "#3c19f0"
            ],
            [
             0.2681564245810056,
             "#6b1cfb"
            ],
            [
             0.3575418994413408,
             "#981cfd"
            ],
            [
             0.44692737430167595,
             "#bf1cfd"
            ],
            [
             0.5363128491620112,
             "#dd2bfd"
            ],
            [
             0.6256983240223464,
             "#f246fe"
            ],
            [
             0.7150837988826816,
             "#fc67fd"
            ],
            [
             0.8044692737430168,
             "#fe88fc"
            ],
            [
             0.8938547486033519,
             "#fea5fd"
            ],
            [
             0.9832402234636871,
             "#febefe"
            ],
            [
             1,
             "#fec3fe"
            ]
           ]
          },
          "colorway": [
           "#636efa",
           "#EF553B",
           "#00cc96",
           "#ab63fa",
           "#19d3f3",
           "#e763fa",
           "#FECB52",
           "#FFA15A",
           "#FF6692",
           "#B6E880"
          ],
          "font": {
           "color": "#2a3f5f"
          },
          "geo": {
           "bgcolor": "white",
           "lakecolor": "white",
           "landcolor": "#E5ECF6",
           "showlakes": true,
           "showland": true,
           "subunitcolor": "white"
          },
          "hovermode": "closest",
          "mapbox": {
           "style": "light"
          },
          "paper_bgcolor": "white",
          "plot_bgcolor": "#E5ECF6",
          "polar": {
           "angularaxis": {
            "gridcolor": "white",
            "linecolor": "white",
            "ticks": ""
           },
           "bgcolor": "#E5ECF6",
           "radialaxis": {
            "gridcolor": "white",
            "linecolor": "white",
            "ticks": ""
           }
          },
          "scene": {
           "xaxis": {
            "backgroundcolor": "#E5ECF6",
            "gridcolor": "white",
            "gridwidth": 2,
            "linecolor": "white",
            "showbackground": true,
            "ticks": "",
            "zerolinecolor": "white"
           },
           "yaxis": {
            "backgroundcolor": "#E5ECF6",
            "gridcolor": "white",
            "gridwidth": 2,
            "linecolor": "white",
            "showbackground": true,
            "ticks": "",
            "zerolinecolor": "white"
           },
           "zaxis": {
            "backgroundcolor": "#E5ECF6",
            "gridcolor": "white",
            "gridwidth": 2,
            "linecolor": "white",
            "showbackground": true,
            "ticks": "",
            "zerolinecolor": "white"
           }
          },
          "shapedefaults": {
           "fillcolor": "#506784",
           "line": {
            "width": 0
           },
           "opacity": 0.4
          },
          "ternary": {
           "aaxis": {
            "gridcolor": "white",
            "linecolor": "white",
            "ticks": ""
           },
           "baxis": {
            "gridcolor": "white",
            "linecolor": "white",
            "ticks": ""
           },
           "bgcolor": "#E5ECF6",
           "caxis": {
            "gridcolor": "white",
            "linecolor": "white",
            "ticks": ""
           }
          },
          "title": {
           "x": 0.05
          },
          "xaxis": {
           "automargin": true,
           "gridcolor": "white",
           "linecolor": "white",
           "ticks": "",
           "zerolinecolor": "white",
           "zerolinewidth": 2
          },
          "yaxis": {
           "automargin": true,
           "gridcolor": "white",
           "linecolor": "white",
           "ticks": "",
           "zerolinecolor": "white",
           "zerolinewidth": 2
          }
         }
        }
       }
      },
      "text/html": [
       "<div id=\"ac2f1157-28b1-4f96-aa8e-8d6a7ae95bf1\" style=\"height: 600px; width: 100%;\" class=\"plotly-graph-div\"></div><script type=\"text/javascript\">require([\"plotly\"], function(Plotly) { window.PLOTLYENV=window.PLOTLYENV || {};window.PLOTLYENV.BASE_URL=\"https://plot.ly\";\n",
       "if (document.getElementById(\"ac2f1157-28b1-4f96-aa8e-8d6a7ae95bf1\")) {\n",
       "    Plotly.newPlot(\"ac2f1157-28b1-4f96-aa8e-8d6a7ae95bf1\", [{\"dimensions\": [{\"axis\": {\"matches\": true}, \"label\": \"month\", \"values\": [1, 2, 3, 4, 5, 6, 7, 8, 9, 10, 11, 12]}, {\"axis\": {\"matches\": true}, \"label\": \"number\", \"values\": [320, 356, 341, 468, 696, 831, 1088, 720, 449, 312, 287, 313]}, {\"axis\": {\"matches\": true}, \"label\": \"giraffe\", \"values\": [70, 73, 89, 66, 97, 168, 180, 177, 125, 81, 62, 54]}, {\"axis\": {\"matches\": true}, \"label\": \"pop\", \"values\": [8425333, 9240934, 10267083, 11537966, 13079460, 14880372, 12881816, 13867957, 16317921, 22227415, 25268405, 31889923]}], \"legendgroup\": \"area=a\", \"marker\": {\"color\": \"#636efa\", \"symbol\": \"circle\"}, \"name\": \"area=a\", \"showlegend\": true, \"type\": \"splom\", \"uid\": \"eb459abf-42f6-44d0-bc18-0a25141c7f8b\"}, {\"dimensions\": [{\"axis\": {\"matches\": true}, \"label\": \"month\", \"values\": [1, 2, 3, 4, 5, 6, 7, 8, 9, 10, 11, 12]}, {\"axis\": {\"matches\": true}, \"label\": \"number\", \"values\": [303, 318, 299, 241, 289, 669, 826, 1143, 550, 342, 301, 296]}, {\"axis\": {\"matches\": true}, \"label\": \"giraffe\", \"values\": [101, 74, 65, 88, 59, 96, 112, 143, 150, 106, 87, 71]}, {\"axis\": {\"matches\": true}, \"label\": \"pop\", \"values\": [1282697, 1476505, 1728137, 1984060, 2263554, 2509048, 2780097, 3075321, 3326498, 3428038, 3508512, 3600523]}], \"legendgroup\": \"area=b\", \"marker\": {\"color\": \"#EF553B\", \"symbol\": \"circle\"}, \"name\": \"area=b\", \"showlegend\": true, \"type\": \"splom\", \"uid\": \"73ac68c2-4564-471b-ae03-1d8bc9744702\"}, {\"dimensions\": [{\"axis\": {\"matches\": true}, \"label\": \"month\", \"values\": [1, 2, 3, 4, 5, 6, 7, 8, 9, 10, 11, 12]}, {\"axis\": {\"matches\": true}, \"label\": \"number\", \"values\": [341, 319, 268, 254, 322, 378, 483, 762, 935, 980, 511, 302]}, {\"axis\": {\"matches\": true}, \"label\": \"giraffe\", \"values\": [68, 52, 64, 46, 55, 70, 68, 62, 86, 103, 116, 89]}, {\"axis\": {\"matches\": true}, \"label\": \"pop\", \"values\": [9279525, 10270856, 11000948, 12760499, 14760787, 17152804, 20033753, 23254956, 26298373, 29072015, 31287142, 33333216]}], \"legendgroup\": \"area=c\", \"marker\": {\"color\": \"#00cc96\", \"symbol\": \"circle\"}, \"name\": \"area=c\", \"showlegend\": true, \"type\": \"splom\", \"uid\": \"c220e0e4-3827-4cb6-97b1-2281e32b5257\"}, {\"dimensions\": [{\"axis\": {\"matches\": true}, \"label\": \"month\", \"values\": [1, 2, 3, 4, 5, 6, 7, 8, 9, 10, 11, 12]}, {\"axis\": {\"matches\": true}, \"label\": \"number\", \"values\": [416, 337, 362, 340, 361, 388, 404, 461, 522, 878, 1031, 659]}, {\"axis\": {\"matches\": true}, \"label\": \"giraffe\", \"values\": [103, 86, 70, 55, 61, 49, 70, 73, 62, 87, 99, 121]}, {\"axis\": {\"matches\": true}, \"label\": \"pop\", \"values\": [4232095, 4561361, 4826015, 5247469, 5894858, 6162675, 7016384, 7874230, 8735988, 9875024, 10866106, 12420476]}], \"legendgroup\": \"area=d\", \"marker\": {\"color\": \"#ab63fa\", \"symbol\": \"circle\"}, \"name\": \"area=d\", \"showlegend\": true, \"type\": \"splom\", \"uid\": \"09fae45e-5347-4f36-a9a8-c00658156b4e\"}, {\"dimensions\": [{\"axis\": {\"matches\": true}, \"label\": \"month\", \"values\": [1, 2, 3, 4, 5, 6, 7, 8, 9, 10, 11, 12]}, {\"axis\": {\"matches\": true}, \"label\": \"number\", \"values\": [1073, 684, 466, 305, 324, 298, 366, 269, 341, 402, 559, 853]}, {\"axis\": {\"matches\": true}, \"label\": \"giraffe\", \"values\": [93, 144, 102, 65, 61, 73, 80, 81, 66, 79, 71, 90]}, {\"axis\": {\"matches\": true}, \"label\": \"pop\", \"values\": [17876956, 19610538, 21283783, 22934225, 24779799, 26983828, 29341374, 31620918, 33958947, 36203463, 38331121, 40301927]}], \"legendgroup\": \"area=e\", \"marker\": {\"color\": \"#19d3f3\", \"symbol\": \"circle\"}, \"name\": \"area=e\", \"showlegend\": true, \"type\": \"splom\", \"uid\": \"86ff6246-ea6e-477b-ae29-039fe9175cac\"}, {\"dimensions\": [{\"axis\": {\"matches\": true}, \"label\": \"month\", \"values\": [1, 2, 3, 4, 5, 6, 7, 8, 9, 10, 11, 12]}, {\"axis\": {\"matches\": true}, \"label\": \"number\", \"values\": [352, 469, 898, 1136, 740, 416, 332, 267, 309, 368, 287, 311]}, {\"axis\": {\"matches\": true}, \"label\": \"giraffe\", \"values\": [61, 80, 89, 110, 122, 69, 73, 56, 61, 69, 48, 70]}, {\"axis\": {\"matches\": true}, \"label\": \"pop\", \"values\": [8691212, 9712569, 10794968, 11872264, 13177000, 14074100, 15184200, 16257249, 17481977, 18565243, 19546792, 20434176]}], \"legendgroup\": \"area=f\", \"marker\": {\"color\": \"#e763fa\", \"symbol\": \"circle\"}, \"name\": \"area=f\", \"showlegend\": true, \"type\": \"splom\", \"uid\": \"ecb4ed16-17de-4ef0-ae01-bbfac744a486\"}], {\"dragmode\": \"select\", \"height\": 600, \"legend\": {\"tracegroupgap\": 0}, \"margin\": {\"t\": 60}, \"template\": {\"data\": {\"barpolar\": [{\"marker\": {\"line\": {\"color\": \"#E5ECF6\", \"width\": 0.5}}, \"type\": \"barpolar\"}], \"bar\": [{\"marker\": {\"line\": {\"color\": \"#E5ECF6\", \"width\": 0.5}}, \"type\": \"bar\"}], \"carpet\": [{\"aaxis\": {\"endlinecolor\": \"#2a3f5f\", \"gridcolor\": \"white\", \"linecolor\": \"white\", \"minorgridcolor\": \"white\", \"startlinecolor\": \"#2a3f5f\"}, \"baxis\": {\"endlinecolor\": \"#2a3f5f\", \"gridcolor\": \"white\", \"linecolor\": \"white\", \"minorgridcolor\": \"white\", \"startlinecolor\": \"#2a3f5f\"}, \"type\": \"carpet\"}], \"choropleth\": [{\"colorbar\": {\"outlinewidth\": 0, \"ticks\": \"\"}, \"type\": \"choropleth\"}], \"contourcarpet\": [{\"colorbar\": {\"outlinewidth\": 0, \"ticks\": \"\"}, \"type\": \"contourcarpet\"}], \"contour\": [{\"autocolorscale\": true, \"colorbar\": {\"outlinewidth\": 0, \"ticks\": \"\"}, \"type\": \"contour\"}], \"heatmapgl\": [{\"colorbar\": {\"outlinewidth\": 0, \"ticks\": \"\"}, \"type\": \"heatmapgl\"}], \"heatmap\": [{\"autocolorscale\": true, \"colorbar\": {\"outlinewidth\": 0, \"ticks\": \"\"}, \"type\": \"heatmap\"}], \"histogram2dcontour\": [{\"autocolorscale\": true, \"colorbar\": {\"outlinewidth\": 0, \"ticks\": \"\"}, \"type\": \"histogram2dcontour\"}], \"histogram2d\": [{\"autocolorscale\": true, \"colorbar\": {\"outlinewidth\": 0, \"ticks\": \"\"}, \"type\": \"histogram2d\"}], \"histogram\": [{\"marker\": {\"colorbar\": {\"outlinewidth\": 0, \"ticks\": \"\"}}, \"type\": \"histogram\"}], \"mesh3d\": [{\"colorbar\": {\"outlinewidth\": 0, \"ticks\": \"\"}, \"type\": \"mesh3d\"}], \"parcoords\": [{\"line\": {\"colorbar\": {\"outlinewidth\": 0, \"ticks\": \"\"}}, \"type\": \"parcoords\"}], \"scatter3d\": [{\"marker\": {\"colorbar\": {\"outlinewidth\": 0, \"ticks\": \"\"}}, \"type\": \"scatter3d\"}], \"scattercarpet\": [{\"marker\": {\"colorbar\": {\"outlinewidth\": 0, \"ticks\": \"\"}}, \"type\": \"scattercarpet\"}], \"scattergeo\": [{\"marker\": {\"colorbar\": {\"outlinewidth\": 0, \"ticks\": \"\"}}, \"type\": \"scattergeo\"}], \"scattergl\": [{\"marker\": {\"colorbar\": {\"outlinewidth\": 0, \"ticks\": \"\"}}, \"type\": \"scattergl\"}], \"scattermapbox\": [{\"marker\": {\"colorbar\": {\"outlinewidth\": 0, \"ticks\": \"\"}}, \"type\": \"scattermapbox\"}], \"scatterpolargl\": [{\"marker\": {\"colorbar\": {\"outlinewidth\": 0, \"ticks\": \"\"}}, \"type\": \"scatterpolargl\"}], \"scatterpolar\": [{\"marker\": {\"colorbar\": {\"outlinewidth\": 0, \"ticks\": \"\"}}, \"type\": \"scatterpolar\"}], \"scatter\": [{\"marker\": {\"colorbar\": {\"outlinewidth\": 0, \"ticks\": \"\"}}, \"type\": \"scatter\"}], \"scatterternary\": [{\"marker\": {\"colorbar\": {\"outlinewidth\": 0, \"ticks\": \"\"}}, \"type\": \"scatterternary\"}], \"surface\": [{\"colorbar\": {\"outlinewidth\": 0, \"ticks\": \"\"}, \"type\": \"surface\"}], \"table\": [{\"cells\": {\"fill\": {\"color\": \"#EBF0F8\"}, \"line\": {\"color\": \"white\"}}, \"header\": {\"fill\": {\"color\": \"#C8D4E3\"}, \"line\": {\"color\": \"white\"}}, \"type\": \"table\"}]}, \"layout\": {\"annotationdefaults\": {\"arrowcolor\": \"#506784\", \"arrowhead\": 0, \"arrowwidth\": 1}, \"colorscale\": {\"diverging\": [[0, \"#8e0152\"], [0.1, \"#c51b7d\"], [0.2, \"#de77ae\"], [0.3, \"#f1b6da\"], [0.4, \"#fde0ef\"], [0.5, \"#f7f7f7\"], [0.6, \"#e6f5d0\"], [0.7, \"#b8e186\"], [0.8, \"#7fbc41\"], [0.9, \"#4d9221\"], [1, \"#276419\"]], \"sequential\": [[0.0, \"#0508b8\"], [0.0893854748603352, \"#1910d8\"], [0.1787709497206704, \"#3c19f0\"], [0.2681564245810056, \"#6b1cfb\"], [0.3575418994413408, \"#981cfd\"], [0.44692737430167595, \"#bf1cfd\"], [0.5363128491620112, \"#dd2bfd\"], [0.6256983240223464, \"#f246fe\"], [0.7150837988826816, \"#fc67fd\"], [0.8044692737430168, \"#fe88fc\"], [0.8938547486033519, \"#fea5fd\"], [0.9832402234636871, \"#febefe\"], [1.0, \"#fec3fe\"]], \"sequentialminus\": [[0.0, \"#0508b8\"], [0.0893854748603352, \"#1910d8\"], [0.1787709497206704, \"#3c19f0\"], [0.2681564245810056, \"#6b1cfb\"], [0.3575418994413408, \"#981cfd\"], [0.44692737430167595, \"#bf1cfd\"], [0.5363128491620112, \"#dd2bfd\"], [0.6256983240223464, \"#f246fe\"], [0.7150837988826816, \"#fc67fd\"], [0.8044692737430168, \"#fe88fc\"], [0.8938547486033519, \"#fea5fd\"], [0.9832402234636871, \"#febefe\"], [1.0, \"#fec3fe\"]]}, \"colorway\": [\"#636efa\", \"#EF553B\", \"#00cc96\", \"#ab63fa\", \"#19d3f3\", \"#e763fa\", \"#FECB52\", \"#FFA15A\", \"#FF6692\", \"#B6E880\"], \"font\": {\"color\": \"#2a3f5f\"}, \"geo\": {\"bgcolor\": \"white\", \"lakecolor\": \"white\", \"landcolor\": \"#E5ECF6\", \"showlakes\": true, \"showland\": true, \"subunitcolor\": \"white\"}, \"hovermode\": \"closest\", \"mapbox\": {\"style\": \"light\"}, \"paper_bgcolor\": \"white\", \"plot_bgcolor\": \"#E5ECF6\", \"polar\": {\"angularaxis\": {\"gridcolor\": \"white\", \"linecolor\": \"white\", \"ticks\": \"\"}, \"bgcolor\": \"#E5ECF6\", \"radialaxis\": {\"gridcolor\": \"white\", \"linecolor\": \"white\", \"ticks\": \"\"}}, \"scene\": {\"xaxis\": {\"backgroundcolor\": \"#E5ECF6\", \"gridcolor\": \"white\", \"gridwidth\": 2, \"linecolor\": \"white\", \"showbackground\": true, \"ticks\": \"\", \"zerolinecolor\": \"white\"}, \"yaxis\": {\"backgroundcolor\": \"#E5ECF6\", \"gridcolor\": \"white\", \"gridwidth\": 2, \"linecolor\": \"white\", \"showbackground\": true, \"ticks\": \"\", \"zerolinecolor\": \"white\"}, \"zaxis\": {\"backgroundcolor\": \"#E5ECF6\", \"gridcolor\": \"white\", \"gridwidth\": 2, \"linecolor\": \"white\", \"showbackground\": true, \"ticks\": \"\", \"zerolinecolor\": \"white\"}}, \"shapedefaults\": {\"fillcolor\": \"#506784\", \"line\": {\"width\": 0}, \"opacity\": 0.4}, \"ternary\": {\"aaxis\": {\"gridcolor\": \"white\", \"linecolor\": \"white\", \"ticks\": \"\"}, \"baxis\": {\"gridcolor\": \"white\", \"linecolor\": \"white\", \"ticks\": \"\"}, \"bgcolor\": \"#E5ECF6\", \"caxis\": {\"gridcolor\": \"white\", \"linecolor\": \"white\", \"ticks\": \"\"}}, \"title\": {\"x\": 0.05}, \"xaxis\": {\"automargin\": true, \"gridcolor\": \"white\", \"linecolor\": \"white\", \"ticks\": \"\", \"zerolinecolor\": \"white\", \"zerolinewidth\": 2}, \"yaxis\": {\"automargin\": true, \"gridcolor\": \"white\", \"linecolor\": \"white\", \"ticks\": \"\", \"zerolinecolor\": \"white\", \"zerolinewidth\": 2}}}}, {\"showLink\": false, \"linkText\": \"Export to plot.ly\", \"plotlyServerURL\": \"https://plot.ly\"}); \n",
       "}\n",
       "});</script><script type=\"text/javascript\">window.addEventListener(\"resize\", function(){if (document.getElementById(\"ac2f1157-28b1-4f96-aa8e-8d6a7ae95bf1\")) {window._Plotly.Plots.resize(document.getElementById(\"ac2f1157-28b1-4f96-aa8e-8d6a7ae95bf1\"));};})</script>"
      ],
      "text/vnd.plotly.v1+html": [
       "<div id=\"ac2f1157-28b1-4f96-aa8e-8d6a7ae95bf1\" style=\"height: 600px; width: 100%;\" class=\"plotly-graph-div\"></div><script type=\"text/javascript\">require([\"plotly\"], function(Plotly) { window.PLOTLYENV=window.PLOTLYENV || {};window.PLOTLYENV.BASE_URL=\"https://plot.ly\";\n",
       "if (document.getElementById(\"ac2f1157-28b1-4f96-aa8e-8d6a7ae95bf1\")) {\n",
       "    Plotly.newPlot(\"ac2f1157-28b1-4f96-aa8e-8d6a7ae95bf1\", [{\"dimensions\": [{\"axis\": {\"matches\": true}, \"label\": \"month\", \"values\": [1, 2, 3, 4, 5, 6, 7, 8, 9, 10, 11, 12]}, {\"axis\": {\"matches\": true}, \"label\": \"number\", \"values\": [320, 356, 341, 468, 696, 831, 1088, 720, 449, 312, 287, 313]}, {\"axis\": {\"matches\": true}, \"label\": \"giraffe\", \"values\": [70, 73, 89, 66, 97, 168, 180, 177, 125, 81, 62, 54]}, {\"axis\": {\"matches\": true}, \"label\": \"pop\", \"values\": [8425333, 9240934, 10267083, 11537966, 13079460, 14880372, 12881816, 13867957, 16317921, 22227415, 25268405, 31889923]}], \"legendgroup\": \"area=a\", \"marker\": {\"color\": \"#636efa\", \"symbol\": \"circle\"}, \"name\": \"area=a\", \"showlegend\": true, \"type\": \"splom\", \"uid\": \"eb459abf-42f6-44d0-bc18-0a25141c7f8b\"}, {\"dimensions\": [{\"axis\": {\"matches\": true}, \"label\": \"month\", \"values\": [1, 2, 3, 4, 5, 6, 7, 8, 9, 10, 11, 12]}, {\"axis\": {\"matches\": true}, \"label\": \"number\", \"values\": [303, 318, 299, 241, 289, 669, 826, 1143, 550, 342, 301, 296]}, {\"axis\": {\"matches\": true}, \"label\": \"giraffe\", \"values\": [101, 74, 65, 88, 59, 96, 112, 143, 150, 106, 87, 71]}, {\"axis\": {\"matches\": true}, \"label\": \"pop\", \"values\": [1282697, 1476505, 1728137, 1984060, 2263554, 2509048, 2780097, 3075321, 3326498, 3428038, 3508512, 3600523]}], \"legendgroup\": \"area=b\", \"marker\": {\"color\": \"#EF553B\", \"symbol\": \"circle\"}, \"name\": \"area=b\", \"showlegend\": true, \"type\": \"splom\", \"uid\": \"73ac68c2-4564-471b-ae03-1d8bc9744702\"}, {\"dimensions\": [{\"axis\": {\"matches\": true}, \"label\": \"month\", \"values\": [1, 2, 3, 4, 5, 6, 7, 8, 9, 10, 11, 12]}, {\"axis\": {\"matches\": true}, \"label\": \"number\", \"values\": [341, 319, 268, 254, 322, 378, 483, 762, 935, 980, 511, 302]}, {\"axis\": {\"matches\": true}, \"label\": \"giraffe\", \"values\": [68, 52, 64, 46, 55, 70, 68, 62, 86, 103, 116, 89]}, {\"axis\": {\"matches\": true}, \"label\": \"pop\", \"values\": [9279525, 10270856, 11000948, 12760499, 14760787, 17152804, 20033753, 23254956, 26298373, 29072015, 31287142, 33333216]}], \"legendgroup\": \"area=c\", \"marker\": {\"color\": \"#00cc96\", \"symbol\": \"circle\"}, \"name\": \"area=c\", \"showlegend\": true, \"type\": \"splom\", \"uid\": \"c220e0e4-3827-4cb6-97b1-2281e32b5257\"}, {\"dimensions\": [{\"axis\": {\"matches\": true}, \"label\": \"month\", \"values\": [1, 2, 3, 4, 5, 6, 7, 8, 9, 10, 11, 12]}, {\"axis\": {\"matches\": true}, \"label\": \"number\", \"values\": [416, 337, 362, 340, 361, 388, 404, 461, 522, 878, 1031, 659]}, {\"axis\": {\"matches\": true}, \"label\": \"giraffe\", \"values\": [103, 86, 70, 55, 61, 49, 70, 73, 62, 87, 99, 121]}, {\"axis\": {\"matches\": true}, \"label\": \"pop\", \"values\": [4232095, 4561361, 4826015, 5247469, 5894858, 6162675, 7016384, 7874230, 8735988, 9875024, 10866106, 12420476]}], \"legendgroup\": \"area=d\", \"marker\": {\"color\": \"#ab63fa\", \"symbol\": \"circle\"}, \"name\": \"area=d\", \"showlegend\": true, \"type\": \"splom\", \"uid\": \"09fae45e-5347-4f36-a9a8-c00658156b4e\"}, {\"dimensions\": [{\"axis\": {\"matches\": true}, \"label\": \"month\", \"values\": [1, 2, 3, 4, 5, 6, 7, 8, 9, 10, 11, 12]}, {\"axis\": {\"matches\": true}, \"label\": \"number\", \"values\": [1073, 684, 466, 305, 324, 298, 366, 269, 341, 402, 559, 853]}, {\"axis\": {\"matches\": true}, \"label\": \"giraffe\", \"values\": [93, 144, 102, 65, 61, 73, 80, 81, 66, 79, 71, 90]}, {\"axis\": {\"matches\": true}, \"label\": \"pop\", \"values\": [17876956, 19610538, 21283783, 22934225, 24779799, 26983828, 29341374, 31620918, 33958947, 36203463, 38331121, 40301927]}], \"legendgroup\": \"area=e\", \"marker\": {\"color\": \"#19d3f3\", \"symbol\": \"circle\"}, \"name\": \"area=e\", \"showlegend\": true, \"type\": \"splom\", \"uid\": \"86ff6246-ea6e-477b-ae29-039fe9175cac\"}, {\"dimensions\": [{\"axis\": {\"matches\": true}, \"label\": \"month\", \"values\": [1, 2, 3, 4, 5, 6, 7, 8, 9, 10, 11, 12]}, {\"axis\": {\"matches\": true}, \"label\": \"number\", \"values\": [352, 469, 898, 1136, 740, 416, 332, 267, 309, 368, 287, 311]}, {\"axis\": {\"matches\": true}, \"label\": \"giraffe\", \"values\": [61, 80, 89, 110, 122, 69, 73, 56, 61, 69, 48, 70]}, {\"axis\": {\"matches\": true}, \"label\": \"pop\", \"values\": [8691212, 9712569, 10794968, 11872264, 13177000, 14074100, 15184200, 16257249, 17481977, 18565243, 19546792, 20434176]}], \"legendgroup\": \"area=f\", \"marker\": {\"color\": \"#e763fa\", \"symbol\": \"circle\"}, \"name\": \"area=f\", \"showlegend\": true, \"type\": \"splom\", \"uid\": \"ecb4ed16-17de-4ef0-ae01-bbfac744a486\"}], {\"dragmode\": \"select\", \"height\": 600, \"legend\": {\"tracegroupgap\": 0}, \"margin\": {\"t\": 60}, \"template\": {\"data\": {\"barpolar\": [{\"marker\": {\"line\": {\"color\": \"#E5ECF6\", \"width\": 0.5}}, \"type\": \"barpolar\"}], \"bar\": [{\"marker\": {\"line\": {\"color\": \"#E5ECF6\", \"width\": 0.5}}, \"type\": \"bar\"}], \"carpet\": [{\"aaxis\": {\"endlinecolor\": \"#2a3f5f\", \"gridcolor\": \"white\", \"linecolor\": \"white\", \"minorgridcolor\": \"white\", \"startlinecolor\": \"#2a3f5f\"}, \"baxis\": {\"endlinecolor\": \"#2a3f5f\", \"gridcolor\": \"white\", \"linecolor\": \"white\", \"minorgridcolor\": \"white\", \"startlinecolor\": \"#2a3f5f\"}, \"type\": \"carpet\"}], \"choropleth\": [{\"colorbar\": {\"outlinewidth\": 0, \"ticks\": \"\"}, \"type\": \"choropleth\"}], \"contourcarpet\": [{\"colorbar\": {\"outlinewidth\": 0, \"ticks\": \"\"}, \"type\": \"contourcarpet\"}], \"contour\": [{\"autocolorscale\": true, \"colorbar\": {\"outlinewidth\": 0, \"ticks\": \"\"}, \"type\": \"contour\"}], \"heatmapgl\": [{\"colorbar\": {\"outlinewidth\": 0, \"ticks\": \"\"}, \"type\": \"heatmapgl\"}], \"heatmap\": [{\"autocolorscale\": true, \"colorbar\": {\"outlinewidth\": 0, \"ticks\": \"\"}, \"type\": \"heatmap\"}], \"histogram2dcontour\": [{\"autocolorscale\": true, \"colorbar\": {\"outlinewidth\": 0, \"ticks\": \"\"}, \"type\": \"histogram2dcontour\"}], \"histogram2d\": [{\"autocolorscale\": true, \"colorbar\": {\"outlinewidth\": 0, \"ticks\": \"\"}, \"type\": \"histogram2d\"}], \"histogram\": [{\"marker\": {\"colorbar\": {\"outlinewidth\": 0, \"ticks\": \"\"}}, \"type\": \"histogram\"}], \"mesh3d\": [{\"colorbar\": {\"outlinewidth\": 0, \"ticks\": \"\"}, \"type\": \"mesh3d\"}], \"parcoords\": [{\"line\": {\"colorbar\": {\"outlinewidth\": 0, \"ticks\": \"\"}}, \"type\": \"parcoords\"}], \"scatter3d\": [{\"marker\": {\"colorbar\": {\"outlinewidth\": 0, \"ticks\": \"\"}}, \"type\": \"scatter3d\"}], \"scattercarpet\": [{\"marker\": {\"colorbar\": {\"outlinewidth\": 0, \"ticks\": \"\"}}, \"type\": \"scattercarpet\"}], \"scattergeo\": [{\"marker\": {\"colorbar\": {\"outlinewidth\": 0, \"ticks\": \"\"}}, \"type\": \"scattergeo\"}], \"scattergl\": [{\"marker\": {\"colorbar\": {\"outlinewidth\": 0, \"ticks\": \"\"}}, \"type\": \"scattergl\"}], \"scattermapbox\": [{\"marker\": {\"colorbar\": {\"outlinewidth\": 0, \"ticks\": \"\"}}, \"type\": \"scattermapbox\"}], \"scatterpolargl\": [{\"marker\": {\"colorbar\": {\"outlinewidth\": 0, \"ticks\": \"\"}}, \"type\": \"scatterpolargl\"}], \"scatterpolar\": [{\"marker\": {\"colorbar\": {\"outlinewidth\": 0, \"ticks\": \"\"}}, \"type\": \"scatterpolar\"}], \"scatter\": [{\"marker\": {\"colorbar\": {\"outlinewidth\": 0, \"ticks\": \"\"}}, \"type\": \"scatter\"}], \"scatterternary\": [{\"marker\": {\"colorbar\": {\"outlinewidth\": 0, \"ticks\": \"\"}}, \"type\": \"scatterternary\"}], \"surface\": [{\"colorbar\": {\"outlinewidth\": 0, \"ticks\": \"\"}, \"type\": \"surface\"}], \"table\": [{\"cells\": {\"fill\": {\"color\": \"#EBF0F8\"}, \"line\": {\"color\": \"white\"}}, \"header\": {\"fill\": {\"color\": \"#C8D4E3\"}, \"line\": {\"color\": \"white\"}}, \"type\": \"table\"}]}, \"layout\": {\"annotationdefaults\": {\"arrowcolor\": \"#506784\", \"arrowhead\": 0, \"arrowwidth\": 1}, \"colorscale\": {\"diverging\": [[0, \"#8e0152\"], [0.1, \"#c51b7d\"], [0.2, \"#de77ae\"], [0.3, \"#f1b6da\"], [0.4, \"#fde0ef\"], [0.5, \"#f7f7f7\"], [0.6, \"#e6f5d0\"], [0.7, \"#b8e186\"], [0.8, \"#7fbc41\"], [0.9, \"#4d9221\"], [1, \"#276419\"]], \"sequential\": [[0.0, \"#0508b8\"], [0.0893854748603352, \"#1910d8\"], [0.1787709497206704, \"#3c19f0\"], [0.2681564245810056, \"#6b1cfb\"], [0.3575418994413408, \"#981cfd\"], [0.44692737430167595, \"#bf1cfd\"], [0.5363128491620112, \"#dd2bfd\"], [0.6256983240223464, \"#f246fe\"], [0.7150837988826816, \"#fc67fd\"], [0.8044692737430168, \"#fe88fc\"], [0.8938547486033519, \"#fea5fd\"], [0.9832402234636871, \"#febefe\"], [1.0, \"#fec3fe\"]], \"sequentialminus\": [[0.0, \"#0508b8\"], [0.0893854748603352, \"#1910d8\"], [0.1787709497206704, \"#3c19f0\"], [0.2681564245810056, \"#6b1cfb\"], [0.3575418994413408, \"#981cfd\"], [0.44692737430167595, \"#bf1cfd\"], [0.5363128491620112, \"#dd2bfd\"], [0.6256983240223464, \"#f246fe\"], [0.7150837988826816, \"#fc67fd\"], [0.8044692737430168, \"#fe88fc\"], [0.8938547486033519, \"#fea5fd\"], [0.9832402234636871, \"#febefe\"], [1.0, \"#fec3fe\"]]}, \"colorway\": [\"#636efa\", \"#EF553B\", \"#00cc96\", \"#ab63fa\", \"#19d3f3\", \"#e763fa\", \"#FECB52\", \"#FFA15A\", \"#FF6692\", \"#B6E880\"], \"font\": {\"color\": \"#2a3f5f\"}, \"geo\": {\"bgcolor\": \"white\", \"lakecolor\": \"white\", \"landcolor\": \"#E5ECF6\", \"showlakes\": true, \"showland\": true, \"subunitcolor\": \"white\"}, \"hovermode\": \"closest\", \"mapbox\": {\"style\": \"light\"}, \"paper_bgcolor\": \"white\", \"plot_bgcolor\": \"#E5ECF6\", \"polar\": {\"angularaxis\": {\"gridcolor\": \"white\", \"linecolor\": \"white\", \"ticks\": \"\"}, \"bgcolor\": \"#E5ECF6\", \"radialaxis\": {\"gridcolor\": \"white\", \"linecolor\": \"white\", \"ticks\": \"\"}}, \"scene\": {\"xaxis\": {\"backgroundcolor\": \"#E5ECF6\", \"gridcolor\": \"white\", \"gridwidth\": 2, \"linecolor\": \"white\", \"showbackground\": true, \"ticks\": \"\", \"zerolinecolor\": \"white\"}, \"yaxis\": {\"backgroundcolor\": \"#E5ECF6\", \"gridcolor\": \"white\", \"gridwidth\": 2, \"linecolor\": \"white\", \"showbackground\": true, \"ticks\": \"\", \"zerolinecolor\": \"white\"}, \"zaxis\": {\"backgroundcolor\": \"#E5ECF6\", \"gridcolor\": \"white\", \"gridwidth\": 2, \"linecolor\": \"white\", \"showbackground\": true, \"ticks\": \"\", \"zerolinecolor\": \"white\"}}, \"shapedefaults\": {\"fillcolor\": \"#506784\", \"line\": {\"width\": 0}, \"opacity\": 0.4}, \"ternary\": {\"aaxis\": {\"gridcolor\": \"white\", \"linecolor\": \"white\", \"ticks\": \"\"}, \"baxis\": {\"gridcolor\": \"white\", \"linecolor\": \"white\", \"ticks\": \"\"}, \"bgcolor\": \"#E5ECF6\", \"caxis\": {\"gridcolor\": \"white\", \"linecolor\": \"white\", \"ticks\": \"\"}}, \"title\": {\"x\": 0.05}, \"xaxis\": {\"automargin\": true, \"gridcolor\": \"white\", \"linecolor\": \"white\", \"ticks\": \"\", \"zerolinecolor\": \"white\", \"zerolinewidth\": 2}, \"yaxis\": {\"automargin\": true, \"gridcolor\": \"white\", \"linecolor\": \"white\", \"ticks\": \"\", \"zerolinecolor\": \"white\", \"zerolinewidth\": 2}}}}, {\"showLink\": false, \"linkText\": \"Export to plot.ly\", \"plotlyServerURL\": \"https://plot.ly\"}); \n",
       "}\n",
       "});</script><script type=\"text/javascript\">window.addEventListener(\"resize\", function(){if (document.getElementById(\"ac2f1157-28b1-4f96-aa8e-8d6a7ae95bf1\")) {window._Plotly.Plots.resize(document.getElementById(\"ac2f1157-28b1-4f96-aa8e-8d6a7ae95bf1\"));};})</script>"
      ]
     },
     "metadata": {},
     "output_type": "display_data"
    }
   ],
   "source": [
    "px.scatter_matrix(dataset, dimensions=[\"giraffe\", \"number\", \"pop\", \"month\"], color=\"area\")"
   ]
  },
  {
   "cell_type": "code",
   "execution_count": 8,
   "metadata": {},
   "outputs": [
    {
     "data": {
      "application/vnd.plotly.v1+json": {
       "config": {
        "linkText": "Export to plot.ly",
        "plotlyServerURL": "https://plot.ly",
        "showLink": false
       },
       "data": [
        {
         "hovertemplate": "<b>%{hovertext}</b><br><br>area=a<br>giraffe=%{x}<br>number=%{y}<br>pop=%{marker.size}<extra></extra>",
         "hovertext": [
          70,
          73,
          89,
          66,
          97,
          168,
          180,
          177,
          125,
          81,
          62,
          54
         ],
         "legendgroup": "area=a",
         "marker": {
          "color": "#636efa",
          "size": [
           8425333,
           9240934,
           10267083,
           11537966,
           13079460,
           14880372,
           12881816,
           13867957,
           16317921,
           22227415,
           25268405,
           31889923
          ],
          "sizemode": "area",
          "sizeref": 100754.8175,
          "symbol": "circle"
         },
         "mode": "markers",
         "name": "area=a",
         "showlegend": true,
         "type": "scatter",
         "uid": "2f44fb86-b36a-49d6-8534-ef90fb2bc4b9",
         "x": [
          70,
          73,
          89,
          66,
          97,
          168,
          180,
          177,
          125,
          81,
          62,
          54
         ],
         "xaxis": "x",
         "y": [
          320,
          356,
          341,
          468,
          696,
          831,
          1088,
          720,
          449,
          312,
          287,
          313
         ],
         "yaxis": "y"
        },
        {
         "hovertemplate": "<b>%{hovertext}</b><br><br>area=b<br>giraffe=%{x}<br>number=%{y}<br>pop=%{marker.size}<extra></extra>",
         "hovertext": [
          101,
          74,
          65,
          88,
          59,
          96,
          112,
          143,
          150,
          106,
          87,
          71
         ],
         "legendgroup": "area=b",
         "marker": {
          "color": "#EF553B",
          "size": [
           1282697,
           1476505,
           1728137,
           1984060,
           2263554,
           2509048,
           2780097,
           3075321,
           3326498,
           3428038,
           3508512,
           3600523
          ],
          "sizemode": "area",
          "sizeref": 100754.8175,
          "symbol": "circle"
         },
         "mode": "markers",
         "name": "area=b",
         "showlegend": true,
         "type": "scatter",
         "uid": "184725cd-6ae6-4a1b-b13d-b7a976247a4e",
         "x": [
          101,
          74,
          65,
          88,
          59,
          96,
          112,
          143,
          150,
          106,
          87,
          71
         ],
         "xaxis": "x",
         "y": [
          303,
          318,
          299,
          241,
          289,
          669,
          826,
          1143,
          550,
          342,
          301,
          296
         ],
         "yaxis": "y"
        },
        {
         "hovertemplate": "<b>%{hovertext}</b><br><br>area=c<br>giraffe=%{x}<br>number=%{y}<br>pop=%{marker.size}<extra></extra>",
         "hovertext": [
          68,
          52,
          64,
          46,
          55,
          70,
          68,
          62,
          86,
          103,
          116,
          89
         ],
         "legendgroup": "area=c",
         "marker": {
          "color": "#00cc96",
          "size": [
           9279525,
           10270856,
           11000948,
           12760499,
           14760787,
           17152804,
           20033753,
           23254956,
           26298373,
           29072015,
           31287142,
           33333216
          ],
          "sizemode": "area",
          "sizeref": 100754.8175,
          "symbol": "circle"
         },
         "mode": "markers",
         "name": "area=c",
         "showlegend": true,
         "type": "scatter",
         "uid": "7073f654-1b30-4557-abea-baa28018e63c",
         "x": [
          68,
          52,
          64,
          46,
          55,
          70,
          68,
          62,
          86,
          103,
          116,
          89
         ],
         "xaxis": "x",
         "y": [
          341,
          319,
          268,
          254,
          322,
          378,
          483,
          762,
          935,
          980,
          511,
          302
         ],
         "yaxis": "y"
        },
        {
         "hovertemplate": "<b>%{hovertext}</b><br><br>area=d<br>giraffe=%{x}<br>number=%{y}<br>pop=%{marker.size}<extra></extra>",
         "hovertext": [
          103,
          86,
          70,
          55,
          61,
          49,
          70,
          73,
          62,
          87,
          99,
          121
         ],
         "legendgroup": "area=d",
         "marker": {
          "color": "#ab63fa",
          "size": [
           4232095,
           4561361,
           4826015,
           5247469,
           5894858,
           6162675,
           7016384,
           7874230,
           8735988,
           9875024,
           10866106,
           12420476
          ],
          "sizemode": "area",
          "sizeref": 100754.8175,
          "symbol": "circle"
         },
         "mode": "markers",
         "name": "area=d",
         "showlegend": true,
         "type": "scatter",
         "uid": "0db34917-09bf-46eb-8a3b-0a17bf13af39",
         "x": [
          103,
          86,
          70,
          55,
          61,
          49,
          70,
          73,
          62,
          87,
          99,
          121
         ],
         "xaxis": "x",
         "y": [
          416,
          337,
          362,
          340,
          361,
          388,
          404,
          461,
          522,
          878,
          1031,
          659
         ],
         "yaxis": "y"
        },
        {
         "hovertemplate": "<b>%{hovertext}</b><br><br>area=e<br>giraffe=%{x}<br>number=%{y}<br>pop=%{marker.size}<extra></extra>",
         "hovertext": [
          93,
          144,
          102,
          65,
          61,
          73,
          80,
          81,
          66,
          79,
          71,
          90
         ],
         "legendgroup": "area=e",
         "marker": {
          "color": "#19d3f3",
          "size": [
           17876956,
           19610538,
           21283783,
           22934225,
           24779799,
           26983828,
           29341374,
           31620918,
           33958947,
           36203463,
           38331121,
           40301927
          ],
          "sizemode": "area",
          "sizeref": 100754.8175,
          "symbol": "circle"
         },
         "mode": "markers",
         "name": "area=e",
         "showlegend": true,
         "type": "scatter",
         "uid": "2ef31aa0-c8e8-4a0e-b4d6-a33a29ccb617",
         "x": [
          93,
          144,
          102,
          65,
          61,
          73,
          80,
          81,
          66,
          79,
          71,
          90
         ],
         "xaxis": "x",
         "y": [
          1073,
          684,
          466,
          305,
          324,
          298,
          366,
          269,
          341,
          402,
          559,
          853
         ],
         "yaxis": "y"
        },
        {
         "hovertemplate": "<b>%{hovertext}</b><br><br>area=f<br>giraffe=%{x}<br>number=%{y}<br>pop=%{marker.size}<extra></extra>",
         "hovertext": [
          61,
          80,
          89,
          110,
          122,
          69,
          73,
          56,
          61,
          69,
          48,
          70
         ],
         "legendgroup": "area=f",
         "marker": {
          "color": "#e763fa",
          "size": [
           8691212,
           9712569,
           10794968,
           11872264,
           13177000,
           14074100,
           15184200,
           16257249,
           17481977,
           18565243,
           19546792,
           20434176
          ],
          "sizemode": "area",
          "sizeref": 100754.8175,
          "symbol": "circle"
         },
         "mode": "markers",
         "name": "area=f",
         "showlegend": true,
         "type": "scatter",
         "uid": "5da0e456-142f-44b9-a8fa-0b623821f022",
         "x": [
          61,
          80,
          89,
          110,
          122,
          69,
          73,
          56,
          61,
          69,
          48,
          70
         ],
         "xaxis": "x",
         "y": [
          352,
          469,
          898,
          1136,
          740,
          416,
          332,
          267,
          309,
          368,
          287,
          311
         ],
         "yaxis": "y"
        }
       ],
       "layout": {
        "grid": {
         "xaxes": [
          "x"
         ],
         "xgap": 0.1,
         "xside": "bottom",
         "yaxes": [
          "y"
         ],
         "ygap": 0.1,
         "yside": "left"
        },
        "height": 600,
        "legend": {
         "tracegroupgap": 0
        },
        "margin": {
         "t": 60
        },
        "template": {
         "data": {
          "bar": [
           {
            "marker": {
             "line": {
              "color": "#E5ECF6",
              "width": 0.5
             }
            },
            "type": "bar"
           }
          ],
          "barpolar": [
           {
            "marker": {
             "line": {
              "color": "#E5ECF6",
              "width": 0.5
             }
            },
            "type": "barpolar"
           }
          ],
          "carpet": [
           {
            "aaxis": {
             "endlinecolor": "#2a3f5f",
             "gridcolor": "white",
             "linecolor": "white",
             "minorgridcolor": "white",
             "startlinecolor": "#2a3f5f"
            },
            "baxis": {
             "endlinecolor": "#2a3f5f",
             "gridcolor": "white",
             "linecolor": "white",
             "minorgridcolor": "white",
             "startlinecolor": "#2a3f5f"
            },
            "type": "carpet"
           }
          ],
          "choropleth": [
           {
            "colorbar": {
             "outlinewidth": 0,
             "ticks": ""
            },
            "type": "choropleth"
           }
          ],
          "contour": [
           {
            "autocolorscale": true,
            "colorbar": {
             "outlinewidth": 0,
             "ticks": ""
            },
            "type": "contour"
           }
          ],
          "contourcarpet": [
           {
            "colorbar": {
             "outlinewidth": 0,
             "ticks": ""
            },
            "type": "contourcarpet"
           }
          ],
          "heatmap": [
           {
            "autocolorscale": true,
            "colorbar": {
             "outlinewidth": 0,
             "ticks": ""
            },
            "type": "heatmap"
           }
          ],
          "heatmapgl": [
           {
            "colorbar": {
             "outlinewidth": 0,
             "ticks": ""
            },
            "type": "heatmapgl"
           }
          ],
          "histogram": [
           {
            "marker": {
             "colorbar": {
              "outlinewidth": 0,
              "ticks": ""
             }
            },
            "type": "histogram"
           }
          ],
          "histogram2d": [
           {
            "autocolorscale": true,
            "colorbar": {
             "outlinewidth": 0,
             "ticks": ""
            },
            "type": "histogram2d"
           }
          ],
          "histogram2dcontour": [
           {
            "autocolorscale": true,
            "colorbar": {
             "outlinewidth": 0,
             "ticks": ""
            },
            "type": "histogram2dcontour"
           }
          ],
          "mesh3d": [
           {
            "colorbar": {
             "outlinewidth": 0,
             "ticks": ""
            },
            "type": "mesh3d"
           }
          ],
          "parcoords": [
           {
            "line": {
             "colorbar": {
              "outlinewidth": 0,
              "ticks": ""
             }
            },
            "type": "parcoords"
           }
          ],
          "scatter": [
           {
            "marker": {
             "colorbar": {
              "outlinewidth": 0,
              "ticks": ""
             }
            },
            "type": "scatter"
           }
          ],
          "scatter3d": [
           {
            "marker": {
             "colorbar": {
              "outlinewidth": 0,
              "ticks": ""
             }
            },
            "type": "scatter3d"
           }
          ],
          "scattercarpet": [
           {
            "marker": {
             "colorbar": {
              "outlinewidth": 0,
              "ticks": ""
             }
            },
            "type": "scattercarpet"
           }
          ],
          "scattergeo": [
           {
            "marker": {
             "colorbar": {
              "outlinewidth": 0,
              "ticks": ""
             }
            },
            "type": "scattergeo"
           }
          ],
          "scattergl": [
           {
            "marker": {
             "colorbar": {
              "outlinewidth": 0,
              "ticks": ""
             }
            },
            "type": "scattergl"
           }
          ],
          "scattermapbox": [
           {
            "marker": {
             "colorbar": {
              "outlinewidth": 0,
              "ticks": ""
             }
            },
            "type": "scattermapbox"
           }
          ],
          "scatterpolar": [
           {
            "marker": {
             "colorbar": {
              "outlinewidth": 0,
              "ticks": ""
             }
            },
            "type": "scatterpolar"
           }
          ],
          "scatterpolargl": [
           {
            "marker": {
             "colorbar": {
              "outlinewidth": 0,
              "ticks": ""
             }
            },
            "type": "scatterpolargl"
           }
          ],
          "scatterternary": [
           {
            "marker": {
             "colorbar": {
              "outlinewidth": 0,
              "ticks": ""
             }
            },
            "type": "scatterternary"
           }
          ],
          "surface": [
           {
            "colorbar": {
             "outlinewidth": 0,
             "ticks": ""
            },
            "type": "surface"
           }
          ],
          "table": [
           {
            "cells": {
             "fill": {
              "color": "#EBF0F8"
             },
             "line": {
              "color": "white"
             }
            },
            "header": {
             "fill": {
              "color": "#C8D4E3"
             },
             "line": {
              "color": "white"
             }
            },
            "type": "table"
           }
          ]
         },
         "layout": {
          "annotationdefaults": {
           "arrowcolor": "#506784",
           "arrowhead": 0,
           "arrowwidth": 1
          },
          "colorscale": {
           "diverging": [
            [
             0,
             "#8e0152"
            ],
            [
             0.1,
             "#c51b7d"
            ],
            [
             0.2,
             "#de77ae"
            ],
            [
             0.3,
             "#f1b6da"
            ],
            [
             0.4,
             "#fde0ef"
            ],
            [
             0.5,
             "#f7f7f7"
            ],
            [
             0.6,
             "#e6f5d0"
            ],
            [
             0.7,
             "#b8e186"
            ],
            [
             0.8,
             "#7fbc41"
            ],
            [
             0.9,
             "#4d9221"
            ],
            [
             1,
             "#276419"
            ]
           ],
           "sequential": [
            [
             0,
             "#0508b8"
            ],
            [
             0.0893854748603352,
             "#1910d8"
            ],
            [
             0.1787709497206704,
             "#3c19f0"
            ],
            [
             0.2681564245810056,
             "#6b1cfb"
            ],
            [
             0.3575418994413408,
             "#981cfd"
            ],
            [
             0.44692737430167595,
             "#bf1cfd"
            ],
            [
             0.5363128491620112,
             "#dd2bfd"
            ],
            [
             0.6256983240223464,
             "#f246fe"
            ],
            [
             0.7150837988826816,
             "#fc67fd"
            ],
            [
             0.8044692737430168,
             "#fe88fc"
            ],
            [
             0.8938547486033519,
             "#fea5fd"
            ],
            [
             0.9832402234636871,
             "#febefe"
            ],
            [
             1,
             "#fec3fe"
            ]
           ],
           "sequentialminus": [
            [
             0,
             "#0508b8"
            ],
            [
             0.0893854748603352,
             "#1910d8"
            ],
            [
             0.1787709497206704,
             "#3c19f0"
            ],
            [
             0.2681564245810056,
             "#6b1cfb"
            ],
            [
             0.3575418994413408,
             "#981cfd"
            ],
            [
             0.44692737430167595,
             "#bf1cfd"
            ],
            [
             0.5363128491620112,
             "#dd2bfd"
            ],
            [
             0.6256983240223464,
             "#f246fe"
            ],
            [
             0.7150837988826816,
             "#fc67fd"
            ],
            [
             0.8044692737430168,
             "#fe88fc"
            ],
            [
             0.8938547486033519,
             "#fea5fd"
            ],
            [
             0.9832402234636871,
             "#febefe"
            ],
            [
             1,
             "#fec3fe"
            ]
           ]
          },
          "colorway": [
           "#636efa",
           "#EF553B",
           "#00cc96",
           "#ab63fa",
           "#19d3f3",
           "#e763fa",
           "#FECB52",
           "#FFA15A",
           "#FF6692",
           "#B6E880"
          ],
          "font": {
           "color": "#2a3f5f"
          },
          "geo": {
           "bgcolor": "white",
           "lakecolor": "white",
           "landcolor": "#E5ECF6",
           "showlakes": true,
           "showland": true,
           "subunitcolor": "white"
          },
          "hovermode": "closest",
          "mapbox": {
           "style": "light"
          },
          "paper_bgcolor": "white",
          "plot_bgcolor": "#E5ECF6",
          "polar": {
           "angularaxis": {
            "gridcolor": "white",
            "linecolor": "white",
            "ticks": ""
           },
           "bgcolor": "#E5ECF6",
           "radialaxis": {
            "gridcolor": "white",
            "linecolor": "white",
            "ticks": ""
           }
          },
          "scene": {
           "xaxis": {
            "backgroundcolor": "#E5ECF6",
            "gridcolor": "white",
            "gridwidth": 2,
            "linecolor": "white",
            "showbackground": true,
            "ticks": "",
            "zerolinecolor": "white"
           },
           "yaxis": {
            "backgroundcolor": "#E5ECF6",
            "gridcolor": "white",
            "gridwidth": 2,
            "linecolor": "white",
            "showbackground": true,
            "ticks": "",
            "zerolinecolor": "white"
           },
           "zaxis": {
            "backgroundcolor": "#E5ECF6",
            "gridcolor": "white",
            "gridwidth": 2,
            "linecolor": "white",
            "showbackground": true,
            "ticks": "",
            "zerolinecolor": "white"
           }
          },
          "shapedefaults": {
           "fillcolor": "#506784",
           "line": {
            "width": 0
           },
           "opacity": 0.4
          },
          "ternary": {
           "aaxis": {
            "gridcolor": "white",
            "linecolor": "white",
            "ticks": ""
           },
           "baxis": {
            "gridcolor": "white",
            "linecolor": "white",
            "ticks": ""
           },
           "bgcolor": "#E5ECF6",
           "caxis": {
            "gridcolor": "white",
            "linecolor": "white",
            "ticks": ""
           }
          },
          "title": {
           "x": 0.05
          },
          "xaxis": {
           "automargin": true,
           "gridcolor": "white",
           "linecolor": "white",
           "ticks": "",
           "zerolinecolor": "white",
           "zerolinewidth": 2
          },
          "yaxis": {
           "automargin": true,
           "gridcolor": "white",
           "linecolor": "white",
           "ticks": "",
           "zerolinecolor": "white",
           "zerolinewidth": 2
          }
         }
        },
        "xaxis": {
         "title": {
          "text": "giraffe"
         },
         "type": "log"
        },
        "yaxis": {
         "title": {
          "text": "number"
         }
        }
       }
      },
      "text/html": [
       "<div id=\"d125f956-93d4-4cff-ad85-fb26a3c679a8\" style=\"height: 600px; width: 100%;\" class=\"plotly-graph-div\"></div><script type=\"text/javascript\">require([\"plotly\"], function(Plotly) { window.PLOTLYENV=window.PLOTLYENV || {};window.PLOTLYENV.BASE_URL=\"https://plot.ly\";\n",
       "if (document.getElementById(\"d125f956-93d4-4cff-ad85-fb26a3c679a8\")) {\n",
       "    Plotly.newPlot(\"d125f956-93d4-4cff-ad85-fb26a3c679a8\", [{\"hovertemplate\": \"<b>%{hovertext}</b><br><br>area=a<br>giraffe=%{x}<br>number=%{y}<br>pop=%{marker.size}<extra></extra>\", \"hovertext\": [70.0, 73.0, 89.0, 66.0, 97.0, 168.0, 180.0, 177.0, 125.0, 81.0, 62.0, 54.0], \"legendgroup\": \"area=a\", \"marker\": {\"color\": \"#636efa\", \"size\": [8425333, 9240934, 10267083, 11537966, 13079460, 14880372, 12881816, 13867957, 16317921, 22227415, 25268405, 31889923], \"sizemode\": \"area\", \"sizeref\": 100754.8175, \"symbol\": \"circle\"}, \"mode\": \"markers\", \"name\": \"area=a\", \"showlegend\": true, \"x\": [70, 73, 89, 66, 97, 168, 180, 177, 125, 81, 62, 54], \"xaxis\": \"x\", \"y\": [320, 356, 341, 468, 696, 831, 1088, 720, 449, 312, 287, 313], \"yaxis\": \"y\", \"type\": \"scatter\", \"uid\": \"2f44fb86-b36a-49d6-8534-ef90fb2bc4b9\"}, {\"hovertemplate\": \"<b>%{hovertext}</b><br><br>area=b<br>giraffe=%{x}<br>number=%{y}<br>pop=%{marker.size}<extra></extra>\", \"hovertext\": [101.0, 74.0, 65.0, 88.0, 59.0, 96.0, 112.0, 143.0, 150.0, 106.0, 87.0, 71.0], \"legendgroup\": \"area=b\", \"marker\": {\"color\": \"#EF553B\", \"size\": [1282697, 1476505, 1728137, 1984060, 2263554, 2509048, 2780097, 3075321, 3326498, 3428038, 3508512, 3600523], \"sizemode\": \"area\", \"sizeref\": 100754.8175, \"symbol\": \"circle\"}, \"mode\": \"markers\", \"name\": \"area=b\", \"showlegend\": true, \"x\": [101, 74, 65, 88, 59, 96, 112, 143, 150, 106, 87, 71], \"xaxis\": \"x\", \"y\": [303, 318, 299, 241, 289, 669, 826, 1143, 550, 342, 301, 296], \"yaxis\": \"y\", \"type\": \"scatter\", \"uid\": \"184725cd-6ae6-4a1b-b13d-b7a976247a4e\"}, {\"hovertemplate\": \"<b>%{hovertext}</b><br><br>area=c<br>giraffe=%{x}<br>number=%{y}<br>pop=%{marker.size}<extra></extra>\", \"hovertext\": [68.0, 52.0, 64.0, 46.0, 55.0, 70.0, 68.0, 62.0, 86.0, 103.0, 116.0, 89.0], \"legendgroup\": \"area=c\", \"marker\": {\"color\": \"#00cc96\", \"size\": [9279525, 10270856, 11000948, 12760499, 14760787, 17152804, 20033753, 23254956, 26298373, 29072015, 31287142, 33333216], \"sizemode\": \"area\", \"sizeref\": 100754.8175, \"symbol\": \"circle\"}, \"mode\": \"markers\", \"name\": \"area=c\", \"showlegend\": true, \"x\": [68, 52, 64, 46, 55, 70, 68, 62, 86, 103, 116, 89], \"xaxis\": \"x\", \"y\": [341, 319, 268, 254, 322, 378, 483, 762, 935, 980, 511, 302], \"yaxis\": \"y\", \"type\": \"scatter\", \"uid\": \"7073f654-1b30-4557-abea-baa28018e63c\"}, {\"hovertemplate\": \"<b>%{hovertext}</b><br><br>area=d<br>giraffe=%{x}<br>number=%{y}<br>pop=%{marker.size}<extra></extra>\", \"hovertext\": [103.0, 86.0, 70.0, 55.0, 61.0, 49.0, 70.0, 73.0, 62.0, 87.0, 99.0, 121.0], \"legendgroup\": \"area=d\", \"marker\": {\"color\": \"#ab63fa\", \"size\": [4232095, 4561361, 4826015, 5247469, 5894858, 6162675, 7016384, 7874230, 8735988, 9875024, 10866106, 12420476], \"sizemode\": \"area\", \"sizeref\": 100754.8175, \"symbol\": \"circle\"}, \"mode\": \"markers\", \"name\": \"area=d\", \"showlegend\": true, \"x\": [103, 86, 70, 55, 61, 49, 70, 73, 62, 87, 99, 121], \"xaxis\": \"x\", \"y\": [416, 337, 362, 340, 361, 388, 404, 461, 522, 878, 1031, 659], \"yaxis\": \"y\", \"type\": \"scatter\", \"uid\": \"0db34917-09bf-46eb-8a3b-0a17bf13af39\"}, {\"hovertemplate\": \"<b>%{hovertext}</b><br><br>area=e<br>giraffe=%{x}<br>number=%{y}<br>pop=%{marker.size}<extra></extra>\", \"hovertext\": [93.0, 144.0, 102.0, 65.0, 61.0, 73.0, 80.0, 81.0, 66.0, 79.0, 71.0, 90.0], \"legendgroup\": \"area=e\", \"marker\": {\"color\": \"#19d3f3\", \"size\": [17876956, 19610538, 21283783, 22934225, 24779799, 26983828, 29341374, 31620918, 33958947, 36203463, 38331121, 40301927], \"sizemode\": \"area\", \"sizeref\": 100754.8175, \"symbol\": \"circle\"}, \"mode\": \"markers\", \"name\": \"area=e\", \"showlegend\": true, \"x\": [93, 144, 102, 65, 61, 73, 80, 81, 66, 79, 71, 90], \"xaxis\": \"x\", \"y\": [1073, 684, 466, 305, 324, 298, 366, 269, 341, 402, 559, 853], \"yaxis\": \"y\", \"type\": \"scatter\", \"uid\": \"2ef31aa0-c8e8-4a0e-b4d6-a33a29ccb617\"}, {\"hovertemplate\": \"<b>%{hovertext}</b><br><br>area=f<br>giraffe=%{x}<br>number=%{y}<br>pop=%{marker.size}<extra></extra>\", \"hovertext\": [61.0, 80.0, 89.0, 110.0, 122.0, 69.0, 73.0, 56.0, 61.0, 69.0, 48.0, 70.0], \"legendgroup\": \"area=f\", \"marker\": {\"color\": \"#e763fa\", \"size\": [8691212, 9712569, 10794968, 11872264, 13177000, 14074100, 15184200, 16257249, 17481977, 18565243, 19546792, 20434176], \"sizemode\": \"area\", \"sizeref\": 100754.8175, \"symbol\": \"circle\"}, \"mode\": \"markers\", \"name\": \"area=f\", \"showlegend\": true, \"x\": [61, 80, 89, 110, 122, 69, 73, 56, 61, 69, 48, 70], \"xaxis\": \"x\", \"y\": [352, 469, 898, 1136, 740, 416, 332, 267, 309, 368, 287, 311], \"yaxis\": \"y\", \"type\": \"scatter\", \"uid\": \"5da0e456-142f-44b9-a8fa-0b623821f022\"}], {\"height\": 600, \"legend\": {\"tracegroupgap\": 0}, \"margin\": {\"t\": 60}, \"template\": {\"data\": {\"barpolar\": [{\"marker\": {\"line\": {\"color\": \"#E5ECF6\", \"width\": 0.5}}, \"type\": \"barpolar\"}], \"bar\": [{\"marker\": {\"line\": {\"color\": \"#E5ECF6\", \"width\": 0.5}}, \"type\": \"bar\"}], \"carpet\": [{\"aaxis\": {\"endlinecolor\": \"#2a3f5f\", \"gridcolor\": \"white\", \"linecolor\": \"white\", \"minorgridcolor\": \"white\", \"startlinecolor\": \"#2a3f5f\"}, \"baxis\": {\"endlinecolor\": \"#2a3f5f\", \"gridcolor\": \"white\", \"linecolor\": \"white\", \"minorgridcolor\": \"white\", \"startlinecolor\": \"#2a3f5f\"}, \"type\": \"carpet\"}], \"choropleth\": [{\"colorbar\": {\"outlinewidth\": 0, \"ticks\": \"\"}, \"type\": \"choropleth\"}], \"contourcarpet\": [{\"colorbar\": {\"outlinewidth\": 0, \"ticks\": \"\"}, \"type\": \"contourcarpet\"}], \"contour\": [{\"autocolorscale\": true, \"colorbar\": {\"outlinewidth\": 0, \"ticks\": \"\"}, \"type\": \"contour\"}], \"heatmapgl\": [{\"colorbar\": {\"outlinewidth\": 0, \"ticks\": \"\"}, \"type\": \"heatmapgl\"}], \"heatmap\": [{\"autocolorscale\": true, \"colorbar\": {\"outlinewidth\": 0, \"ticks\": \"\"}, \"type\": \"heatmap\"}], \"histogram2dcontour\": [{\"autocolorscale\": true, \"colorbar\": {\"outlinewidth\": 0, \"ticks\": \"\"}, \"type\": \"histogram2dcontour\"}], \"histogram2d\": [{\"autocolorscale\": true, \"colorbar\": {\"outlinewidth\": 0, \"ticks\": \"\"}, \"type\": \"histogram2d\"}], \"histogram\": [{\"marker\": {\"colorbar\": {\"outlinewidth\": 0, \"ticks\": \"\"}}, \"type\": \"histogram\"}], \"mesh3d\": [{\"colorbar\": {\"outlinewidth\": 0, \"ticks\": \"\"}, \"type\": \"mesh3d\"}], \"parcoords\": [{\"line\": {\"colorbar\": {\"outlinewidth\": 0, \"ticks\": \"\"}}, \"type\": \"parcoords\"}], \"scatter3d\": [{\"marker\": {\"colorbar\": {\"outlinewidth\": 0, \"ticks\": \"\"}}, \"type\": \"scatter3d\"}], \"scattercarpet\": [{\"marker\": {\"colorbar\": {\"outlinewidth\": 0, \"ticks\": \"\"}}, \"type\": \"scattercarpet\"}], \"scattergeo\": [{\"marker\": {\"colorbar\": {\"outlinewidth\": 0, \"ticks\": \"\"}}, \"type\": \"scattergeo\"}], \"scattergl\": [{\"marker\": {\"colorbar\": {\"outlinewidth\": 0, \"ticks\": \"\"}}, \"type\": \"scattergl\"}], \"scattermapbox\": [{\"marker\": {\"colorbar\": {\"outlinewidth\": 0, \"ticks\": \"\"}}, \"type\": \"scattermapbox\"}], \"scatterpolargl\": [{\"marker\": {\"colorbar\": {\"outlinewidth\": 0, \"ticks\": \"\"}}, \"type\": \"scatterpolargl\"}], \"scatterpolar\": [{\"marker\": {\"colorbar\": {\"outlinewidth\": 0, \"ticks\": \"\"}}, \"type\": \"scatterpolar\"}], \"scatter\": [{\"marker\": {\"colorbar\": {\"outlinewidth\": 0, \"ticks\": \"\"}}, \"type\": \"scatter\"}], \"scatterternary\": [{\"marker\": {\"colorbar\": {\"outlinewidth\": 0, \"ticks\": \"\"}}, \"type\": \"scatterternary\"}], \"surface\": [{\"colorbar\": {\"outlinewidth\": 0, \"ticks\": \"\"}, \"type\": \"surface\"}], \"table\": [{\"cells\": {\"fill\": {\"color\": \"#EBF0F8\"}, \"line\": {\"color\": \"white\"}}, \"header\": {\"fill\": {\"color\": \"#C8D4E3\"}, \"line\": {\"color\": \"white\"}}, \"type\": \"table\"}]}, \"layout\": {\"annotationdefaults\": {\"arrowcolor\": \"#506784\", \"arrowhead\": 0, \"arrowwidth\": 1}, \"colorscale\": {\"diverging\": [[0, \"#8e0152\"], [0.1, \"#c51b7d\"], [0.2, \"#de77ae\"], [0.3, \"#f1b6da\"], [0.4, \"#fde0ef\"], [0.5, \"#f7f7f7\"], [0.6, \"#e6f5d0\"], [0.7, \"#b8e186\"], [0.8, \"#7fbc41\"], [0.9, \"#4d9221\"], [1, \"#276419\"]], \"sequential\": [[0.0, \"#0508b8\"], [0.0893854748603352, \"#1910d8\"], [0.1787709497206704, \"#3c19f0\"], [0.2681564245810056, \"#6b1cfb\"], [0.3575418994413408, \"#981cfd\"], [0.44692737430167595, \"#bf1cfd\"], [0.5363128491620112, \"#dd2bfd\"], [0.6256983240223464, \"#f246fe\"], [0.7150837988826816, \"#fc67fd\"], [0.8044692737430168, \"#fe88fc\"], [0.8938547486033519, \"#fea5fd\"], [0.9832402234636871, \"#febefe\"], [1.0, \"#fec3fe\"]], \"sequentialminus\": [[0.0, \"#0508b8\"], [0.0893854748603352, \"#1910d8\"], [0.1787709497206704, \"#3c19f0\"], [0.2681564245810056, \"#6b1cfb\"], [0.3575418994413408, \"#981cfd\"], [0.44692737430167595, \"#bf1cfd\"], [0.5363128491620112, \"#dd2bfd\"], [0.6256983240223464, \"#f246fe\"], [0.7150837988826816, \"#fc67fd\"], [0.8044692737430168, \"#fe88fc\"], [0.8938547486033519, \"#fea5fd\"], [0.9832402234636871, \"#febefe\"], [1.0, \"#fec3fe\"]]}, \"colorway\": [\"#636efa\", \"#EF553B\", \"#00cc96\", \"#ab63fa\", \"#19d3f3\", \"#e763fa\", \"#FECB52\", \"#FFA15A\", \"#FF6692\", \"#B6E880\"], \"font\": {\"color\": \"#2a3f5f\"}, \"geo\": {\"bgcolor\": \"white\", \"lakecolor\": \"white\", \"landcolor\": \"#E5ECF6\", \"showlakes\": true, \"showland\": true, \"subunitcolor\": \"white\"}, \"hovermode\": \"closest\", \"mapbox\": {\"style\": \"light\"}, \"paper_bgcolor\": \"white\", \"plot_bgcolor\": \"#E5ECF6\", \"polar\": {\"angularaxis\": {\"gridcolor\": \"white\", \"linecolor\": \"white\", \"ticks\": \"\"}, \"bgcolor\": \"#E5ECF6\", \"radialaxis\": {\"gridcolor\": \"white\", \"linecolor\": \"white\", \"ticks\": \"\"}}, \"scene\": {\"xaxis\": {\"backgroundcolor\": \"#E5ECF6\", \"gridcolor\": \"white\", \"gridwidth\": 2, \"linecolor\": \"white\", \"showbackground\": true, \"ticks\": \"\", \"zerolinecolor\": \"white\"}, \"yaxis\": {\"backgroundcolor\": \"#E5ECF6\", \"gridcolor\": \"white\", \"gridwidth\": 2, \"linecolor\": \"white\", \"showbackground\": true, \"ticks\": \"\", \"zerolinecolor\": \"white\"}, \"zaxis\": {\"backgroundcolor\": \"#E5ECF6\", \"gridcolor\": \"white\", \"gridwidth\": 2, \"linecolor\": \"white\", \"showbackground\": true, \"ticks\": \"\", \"zerolinecolor\": \"white\"}}, \"shapedefaults\": {\"fillcolor\": \"#506784\", \"line\": {\"width\": 0}, \"opacity\": 0.4}, \"ternary\": {\"aaxis\": {\"gridcolor\": \"white\", \"linecolor\": \"white\", \"ticks\": \"\"}, \"baxis\": {\"gridcolor\": \"white\", \"linecolor\": \"white\", \"ticks\": \"\"}, \"bgcolor\": \"#E5ECF6\", \"caxis\": {\"gridcolor\": \"white\", \"linecolor\": \"white\", \"ticks\": \"\"}}, \"title\": {\"x\": 0.05}, \"xaxis\": {\"automargin\": true, \"gridcolor\": \"white\", \"linecolor\": \"white\", \"ticks\": \"\", \"zerolinecolor\": \"white\", \"zerolinewidth\": 2}, \"yaxis\": {\"automargin\": true, \"gridcolor\": \"white\", \"linecolor\": \"white\", \"ticks\": \"\", \"zerolinecolor\": \"white\", \"zerolinewidth\": 2}}}, \"grid\": {\"xaxes\": [\"x\"], \"yaxes\": [\"y\"], \"xgap\": 0.1, \"ygap\": 0.1, \"xside\": \"bottom\", \"yside\": \"left\"}, \"xaxis\": {\"title\": {\"text\": \"giraffe\"}, \"type\": \"log\"}, \"yaxis\": {\"title\": {\"text\": \"number\"}}}, {\"showLink\": false, \"linkText\": \"Export to plot.ly\", \"plotlyServerURL\": \"https://plot.ly\"}); \n",
       "}\n",
       "});</script><script type=\"text/javascript\">window.addEventListener(\"resize\", function(){if (document.getElementById(\"d125f956-93d4-4cff-ad85-fb26a3c679a8\")) {window._Plotly.Plots.resize(document.getElementById(\"d125f956-93d4-4cff-ad85-fb26a3c679a8\"));};})</script>"
      ],
      "text/vnd.plotly.v1+html": [
       "<div id=\"d125f956-93d4-4cff-ad85-fb26a3c679a8\" style=\"height: 600px; width: 100%;\" class=\"plotly-graph-div\"></div><script type=\"text/javascript\">require([\"plotly\"], function(Plotly) { window.PLOTLYENV=window.PLOTLYENV || {};window.PLOTLYENV.BASE_URL=\"https://plot.ly\";\n",
       "if (document.getElementById(\"d125f956-93d4-4cff-ad85-fb26a3c679a8\")) {\n",
       "    Plotly.newPlot(\"d125f956-93d4-4cff-ad85-fb26a3c679a8\", [{\"hovertemplate\": \"<b>%{hovertext}</b><br><br>area=a<br>giraffe=%{x}<br>number=%{y}<br>pop=%{marker.size}<extra></extra>\", \"hovertext\": [70.0, 73.0, 89.0, 66.0, 97.0, 168.0, 180.0, 177.0, 125.0, 81.0, 62.0, 54.0], \"legendgroup\": \"area=a\", \"marker\": {\"color\": \"#636efa\", \"size\": [8425333, 9240934, 10267083, 11537966, 13079460, 14880372, 12881816, 13867957, 16317921, 22227415, 25268405, 31889923], \"sizemode\": \"area\", \"sizeref\": 100754.8175, \"symbol\": \"circle\"}, \"mode\": \"markers\", \"name\": \"area=a\", \"showlegend\": true, \"x\": [70, 73, 89, 66, 97, 168, 180, 177, 125, 81, 62, 54], \"xaxis\": \"x\", \"y\": [320, 356, 341, 468, 696, 831, 1088, 720, 449, 312, 287, 313], \"yaxis\": \"y\", \"type\": \"scatter\", \"uid\": \"2f44fb86-b36a-49d6-8534-ef90fb2bc4b9\"}, {\"hovertemplate\": \"<b>%{hovertext}</b><br><br>area=b<br>giraffe=%{x}<br>number=%{y}<br>pop=%{marker.size}<extra></extra>\", \"hovertext\": [101.0, 74.0, 65.0, 88.0, 59.0, 96.0, 112.0, 143.0, 150.0, 106.0, 87.0, 71.0], \"legendgroup\": \"area=b\", \"marker\": {\"color\": \"#EF553B\", \"size\": [1282697, 1476505, 1728137, 1984060, 2263554, 2509048, 2780097, 3075321, 3326498, 3428038, 3508512, 3600523], \"sizemode\": \"area\", \"sizeref\": 100754.8175, \"symbol\": \"circle\"}, \"mode\": \"markers\", \"name\": \"area=b\", \"showlegend\": true, \"x\": [101, 74, 65, 88, 59, 96, 112, 143, 150, 106, 87, 71], \"xaxis\": \"x\", \"y\": [303, 318, 299, 241, 289, 669, 826, 1143, 550, 342, 301, 296], \"yaxis\": \"y\", \"type\": \"scatter\", \"uid\": \"184725cd-6ae6-4a1b-b13d-b7a976247a4e\"}, {\"hovertemplate\": \"<b>%{hovertext}</b><br><br>area=c<br>giraffe=%{x}<br>number=%{y}<br>pop=%{marker.size}<extra></extra>\", \"hovertext\": [68.0, 52.0, 64.0, 46.0, 55.0, 70.0, 68.0, 62.0, 86.0, 103.0, 116.0, 89.0], \"legendgroup\": \"area=c\", \"marker\": {\"color\": \"#00cc96\", \"size\": [9279525, 10270856, 11000948, 12760499, 14760787, 17152804, 20033753, 23254956, 26298373, 29072015, 31287142, 33333216], \"sizemode\": \"area\", \"sizeref\": 100754.8175, \"symbol\": \"circle\"}, \"mode\": \"markers\", \"name\": \"area=c\", \"showlegend\": true, \"x\": [68, 52, 64, 46, 55, 70, 68, 62, 86, 103, 116, 89], \"xaxis\": \"x\", \"y\": [341, 319, 268, 254, 322, 378, 483, 762, 935, 980, 511, 302], \"yaxis\": \"y\", \"type\": \"scatter\", \"uid\": \"7073f654-1b30-4557-abea-baa28018e63c\"}, {\"hovertemplate\": \"<b>%{hovertext}</b><br><br>area=d<br>giraffe=%{x}<br>number=%{y}<br>pop=%{marker.size}<extra></extra>\", \"hovertext\": [103.0, 86.0, 70.0, 55.0, 61.0, 49.0, 70.0, 73.0, 62.0, 87.0, 99.0, 121.0], \"legendgroup\": \"area=d\", \"marker\": {\"color\": \"#ab63fa\", \"size\": [4232095, 4561361, 4826015, 5247469, 5894858, 6162675, 7016384, 7874230, 8735988, 9875024, 10866106, 12420476], \"sizemode\": \"area\", \"sizeref\": 100754.8175, \"symbol\": \"circle\"}, \"mode\": \"markers\", \"name\": \"area=d\", \"showlegend\": true, \"x\": [103, 86, 70, 55, 61, 49, 70, 73, 62, 87, 99, 121], \"xaxis\": \"x\", \"y\": [416, 337, 362, 340, 361, 388, 404, 461, 522, 878, 1031, 659], \"yaxis\": \"y\", \"type\": \"scatter\", \"uid\": \"0db34917-09bf-46eb-8a3b-0a17bf13af39\"}, {\"hovertemplate\": \"<b>%{hovertext}</b><br><br>area=e<br>giraffe=%{x}<br>number=%{y}<br>pop=%{marker.size}<extra></extra>\", \"hovertext\": [93.0, 144.0, 102.0, 65.0, 61.0, 73.0, 80.0, 81.0, 66.0, 79.0, 71.0, 90.0], \"legendgroup\": \"area=e\", \"marker\": {\"color\": \"#19d3f3\", \"size\": [17876956, 19610538, 21283783, 22934225, 24779799, 26983828, 29341374, 31620918, 33958947, 36203463, 38331121, 40301927], \"sizemode\": \"area\", \"sizeref\": 100754.8175, \"symbol\": \"circle\"}, \"mode\": \"markers\", \"name\": \"area=e\", \"showlegend\": true, \"x\": [93, 144, 102, 65, 61, 73, 80, 81, 66, 79, 71, 90], \"xaxis\": \"x\", \"y\": [1073, 684, 466, 305, 324, 298, 366, 269, 341, 402, 559, 853], \"yaxis\": \"y\", \"type\": \"scatter\", \"uid\": \"2ef31aa0-c8e8-4a0e-b4d6-a33a29ccb617\"}, {\"hovertemplate\": \"<b>%{hovertext}</b><br><br>area=f<br>giraffe=%{x}<br>number=%{y}<br>pop=%{marker.size}<extra></extra>\", \"hovertext\": [61.0, 80.0, 89.0, 110.0, 122.0, 69.0, 73.0, 56.0, 61.0, 69.0, 48.0, 70.0], \"legendgroup\": \"area=f\", \"marker\": {\"color\": \"#e763fa\", \"size\": [8691212, 9712569, 10794968, 11872264, 13177000, 14074100, 15184200, 16257249, 17481977, 18565243, 19546792, 20434176], \"sizemode\": \"area\", \"sizeref\": 100754.8175, \"symbol\": \"circle\"}, \"mode\": \"markers\", \"name\": \"area=f\", \"showlegend\": true, \"x\": [61, 80, 89, 110, 122, 69, 73, 56, 61, 69, 48, 70], \"xaxis\": \"x\", \"y\": [352, 469, 898, 1136, 740, 416, 332, 267, 309, 368, 287, 311], \"yaxis\": \"y\", \"type\": \"scatter\", \"uid\": \"5da0e456-142f-44b9-a8fa-0b623821f022\"}], {\"height\": 600, \"legend\": {\"tracegroupgap\": 0}, \"margin\": {\"t\": 60}, \"template\": {\"data\": {\"barpolar\": [{\"marker\": {\"line\": {\"color\": \"#E5ECF6\", \"width\": 0.5}}, \"type\": \"barpolar\"}], \"bar\": [{\"marker\": {\"line\": {\"color\": \"#E5ECF6\", \"width\": 0.5}}, \"type\": \"bar\"}], \"carpet\": [{\"aaxis\": {\"endlinecolor\": \"#2a3f5f\", \"gridcolor\": \"white\", \"linecolor\": \"white\", \"minorgridcolor\": \"white\", \"startlinecolor\": \"#2a3f5f\"}, \"baxis\": {\"endlinecolor\": \"#2a3f5f\", \"gridcolor\": \"white\", \"linecolor\": \"white\", \"minorgridcolor\": \"white\", \"startlinecolor\": \"#2a3f5f\"}, \"type\": \"carpet\"}], \"choropleth\": [{\"colorbar\": {\"outlinewidth\": 0, \"ticks\": \"\"}, \"type\": \"choropleth\"}], \"contourcarpet\": [{\"colorbar\": {\"outlinewidth\": 0, \"ticks\": \"\"}, \"type\": \"contourcarpet\"}], \"contour\": [{\"autocolorscale\": true, \"colorbar\": {\"outlinewidth\": 0, \"ticks\": \"\"}, \"type\": \"contour\"}], \"heatmapgl\": [{\"colorbar\": {\"outlinewidth\": 0, \"ticks\": \"\"}, \"type\": \"heatmapgl\"}], \"heatmap\": [{\"autocolorscale\": true, \"colorbar\": {\"outlinewidth\": 0, \"ticks\": \"\"}, \"type\": \"heatmap\"}], \"histogram2dcontour\": [{\"autocolorscale\": true, \"colorbar\": {\"outlinewidth\": 0, \"ticks\": \"\"}, \"type\": \"histogram2dcontour\"}], \"histogram2d\": [{\"autocolorscale\": true, \"colorbar\": {\"outlinewidth\": 0, \"ticks\": \"\"}, \"type\": \"histogram2d\"}], \"histogram\": [{\"marker\": {\"colorbar\": {\"outlinewidth\": 0, \"ticks\": \"\"}}, \"type\": \"histogram\"}], \"mesh3d\": [{\"colorbar\": {\"outlinewidth\": 0, \"ticks\": \"\"}, \"type\": \"mesh3d\"}], \"parcoords\": [{\"line\": {\"colorbar\": {\"outlinewidth\": 0, \"ticks\": \"\"}}, \"type\": \"parcoords\"}], \"scatter3d\": [{\"marker\": {\"colorbar\": {\"outlinewidth\": 0, \"ticks\": \"\"}}, \"type\": \"scatter3d\"}], \"scattercarpet\": [{\"marker\": {\"colorbar\": {\"outlinewidth\": 0, \"ticks\": \"\"}}, \"type\": \"scattercarpet\"}], \"scattergeo\": [{\"marker\": {\"colorbar\": {\"outlinewidth\": 0, \"ticks\": \"\"}}, \"type\": \"scattergeo\"}], \"scattergl\": [{\"marker\": {\"colorbar\": {\"outlinewidth\": 0, \"ticks\": \"\"}}, \"type\": \"scattergl\"}], \"scattermapbox\": [{\"marker\": {\"colorbar\": {\"outlinewidth\": 0, \"ticks\": \"\"}}, \"type\": \"scattermapbox\"}], \"scatterpolargl\": [{\"marker\": {\"colorbar\": {\"outlinewidth\": 0, \"ticks\": \"\"}}, \"type\": \"scatterpolargl\"}], \"scatterpolar\": [{\"marker\": {\"colorbar\": {\"outlinewidth\": 0, \"ticks\": \"\"}}, \"type\": \"scatterpolar\"}], \"scatter\": [{\"marker\": {\"colorbar\": {\"outlinewidth\": 0, \"ticks\": \"\"}}, \"type\": \"scatter\"}], \"scatterternary\": [{\"marker\": {\"colorbar\": {\"outlinewidth\": 0, \"ticks\": \"\"}}, \"type\": \"scatterternary\"}], \"surface\": [{\"colorbar\": {\"outlinewidth\": 0, \"ticks\": \"\"}, \"type\": \"surface\"}], \"table\": [{\"cells\": {\"fill\": {\"color\": \"#EBF0F8\"}, \"line\": {\"color\": \"white\"}}, \"header\": {\"fill\": {\"color\": \"#C8D4E3\"}, \"line\": {\"color\": \"white\"}}, \"type\": \"table\"}]}, \"layout\": {\"annotationdefaults\": {\"arrowcolor\": \"#506784\", \"arrowhead\": 0, \"arrowwidth\": 1}, \"colorscale\": {\"diverging\": [[0, \"#8e0152\"], [0.1, \"#c51b7d\"], [0.2, \"#de77ae\"], [0.3, \"#f1b6da\"], [0.4, \"#fde0ef\"], [0.5, \"#f7f7f7\"], [0.6, \"#e6f5d0\"], [0.7, \"#b8e186\"], [0.8, \"#7fbc41\"], [0.9, \"#4d9221\"], [1, \"#276419\"]], \"sequential\": [[0.0, \"#0508b8\"], [0.0893854748603352, \"#1910d8\"], [0.1787709497206704, \"#3c19f0\"], [0.2681564245810056, \"#6b1cfb\"], [0.3575418994413408, \"#981cfd\"], [0.44692737430167595, \"#bf1cfd\"], [0.5363128491620112, \"#dd2bfd\"], [0.6256983240223464, \"#f246fe\"], [0.7150837988826816, \"#fc67fd\"], [0.8044692737430168, \"#fe88fc\"], [0.8938547486033519, \"#fea5fd\"], [0.9832402234636871, \"#febefe\"], [1.0, \"#fec3fe\"]], \"sequentialminus\": [[0.0, \"#0508b8\"], [0.0893854748603352, \"#1910d8\"], [0.1787709497206704, \"#3c19f0\"], [0.2681564245810056, \"#6b1cfb\"], [0.3575418994413408, \"#981cfd\"], [0.44692737430167595, \"#bf1cfd\"], [0.5363128491620112, \"#dd2bfd\"], [0.6256983240223464, \"#f246fe\"], [0.7150837988826816, \"#fc67fd\"], [0.8044692737430168, \"#fe88fc\"], [0.8938547486033519, \"#fea5fd\"], [0.9832402234636871, \"#febefe\"], [1.0, \"#fec3fe\"]]}, \"colorway\": [\"#636efa\", \"#EF553B\", \"#00cc96\", \"#ab63fa\", \"#19d3f3\", \"#e763fa\", \"#FECB52\", \"#FFA15A\", \"#FF6692\", \"#B6E880\"], \"font\": {\"color\": \"#2a3f5f\"}, \"geo\": {\"bgcolor\": \"white\", \"lakecolor\": \"white\", \"landcolor\": \"#E5ECF6\", \"showlakes\": true, \"showland\": true, \"subunitcolor\": \"white\"}, \"hovermode\": \"closest\", \"mapbox\": {\"style\": \"light\"}, \"paper_bgcolor\": \"white\", \"plot_bgcolor\": \"#E5ECF6\", \"polar\": {\"angularaxis\": {\"gridcolor\": \"white\", \"linecolor\": \"white\", \"ticks\": \"\"}, \"bgcolor\": \"#E5ECF6\", \"radialaxis\": {\"gridcolor\": \"white\", \"linecolor\": \"white\", \"ticks\": \"\"}}, \"scene\": {\"xaxis\": {\"backgroundcolor\": \"#E5ECF6\", \"gridcolor\": \"white\", \"gridwidth\": 2, \"linecolor\": \"white\", \"showbackground\": true, \"ticks\": \"\", \"zerolinecolor\": \"white\"}, \"yaxis\": {\"backgroundcolor\": \"#E5ECF6\", \"gridcolor\": \"white\", \"gridwidth\": 2, \"linecolor\": \"white\", \"showbackground\": true, \"ticks\": \"\", \"zerolinecolor\": \"white\"}, \"zaxis\": {\"backgroundcolor\": \"#E5ECF6\", \"gridcolor\": \"white\", \"gridwidth\": 2, \"linecolor\": \"white\", \"showbackground\": true, \"ticks\": \"\", \"zerolinecolor\": \"white\"}}, \"shapedefaults\": {\"fillcolor\": \"#506784\", \"line\": {\"width\": 0}, \"opacity\": 0.4}, \"ternary\": {\"aaxis\": {\"gridcolor\": \"white\", \"linecolor\": \"white\", \"ticks\": \"\"}, \"baxis\": {\"gridcolor\": \"white\", \"linecolor\": \"white\", \"ticks\": \"\"}, \"bgcolor\": \"#E5ECF6\", \"caxis\": {\"gridcolor\": \"white\", \"linecolor\": \"white\", \"ticks\": \"\"}}, \"title\": {\"x\": 0.05}, \"xaxis\": {\"automargin\": true, \"gridcolor\": \"white\", \"linecolor\": \"white\", \"ticks\": \"\", \"zerolinecolor\": \"white\", \"zerolinewidth\": 2}, \"yaxis\": {\"automargin\": true, \"gridcolor\": \"white\", \"linecolor\": \"white\", \"ticks\": \"\", \"zerolinecolor\": \"white\", \"zerolinewidth\": 2}}}, \"grid\": {\"xaxes\": [\"x\"], \"yaxes\": [\"y\"], \"xgap\": 0.1, \"ygap\": 0.1, \"xside\": \"bottom\", \"yside\": \"left\"}, \"xaxis\": {\"title\": {\"text\": \"giraffe\"}, \"type\": \"log\"}, \"yaxis\": {\"title\": {\"text\": \"number\"}}}, {\"showLink\": false, \"linkText\": \"Export to plot.ly\", \"plotlyServerURL\": \"https://plot.ly\"}); \n",
       "}\n",
       "});</script><script type=\"text/javascript\">window.addEventListener(\"resize\", function(){if (document.getElementById(\"d125f956-93d4-4cff-ad85-fb26a3c679a8\")) {window._Plotly.Plots.resize(document.getElementById(\"d125f956-93d4-4cff-ad85-fb26a3c679a8\"));};})</script>"
      ]
     },
     "metadata": {},
     "output_type": "display_data"
    }
   ],
   "source": [
    "px.scatter(dataset, x=\"giraffe\", y=\"number\", size=\"pop\", color=\"area\", \n",
    "           hover_name=\"giraffe\", log_x=True)"
   ]
  },
  {
   "cell_type": "code",
   "execution_count": 9,
   "metadata": {},
   "outputs": [
    {
     "data": {
      "application/vnd.plotly.v1+json": {
       "config": {
        "linkText": "Export to plot.ly",
        "plotlyServerURL": "https://plot.ly",
        "showLink": false
       },
       "data": [
        {
         "contours": {
          "coloring": "none"
         },
         "legendgroup": "area=a",
         "line": {
          "color": "#636efa"
         },
         "name": "area=a",
         "showlegend": true,
         "type": "histogram2dcontour",
         "uid": "9c4b2eaf-d6a1-4447-ad98-3d9345f0e07c",
         "x": [
          1,
          2,
          3,
          4,
          5,
          6,
          7,
          8,
          9,
          10,
          11,
          12
         ],
         "xaxis": "x",
         "y": [
          320,
          356,
          341,
          468,
          696,
          831,
          1088,
          720,
          449,
          312,
          287,
          313
         ],
         "yaxis": "y"
        },
        {
         "contours": {
          "coloring": "none"
         },
         "legendgroup": "area=b",
         "line": {
          "color": "#EF553B"
         },
         "name": "area=b",
         "showlegend": true,
         "type": "histogram2dcontour",
         "uid": "b748cc6b-c561-42d2-8385-a89d8eb6d5de",
         "x": [
          1,
          2,
          3,
          4,
          5,
          6,
          7,
          8,
          9,
          10,
          11,
          12
         ],
         "xaxis": "x2",
         "y": [
          303,
          318,
          299,
          241,
          289,
          669,
          826,
          1143,
          550,
          342,
          301,
          296
         ],
         "yaxis": "y"
        },
        {
         "contours": {
          "coloring": "none"
         },
         "legendgroup": "area=c",
         "line": {
          "color": "#00cc96"
         },
         "name": "area=c",
         "showlegend": true,
         "type": "histogram2dcontour",
         "uid": "335e4f35-d3fd-461f-9056-ac47adf29a22",
         "x": [
          1,
          2,
          3,
          4,
          5,
          6,
          7,
          8,
          9,
          10,
          11,
          12
         ],
         "xaxis": "x3",
         "y": [
          341,
          319,
          268,
          254,
          322,
          378,
          483,
          762,
          935,
          980,
          511,
          302
         ],
         "yaxis": "y"
        },
        {
         "contours": {
          "coloring": "none"
         },
         "legendgroup": "area=d",
         "line": {
          "color": "#ab63fa"
         },
         "name": "area=d",
         "showlegend": true,
         "type": "histogram2dcontour",
         "uid": "9a29193c-e598-4c28-8fb2-e1cdab4c6b55",
         "x": [
          1,
          2,
          3,
          4,
          5,
          6,
          7,
          8,
          9,
          10,
          11,
          12
         ],
         "xaxis": "x4",
         "y": [
          416,
          337,
          362,
          340,
          361,
          388,
          404,
          461,
          522,
          878,
          1031,
          659
         ],
         "yaxis": "y"
        },
        {
         "contours": {
          "coloring": "none"
         },
         "legendgroup": "area=e",
         "line": {
          "color": "#19d3f3"
         },
         "name": "area=e",
         "showlegend": true,
         "type": "histogram2dcontour",
         "uid": "c1c45d1c-fa3f-43ef-888e-d98db4b126f5",
         "x": [
          1,
          2,
          3,
          4,
          5,
          6,
          7,
          8,
          9,
          10,
          11,
          12
         ],
         "xaxis": "x5",
         "y": [
          1073,
          684,
          466,
          305,
          324,
          298,
          366,
          269,
          341,
          402,
          559,
          853
         ],
         "yaxis": "y"
        },
        {
         "contours": {
          "coloring": "none"
         },
         "legendgroup": "area=f",
         "line": {
          "color": "#e763fa"
         },
         "name": "area=f",
         "showlegend": true,
         "type": "histogram2dcontour",
         "uid": "a36715ae-09ed-402a-a8ea-cdf739a816d0",
         "x": [
          1,
          2,
          3,
          4,
          5,
          6,
          7,
          8,
          9,
          10,
          11,
          12
         ],
         "xaxis": "x6",
         "y": [
          352,
          469,
          898,
          1136,
          740,
          416,
          332,
          267,
          309,
          368,
          287,
          311
         ],
         "yaxis": "y"
        }
       ],
       "layout": {
        "annotations": [
         {
          "showarrow": false,
          "text": "area=a",
          "textangle": 0,
          "x": 0.07627118644067797,
          "xanchor": "center",
          "xref": "paper",
          "y": 1.02,
          "yanchor": "middle",
          "yref": "paper"
         },
         {
          "showarrow": false,
          "text": "area=b",
          "textangle": 0,
          "x": 0.24576271186440676,
          "xanchor": "center",
          "xref": "paper",
          "y": 1.02,
          "yanchor": "middle",
          "yref": "paper"
         },
         {
          "showarrow": false,
          "text": "area=c",
          "textangle": 0,
          "x": 0.4152542372881356,
          "xanchor": "center",
          "xref": "paper",
          "y": 1.02,
          "yanchor": "middle",
          "yref": "paper"
         },
         {
          "showarrow": false,
          "text": "area=d",
          "textangle": 0,
          "x": 0.5847457627118644,
          "xanchor": "center",
          "xref": "paper",
          "y": 1.02,
          "yanchor": "middle",
          "yref": "paper"
         },
         {
          "showarrow": false,
          "text": "area=e",
          "textangle": 0,
          "x": 0.7542372881355932,
          "xanchor": "center",
          "xref": "paper",
          "y": 1.02,
          "yanchor": "middle",
          "yref": "paper"
         },
         {
          "showarrow": false,
          "text": "area=f",
          "textangle": 0,
          "x": 0.923728813559322,
          "xanchor": "center",
          "xref": "paper",
          "y": 1.02,
          "yanchor": "middle",
          "yref": "paper"
         }
        ],
        "grid": {
         "xaxes": [
          "x",
          "x2",
          "x3",
          "x4",
          "x5",
          "x6"
         ],
         "xgap": 0.1,
         "xside": "bottom",
         "yaxes": [
          "y"
         ],
         "ygap": 0.1,
         "yside": "left"
        },
        "height": 600,
        "legend": {
         "tracegroupgap": 0
        },
        "margin": {
         "t": 60
        },
        "template": {
         "data": {
          "bar": [
           {
            "marker": {
             "line": {
              "color": "#E5ECF6",
              "width": 0.5
             }
            },
            "type": "bar"
           }
          ],
          "barpolar": [
           {
            "marker": {
             "line": {
              "color": "#E5ECF6",
              "width": 0.5
             }
            },
            "type": "barpolar"
           }
          ],
          "carpet": [
           {
            "aaxis": {
             "endlinecolor": "#2a3f5f",
             "gridcolor": "white",
             "linecolor": "white",
             "minorgridcolor": "white",
             "startlinecolor": "#2a3f5f"
            },
            "baxis": {
             "endlinecolor": "#2a3f5f",
             "gridcolor": "white",
             "linecolor": "white",
             "minorgridcolor": "white",
             "startlinecolor": "#2a3f5f"
            },
            "type": "carpet"
           }
          ],
          "choropleth": [
           {
            "colorbar": {
             "outlinewidth": 0,
             "ticks": ""
            },
            "type": "choropleth"
           }
          ],
          "contour": [
           {
            "autocolorscale": true,
            "colorbar": {
             "outlinewidth": 0,
             "ticks": ""
            },
            "type": "contour"
           }
          ],
          "contourcarpet": [
           {
            "colorbar": {
             "outlinewidth": 0,
             "ticks": ""
            },
            "type": "contourcarpet"
           }
          ],
          "heatmap": [
           {
            "autocolorscale": true,
            "colorbar": {
             "outlinewidth": 0,
             "ticks": ""
            },
            "type": "heatmap"
           }
          ],
          "heatmapgl": [
           {
            "colorbar": {
             "outlinewidth": 0,
             "ticks": ""
            },
            "type": "heatmapgl"
           }
          ],
          "histogram": [
           {
            "marker": {
             "colorbar": {
              "outlinewidth": 0,
              "ticks": ""
             }
            },
            "type": "histogram"
           }
          ],
          "histogram2d": [
           {
            "autocolorscale": true,
            "colorbar": {
             "outlinewidth": 0,
             "ticks": ""
            },
            "type": "histogram2d"
           }
          ],
          "histogram2dcontour": [
           {
            "autocolorscale": true,
            "colorbar": {
             "outlinewidth": 0,
             "ticks": ""
            },
            "type": "histogram2dcontour"
           }
          ],
          "mesh3d": [
           {
            "colorbar": {
             "outlinewidth": 0,
             "ticks": ""
            },
            "type": "mesh3d"
           }
          ],
          "parcoords": [
           {
            "line": {
             "colorbar": {
              "outlinewidth": 0,
              "ticks": ""
             }
            },
            "type": "parcoords"
           }
          ],
          "scatter": [
           {
            "marker": {
             "colorbar": {
              "outlinewidth": 0,
              "ticks": ""
             }
            },
            "type": "scatter"
           }
          ],
          "scatter3d": [
           {
            "marker": {
             "colorbar": {
              "outlinewidth": 0,
              "ticks": ""
             }
            },
            "type": "scatter3d"
           }
          ],
          "scattercarpet": [
           {
            "marker": {
             "colorbar": {
              "outlinewidth": 0,
              "ticks": ""
             }
            },
            "type": "scattercarpet"
           }
          ],
          "scattergeo": [
           {
            "marker": {
             "colorbar": {
              "outlinewidth": 0,
              "ticks": ""
             }
            },
            "type": "scattergeo"
           }
          ],
          "scattergl": [
           {
            "marker": {
             "colorbar": {
              "outlinewidth": 0,
              "ticks": ""
             }
            },
            "type": "scattergl"
           }
          ],
          "scattermapbox": [
           {
            "marker": {
             "colorbar": {
              "outlinewidth": 0,
              "ticks": ""
             }
            },
            "type": "scattermapbox"
           }
          ],
          "scatterpolar": [
           {
            "marker": {
             "colorbar": {
              "outlinewidth": 0,
              "ticks": ""
             }
            },
            "type": "scatterpolar"
           }
          ],
          "scatterpolargl": [
           {
            "marker": {
             "colorbar": {
              "outlinewidth": 0,
              "ticks": ""
             }
            },
            "type": "scatterpolargl"
           }
          ],
          "scatterternary": [
           {
            "marker": {
             "colorbar": {
              "outlinewidth": 0,
              "ticks": ""
             }
            },
            "type": "scatterternary"
           }
          ],
          "surface": [
           {
            "colorbar": {
             "outlinewidth": 0,
             "ticks": ""
            },
            "type": "surface"
           }
          ],
          "table": [
           {
            "cells": {
             "fill": {
              "color": "#EBF0F8"
             },
             "line": {
              "color": "white"
             }
            },
            "header": {
             "fill": {
              "color": "#C8D4E3"
             },
             "line": {
              "color": "white"
             }
            },
            "type": "table"
           }
          ]
         },
         "layout": {
          "annotationdefaults": {
           "arrowcolor": "#506784",
           "arrowhead": 0,
           "arrowwidth": 1
          },
          "colorscale": {
           "diverging": [
            [
             0,
             "#8e0152"
            ],
            [
             0.1,
             "#c51b7d"
            ],
            [
             0.2,
             "#de77ae"
            ],
            [
             0.3,
             "#f1b6da"
            ],
            [
             0.4,
             "#fde0ef"
            ],
            [
             0.5,
             "#f7f7f7"
            ],
            [
             0.6,
             "#e6f5d0"
            ],
            [
             0.7,
             "#b8e186"
            ],
            [
             0.8,
             "#7fbc41"
            ],
            [
             0.9,
             "#4d9221"
            ],
            [
             1,
             "#276419"
            ]
           ],
           "sequential": [
            [
             0,
             "#0508b8"
            ],
            [
             0.0893854748603352,
             "#1910d8"
            ],
            [
             0.1787709497206704,
             "#3c19f0"
            ],
            [
             0.2681564245810056,
             "#6b1cfb"
            ],
            [
             0.3575418994413408,
             "#981cfd"
            ],
            [
             0.44692737430167595,
             "#bf1cfd"
            ],
            [
             0.5363128491620112,
             "#dd2bfd"
            ],
            [
             0.6256983240223464,
             "#f246fe"
            ],
            [
             0.7150837988826816,
             "#fc67fd"
            ],
            [
             0.8044692737430168,
             "#fe88fc"
            ],
            [
             0.8938547486033519,
             "#fea5fd"
            ],
            [
             0.9832402234636871,
             "#febefe"
            ],
            [
             1,
             "#fec3fe"
            ]
           ],
           "sequentialminus": [
            [
             0,
             "#0508b8"
            ],
            [
             0.0893854748603352,
             "#1910d8"
            ],
            [
             0.1787709497206704,
             "#3c19f0"
            ],
            [
             0.2681564245810056,
             "#6b1cfb"
            ],
            [
             0.3575418994413408,
             "#981cfd"
            ],
            [
             0.44692737430167595,
             "#bf1cfd"
            ],
            [
             0.5363128491620112,
             "#dd2bfd"
            ],
            [
             0.6256983240223464,
             "#f246fe"
            ],
            [
             0.7150837988826816,
             "#fc67fd"
            ],
            [
             0.8044692737430168,
             "#fe88fc"
            ],
            [
             0.8938547486033519,
             "#fea5fd"
            ],
            [
             0.9832402234636871,
             "#febefe"
            ],
            [
             1,
             "#fec3fe"
            ]
           ]
          },
          "colorway": [
           "#636efa",
           "#EF553B",
           "#00cc96",
           "#ab63fa",
           "#19d3f3",
           "#e763fa",
           "#FECB52",
           "#FFA15A",
           "#FF6692",
           "#B6E880"
          ],
          "font": {
           "color": "#2a3f5f"
          },
          "geo": {
           "bgcolor": "white",
           "lakecolor": "white",
           "landcolor": "#E5ECF6",
           "showlakes": true,
           "showland": true,
           "subunitcolor": "white"
          },
          "hovermode": "closest",
          "mapbox": {
           "style": "light"
          },
          "paper_bgcolor": "white",
          "plot_bgcolor": "#E5ECF6",
          "polar": {
           "angularaxis": {
            "gridcolor": "white",
            "linecolor": "white",
            "ticks": ""
           },
           "bgcolor": "#E5ECF6",
           "radialaxis": {
            "gridcolor": "white",
            "linecolor": "white",
            "ticks": ""
           }
          },
          "scene": {
           "xaxis": {
            "backgroundcolor": "#E5ECF6",
            "gridcolor": "white",
            "gridwidth": 2,
            "linecolor": "white",
            "showbackground": true,
            "ticks": "",
            "zerolinecolor": "white"
           },
           "yaxis": {
            "backgroundcolor": "#E5ECF6",
            "gridcolor": "white",
            "gridwidth": 2,
            "linecolor": "white",
            "showbackground": true,
            "ticks": "",
            "zerolinecolor": "white"
           },
           "zaxis": {
            "backgroundcolor": "#E5ECF6",
            "gridcolor": "white",
            "gridwidth": 2,
            "linecolor": "white",
            "showbackground": true,
            "ticks": "",
            "zerolinecolor": "white"
           }
          },
          "shapedefaults": {
           "fillcolor": "#506784",
           "line": {
            "width": 0
           },
           "opacity": 0.4
          },
          "ternary": {
           "aaxis": {
            "gridcolor": "white",
            "linecolor": "white",
            "ticks": ""
           },
           "baxis": {
            "gridcolor": "white",
            "linecolor": "white",
            "ticks": ""
           },
           "bgcolor": "#E5ECF6",
           "caxis": {
            "gridcolor": "white",
            "linecolor": "white",
            "ticks": ""
           }
          },
          "title": {
           "x": 0.05
          },
          "xaxis": {
           "automargin": true,
           "gridcolor": "white",
           "linecolor": "white",
           "ticks": "",
           "zerolinecolor": "white",
           "zerolinewidth": 2
          },
          "yaxis": {
           "automargin": true,
           "gridcolor": "white",
           "linecolor": "white",
           "ticks": "",
           "zerolinecolor": "white",
           "zerolinewidth": 2
          }
         }
        },
        "xaxis": {
         "title": {
          "text": "month"
         }
        },
        "xaxis2": {
         "matches": "x",
         "title": {
          "text": "month"
         }
        },
        "xaxis3": {
         "matches": "x",
         "title": {
          "text": "month"
         }
        },
        "xaxis4": {
         "matches": "x",
         "title": {
          "text": "month"
         }
        },
        "xaxis5": {
         "matches": "x",
         "title": {
          "text": "month"
         }
        },
        "xaxis6": {
         "matches": "x",
         "title": {
          "text": "month"
         }
        },
        "yaxis": {
         "title": {
          "text": "number"
         }
        }
       }
      },
      "text/html": [
       "<div id=\"1c8c9bc3-342b-4319-8ddf-18dea61b565a\" style=\"height: 600px; width: 100%;\" class=\"plotly-graph-div\"></div><script type=\"text/javascript\">require([\"plotly\"], function(Plotly) { window.PLOTLYENV=window.PLOTLYENV || {};window.PLOTLYENV.BASE_URL=\"https://plot.ly\";\n",
       "if (document.getElementById(\"1c8c9bc3-342b-4319-8ddf-18dea61b565a\")) {\n",
       "    Plotly.newPlot(\"1c8c9bc3-342b-4319-8ddf-18dea61b565a\", [{\"contours\": {\"coloring\": \"none\"}, \"legendgroup\": \"area=a\", \"line\": {\"color\": \"#636efa\"}, \"name\": \"area=a\", \"showlegend\": true, \"x\": [1, 2, 3, 4, 5, 6, 7, 8, 9, 10, 11, 12], \"xaxis\": \"x\", \"y\": [320, 356, 341, 468, 696, 831, 1088, 720, 449, 312, 287, 313], \"yaxis\": \"y\", \"type\": \"histogram2dcontour\", \"uid\": \"9c4b2eaf-d6a1-4447-ad98-3d9345f0e07c\"}, {\"contours\": {\"coloring\": \"none\"}, \"legendgroup\": \"area=b\", \"line\": {\"color\": \"#EF553B\"}, \"name\": \"area=b\", \"showlegend\": true, \"x\": [1, 2, 3, 4, 5, 6, 7, 8, 9, 10, 11, 12], \"xaxis\": \"x2\", \"y\": [303, 318, 299, 241, 289, 669, 826, 1143, 550, 342, 301, 296], \"yaxis\": \"y\", \"type\": \"histogram2dcontour\", \"uid\": \"b748cc6b-c561-42d2-8385-a89d8eb6d5de\"}, {\"contours\": {\"coloring\": \"none\"}, \"legendgroup\": \"area=c\", \"line\": {\"color\": \"#00cc96\"}, \"name\": \"area=c\", \"showlegend\": true, \"x\": [1, 2, 3, 4, 5, 6, 7, 8, 9, 10, 11, 12], \"xaxis\": \"x3\", \"y\": [341, 319, 268, 254, 322, 378, 483, 762, 935, 980, 511, 302], \"yaxis\": \"y\", \"type\": \"histogram2dcontour\", \"uid\": \"335e4f35-d3fd-461f-9056-ac47adf29a22\"}, {\"contours\": {\"coloring\": \"none\"}, \"legendgroup\": \"area=d\", \"line\": {\"color\": \"#ab63fa\"}, \"name\": \"area=d\", \"showlegend\": true, \"x\": [1, 2, 3, 4, 5, 6, 7, 8, 9, 10, 11, 12], \"xaxis\": \"x4\", \"y\": [416, 337, 362, 340, 361, 388, 404, 461, 522, 878, 1031, 659], \"yaxis\": \"y\", \"type\": \"histogram2dcontour\", \"uid\": \"9a29193c-e598-4c28-8fb2-e1cdab4c6b55\"}, {\"contours\": {\"coloring\": \"none\"}, \"legendgroup\": \"area=e\", \"line\": {\"color\": \"#19d3f3\"}, \"name\": \"area=e\", \"showlegend\": true, \"x\": [1, 2, 3, 4, 5, 6, 7, 8, 9, 10, 11, 12], \"xaxis\": \"x5\", \"y\": [1073, 684, 466, 305, 324, 298, 366, 269, 341, 402, 559, 853], \"yaxis\": \"y\", \"type\": \"histogram2dcontour\", \"uid\": \"c1c45d1c-fa3f-43ef-888e-d98db4b126f5\"}, {\"contours\": {\"coloring\": \"none\"}, \"legendgroup\": \"area=f\", \"line\": {\"color\": \"#e763fa\"}, \"name\": \"area=f\", \"showlegend\": true, \"x\": [1, 2, 3, 4, 5, 6, 7, 8, 9, 10, 11, 12], \"xaxis\": \"x6\", \"y\": [352, 469, 898, 1136, 740, 416, 332, 267, 309, 368, 287, 311], \"yaxis\": \"y\", \"type\": \"histogram2dcontour\", \"uid\": \"a36715ae-09ed-402a-a8ea-cdf739a816d0\"}], {\"height\": 600, \"legend\": {\"tracegroupgap\": 0}, \"margin\": {\"t\": 60}, \"template\": {\"data\": {\"barpolar\": [{\"marker\": {\"line\": {\"color\": \"#E5ECF6\", \"width\": 0.5}}, \"type\": \"barpolar\"}], \"bar\": [{\"marker\": {\"line\": {\"color\": \"#E5ECF6\", \"width\": 0.5}}, \"type\": \"bar\"}], \"carpet\": [{\"aaxis\": {\"endlinecolor\": \"#2a3f5f\", \"gridcolor\": \"white\", \"linecolor\": \"white\", \"minorgridcolor\": \"white\", \"startlinecolor\": \"#2a3f5f\"}, \"baxis\": {\"endlinecolor\": \"#2a3f5f\", \"gridcolor\": \"white\", \"linecolor\": \"white\", \"minorgridcolor\": \"white\", \"startlinecolor\": \"#2a3f5f\"}, \"type\": \"carpet\"}], \"choropleth\": [{\"colorbar\": {\"outlinewidth\": 0, \"ticks\": \"\"}, \"type\": \"choropleth\"}], \"contourcarpet\": [{\"colorbar\": {\"outlinewidth\": 0, \"ticks\": \"\"}, \"type\": \"contourcarpet\"}], \"contour\": [{\"autocolorscale\": true, \"colorbar\": {\"outlinewidth\": 0, \"ticks\": \"\"}, \"type\": \"contour\"}], \"heatmapgl\": [{\"colorbar\": {\"outlinewidth\": 0, \"ticks\": \"\"}, \"type\": \"heatmapgl\"}], \"heatmap\": [{\"autocolorscale\": true, \"colorbar\": {\"outlinewidth\": 0, \"ticks\": \"\"}, \"type\": \"heatmap\"}], \"histogram2dcontour\": [{\"autocolorscale\": true, \"colorbar\": {\"outlinewidth\": 0, \"ticks\": \"\"}, \"type\": \"histogram2dcontour\"}], \"histogram2d\": [{\"autocolorscale\": true, \"colorbar\": {\"outlinewidth\": 0, \"ticks\": \"\"}, \"type\": \"histogram2d\"}], \"histogram\": [{\"marker\": {\"colorbar\": {\"outlinewidth\": 0, \"ticks\": \"\"}}, \"type\": \"histogram\"}], \"mesh3d\": [{\"colorbar\": {\"outlinewidth\": 0, \"ticks\": \"\"}, \"type\": \"mesh3d\"}], \"parcoords\": [{\"line\": {\"colorbar\": {\"outlinewidth\": 0, \"ticks\": \"\"}}, \"type\": \"parcoords\"}], \"scatter3d\": [{\"marker\": {\"colorbar\": {\"outlinewidth\": 0, \"ticks\": \"\"}}, \"type\": \"scatter3d\"}], \"scattercarpet\": [{\"marker\": {\"colorbar\": {\"outlinewidth\": 0, \"ticks\": \"\"}}, \"type\": \"scattercarpet\"}], \"scattergeo\": [{\"marker\": {\"colorbar\": {\"outlinewidth\": 0, \"ticks\": \"\"}}, \"type\": \"scattergeo\"}], \"scattergl\": [{\"marker\": {\"colorbar\": {\"outlinewidth\": 0, \"ticks\": \"\"}}, \"type\": \"scattergl\"}], \"scattermapbox\": [{\"marker\": {\"colorbar\": {\"outlinewidth\": 0, \"ticks\": \"\"}}, \"type\": \"scattermapbox\"}], \"scatterpolargl\": [{\"marker\": {\"colorbar\": {\"outlinewidth\": 0, \"ticks\": \"\"}}, \"type\": \"scatterpolargl\"}], \"scatterpolar\": [{\"marker\": {\"colorbar\": {\"outlinewidth\": 0, \"ticks\": \"\"}}, \"type\": \"scatterpolar\"}], \"scatter\": [{\"marker\": {\"colorbar\": {\"outlinewidth\": 0, \"ticks\": \"\"}}, \"type\": \"scatter\"}], \"scatterternary\": [{\"marker\": {\"colorbar\": {\"outlinewidth\": 0, \"ticks\": \"\"}}, \"type\": \"scatterternary\"}], \"surface\": [{\"colorbar\": {\"outlinewidth\": 0, \"ticks\": \"\"}, \"type\": \"surface\"}], \"table\": [{\"cells\": {\"fill\": {\"color\": \"#EBF0F8\"}, \"line\": {\"color\": \"white\"}}, \"header\": {\"fill\": {\"color\": \"#C8D4E3\"}, \"line\": {\"color\": \"white\"}}, \"type\": \"table\"}]}, \"layout\": {\"annotationdefaults\": {\"arrowcolor\": \"#506784\", \"arrowhead\": 0, \"arrowwidth\": 1}, \"colorscale\": {\"diverging\": [[0, \"#8e0152\"], [0.1, \"#c51b7d\"], [0.2, \"#de77ae\"], [0.3, \"#f1b6da\"], [0.4, \"#fde0ef\"], [0.5, \"#f7f7f7\"], [0.6, \"#e6f5d0\"], [0.7, \"#b8e186\"], [0.8, \"#7fbc41\"], [0.9, \"#4d9221\"], [1, \"#276419\"]], \"sequential\": [[0.0, \"#0508b8\"], [0.0893854748603352, \"#1910d8\"], [0.1787709497206704, \"#3c19f0\"], [0.2681564245810056, \"#6b1cfb\"], [0.3575418994413408, \"#981cfd\"], [0.44692737430167595, \"#bf1cfd\"], [0.5363128491620112, \"#dd2bfd\"], [0.6256983240223464, \"#f246fe\"], [0.7150837988826816, \"#fc67fd\"], [0.8044692737430168, \"#fe88fc\"], [0.8938547486033519, \"#fea5fd\"], [0.9832402234636871, \"#febefe\"], [1.0, \"#fec3fe\"]], \"sequentialminus\": [[0.0, \"#0508b8\"], [0.0893854748603352, \"#1910d8\"], [0.1787709497206704, \"#3c19f0\"], [0.2681564245810056, \"#6b1cfb\"], [0.3575418994413408, \"#981cfd\"], [0.44692737430167595, \"#bf1cfd\"], [0.5363128491620112, \"#dd2bfd\"], [0.6256983240223464, \"#f246fe\"], [0.7150837988826816, \"#fc67fd\"], [0.8044692737430168, \"#fe88fc\"], [0.8938547486033519, \"#fea5fd\"], [0.9832402234636871, \"#febefe\"], [1.0, \"#fec3fe\"]]}, \"colorway\": [\"#636efa\", \"#EF553B\", \"#00cc96\", \"#ab63fa\", \"#19d3f3\", \"#e763fa\", \"#FECB52\", \"#FFA15A\", \"#FF6692\", \"#B6E880\"], \"font\": {\"color\": \"#2a3f5f\"}, \"geo\": {\"bgcolor\": \"white\", \"lakecolor\": \"white\", \"landcolor\": \"#E5ECF6\", \"showlakes\": true, \"showland\": true, \"subunitcolor\": \"white\"}, \"hovermode\": \"closest\", \"mapbox\": {\"style\": \"light\"}, \"paper_bgcolor\": \"white\", \"plot_bgcolor\": \"#E5ECF6\", \"polar\": {\"angularaxis\": {\"gridcolor\": \"white\", \"linecolor\": \"white\", \"ticks\": \"\"}, \"bgcolor\": \"#E5ECF6\", \"radialaxis\": {\"gridcolor\": \"white\", \"linecolor\": \"white\", \"ticks\": \"\"}}, \"scene\": {\"xaxis\": {\"backgroundcolor\": \"#E5ECF6\", \"gridcolor\": \"white\", \"gridwidth\": 2, \"linecolor\": \"white\", \"showbackground\": true, \"ticks\": \"\", \"zerolinecolor\": \"white\"}, \"yaxis\": {\"backgroundcolor\": \"#E5ECF6\", \"gridcolor\": \"white\", \"gridwidth\": 2, \"linecolor\": \"white\", \"showbackground\": true, \"ticks\": \"\", \"zerolinecolor\": \"white\"}, \"zaxis\": {\"backgroundcolor\": \"#E5ECF6\", \"gridcolor\": \"white\", \"gridwidth\": 2, \"linecolor\": \"white\", \"showbackground\": true, \"ticks\": \"\", \"zerolinecolor\": \"white\"}}, \"shapedefaults\": {\"fillcolor\": \"#506784\", \"line\": {\"width\": 0}, \"opacity\": 0.4}, \"ternary\": {\"aaxis\": {\"gridcolor\": \"white\", \"linecolor\": \"white\", \"ticks\": \"\"}, \"baxis\": {\"gridcolor\": \"white\", \"linecolor\": \"white\", \"ticks\": \"\"}, \"bgcolor\": \"#E5ECF6\", \"caxis\": {\"gridcolor\": \"white\", \"linecolor\": \"white\", \"ticks\": \"\"}}, \"title\": {\"x\": 0.05}, \"xaxis\": {\"automargin\": true, \"gridcolor\": \"white\", \"linecolor\": \"white\", \"ticks\": \"\", \"zerolinecolor\": \"white\", \"zerolinewidth\": 2}, \"yaxis\": {\"automargin\": true, \"gridcolor\": \"white\", \"linecolor\": \"white\", \"ticks\": \"\", \"zerolinecolor\": \"white\", \"zerolinewidth\": 2}}}, \"grid\": {\"xaxes\": [\"x\", \"x2\", \"x3\", \"x4\", \"x5\", \"x6\"], \"yaxes\": [\"y\"], \"xgap\": 0.1, \"ygap\": 0.1, \"xside\": \"bottom\", \"yside\": \"left\"}, \"xaxis2\": {\"title\": {\"text\": \"month\"}, \"matches\": \"x\"}, \"xaxis3\": {\"title\": {\"text\": \"month\"}, \"matches\": \"x\"}, \"xaxis4\": {\"title\": {\"text\": \"month\"}, \"matches\": \"x\"}, \"xaxis5\": {\"title\": {\"text\": \"month\"}, \"matches\": \"x\"}, \"xaxis6\": {\"title\": {\"text\": \"month\"}, \"matches\": \"x\"}, \"annotations\": [{\"showarrow\": false, \"text\": \"area=a\", \"textangle\": 0, \"x\": 0.07627118644067797, \"xanchor\": \"center\", \"xref\": \"paper\", \"y\": 1.02, \"yanchor\": \"middle\", \"yref\": \"paper\"}, {\"showarrow\": false, \"text\": \"area=b\", \"textangle\": 0, \"x\": 0.24576271186440676, \"xanchor\": \"center\", \"xref\": \"paper\", \"y\": 1.02, \"yanchor\": \"middle\", \"yref\": \"paper\"}, {\"showarrow\": false, \"text\": \"area=c\", \"textangle\": 0, \"x\": 0.4152542372881356, \"xanchor\": \"center\", \"xref\": \"paper\", \"y\": 1.02, \"yanchor\": \"middle\", \"yref\": \"paper\"}, {\"showarrow\": false, \"text\": \"area=d\", \"textangle\": 0, \"x\": 0.5847457627118644, \"xanchor\": \"center\", \"xref\": \"paper\", \"y\": 1.02, \"yanchor\": \"middle\", \"yref\": \"paper\"}, {\"showarrow\": false, \"text\": \"area=e\", \"textangle\": 0, \"x\": 0.7542372881355932, \"xanchor\": \"center\", \"xref\": \"paper\", \"y\": 1.02, \"yanchor\": \"middle\", \"yref\": \"paper\"}, {\"showarrow\": false, \"text\": \"area=f\", \"textangle\": 0, \"x\": 0.923728813559322, \"xanchor\": \"center\", \"xref\": \"paper\", \"y\": 1.02, \"yanchor\": \"middle\", \"yref\": \"paper\"}], \"xaxis\": {\"title\": {\"text\": \"month\"}}, \"yaxis\": {\"title\": {\"text\": \"number\"}}}, {\"showLink\": false, \"linkText\": \"Export to plot.ly\", \"plotlyServerURL\": \"https://plot.ly\"}); \n",
       "}\n",
       "});</script><script type=\"text/javascript\">window.addEventListener(\"resize\", function(){if (document.getElementById(\"1c8c9bc3-342b-4319-8ddf-18dea61b565a\")) {window._Plotly.Plots.resize(document.getElementById(\"1c8c9bc3-342b-4319-8ddf-18dea61b565a\"));};})</script>"
      ],
      "text/vnd.plotly.v1+html": [
       "<div id=\"1c8c9bc3-342b-4319-8ddf-18dea61b565a\" style=\"height: 600px; width: 100%;\" class=\"plotly-graph-div\"></div><script type=\"text/javascript\">require([\"plotly\"], function(Plotly) { window.PLOTLYENV=window.PLOTLYENV || {};window.PLOTLYENV.BASE_URL=\"https://plot.ly\";\n",
       "if (document.getElementById(\"1c8c9bc3-342b-4319-8ddf-18dea61b565a\")) {\n",
       "    Plotly.newPlot(\"1c8c9bc3-342b-4319-8ddf-18dea61b565a\", [{\"contours\": {\"coloring\": \"none\"}, \"legendgroup\": \"area=a\", \"line\": {\"color\": \"#636efa\"}, \"name\": \"area=a\", \"showlegend\": true, \"x\": [1, 2, 3, 4, 5, 6, 7, 8, 9, 10, 11, 12], \"xaxis\": \"x\", \"y\": [320, 356, 341, 468, 696, 831, 1088, 720, 449, 312, 287, 313], \"yaxis\": \"y\", \"type\": \"histogram2dcontour\", \"uid\": \"9c4b2eaf-d6a1-4447-ad98-3d9345f0e07c\"}, {\"contours\": {\"coloring\": \"none\"}, \"legendgroup\": \"area=b\", \"line\": {\"color\": \"#EF553B\"}, \"name\": \"area=b\", \"showlegend\": true, \"x\": [1, 2, 3, 4, 5, 6, 7, 8, 9, 10, 11, 12], \"xaxis\": \"x2\", \"y\": [303, 318, 299, 241, 289, 669, 826, 1143, 550, 342, 301, 296], \"yaxis\": \"y\", \"type\": \"histogram2dcontour\", \"uid\": \"b748cc6b-c561-42d2-8385-a89d8eb6d5de\"}, {\"contours\": {\"coloring\": \"none\"}, \"legendgroup\": \"area=c\", \"line\": {\"color\": \"#00cc96\"}, \"name\": \"area=c\", \"showlegend\": true, \"x\": [1, 2, 3, 4, 5, 6, 7, 8, 9, 10, 11, 12], \"xaxis\": \"x3\", \"y\": [341, 319, 268, 254, 322, 378, 483, 762, 935, 980, 511, 302], \"yaxis\": \"y\", \"type\": \"histogram2dcontour\", \"uid\": \"335e4f35-d3fd-461f-9056-ac47adf29a22\"}, {\"contours\": {\"coloring\": \"none\"}, \"legendgroup\": \"area=d\", \"line\": {\"color\": \"#ab63fa\"}, \"name\": \"area=d\", \"showlegend\": true, \"x\": [1, 2, 3, 4, 5, 6, 7, 8, 9, 10, 11, 12], \"xaxis\": \"x4\", \"y\": [416, 337, 362, 340, 361, 388, 404, 461, 522, 878, 1031, 659], \"yaxis\": \"y\", \"type\": \"histogram2dcontour\", \"uid\": \"9a29193c-e598-4c28-8fb2-e1cdab4c6b55\"}, {\"contours\": {\"coloring\": \"none\"}, \"legendgroup\": \"area=e\", \"line\": {\"color\": \"#19d3f3\"}, \"name\": \"area=e\", \"showlegend\": true, \"x\": [1, 2, 3, 4, 5, 6, 7, 8, 9, 10, 11, 12], \"xaxis\": \"x5\", \"y\": [1073, 684, 466, 305, 324, 298, 366, 269, 341, 402, 559, 853], \"yaxis\": \"y\", \"type\": \"histogram2dcontour\", \"uid\": \"c1c45d1c-fa3f-43ef-888e-d98db4b126f5\"}, {\"contours\": {\"coloring\": \"none\"}, \"legendgroup\": \"area=f\", \"line\": {\"color\": \"#e763fa\"}, \"name\": \"area=f\", \"showlegend\": true, \"x\": [1, 2, 3, 4, 5, 6, 7, 8, 9, 10, 11, 12], \"xaxis\": \"x6\", \"y\": [352, 469, 898, 1136, 740, 416, 332, 267, 309, 368, 287, 311], \"yaxis\": \"y\", \"type\": \"histogram2dcontour\", \"uid\": \"a36715ae-09ed-402a-a8ea-cdf739a816d0\"}], {\"height\": 600, \"legend\": {\"tracegroupgap\": 0}, \"margin\": {\"t\": 60}, \"template\": {\"data\": {\"barpolar\": [{\"marker\": {\"line\": {\"color\": \"#E5ECF6\", \"width\": 0.5}}, \"type\": \"barpolar\"}], \"bar\": [{\"marker\": {\"line\": {\"color\": \"#E5ECF6\", \"width\": 0.5}}, \"type\": \"bar\"}], \"carpet\": [{\"aaxis\": {\"endlinecolor\": \"#2a3f5f\", \"gridcolor\": \"white\", \"linecolor\": \"white\", \"minorgridcolor\": \"white\", \"startlinecolor\": \"#2a3f5f\"}, \"baxis\": {\"endlinecolor\": \"#2a3f5f\", \"gridcolor\": \"white\", \"linecolor\": \"white\", \"minorgridcolor\": \"white\", \"startlinecolor\": \"#2a3f5f\"}, \"type\": \"carpet\"}], \"choropleth\": [{\"colorbar\": {\"outlinewidth\": 0, \"ticks\": \"\"}, \"type\": \"choropleth\"}], \"contourcarpet\": [{\"colorbar\": {\"outlinewidth\": 0, \"ticks\": \"\"}, \"type\": \"contourcarpet\"}], \"contour\": [{\"autocolorscale\": true, \"colorbar\": {\"outlinewidth\": 0, \"ticks\": \"\"}, \"type\": \"contour\"}], \"heatmapgl\": [{\"colorbar\": {\"outlinewidth\": 0, \"ticks\": \"\"}, \"type\": \"heatmapgl\"}], \"heatmap\": [{\"autocolorscale\": true, \"colorbar\": {\"outlinewidth\": 0, \"ticks\": \"\"}, \"type\": \"heatmap\"}], \"histogram2dcontour\": [{\"autocolorscale\": true, \"colorbar\": {\"outlinewidth\": 0, \"ticks\": \"\"}, \"type\": \"histogram2dcontour\"}], \"histogram2d\": [{\"autocolorscale\": true, \"colorbar\": {\"outlinewidth\": 0, \"ticks\": \"\"}, \"type\": \"histogram2d\"}], \"histogram\": [{\"marker\": {\"colorbar\": {\"outlinewidth\": 0, \"ticks\": \"\"}}, \"type\": \"histogram\"}], \"mesh3d\": [{\"colorbar\": {\"outlinewidth\": 0, \"ticks\": \"\"}, \"type\": \"mesh3d\"}], \"parcoords\": [{\"line\": {\"colorbar\": {\"outlinewidth\": 0, \"ticks\": \"\"}}, \"type\": \"parcoords\"}], \"scatter3d\": [{\"marker\": {\"colorbar\": {\"outlinewidth\": 0, \"ticks\": \"\"}}, \"type\": \"scatter3d\"}], \"scattercarpet\": [{\"marker\": {\"colorbar\": {\"outlinewidth\": 0, \"ticks\": \"\"}}, \"type\": \"scattercarpet\"}], \"scattergeo\": [{\"marker\": {\"colorbar\": {\"outlinewidth\": 0, \"ticks\": \"\"}}, \"type\": \"scattergeo\"}], \"scattergl\": [{\"marker\": {\"colorbar\": {\"outlinewidth\": 0, \"ticks\": \"\"}}, \"type\": \"scattergl\"}], \"scattermapbox\": [{\"marker\": {\"colorbar\": {\"outlinewidth\": 0, \"ticks\": \"\"}}, \"type\": \"scattermapbox\"}], \"scatterpolargl\": [{\"marker\": {\"colorbar\": {\"outlinewidth\": 0, \"ticks\": \"\"}}, \"type\": \"scatterpolargl\"}], \"scatterpolar\": [{\"marker\": {\"colorbar\": {\"outlinewidth\": 0, \"ticks\": \"\"}}, \"type\": \"scatterpolar\"}], \"scatter\": [{\"marker\": {\"colorbar\": {\"outlinewidth\": 0, \"ticks\": \"\"}}, \"type\": \"scatter\"}], \"scatterternary\": [{\"marker\": {\"colorbar\": {\"outlinewidth\": 0, \"ticks\": \"\"}}, \"type\": \"scatterternary\"}], \"surface\": [{\"colorbar\": {\"outlinewidth\": 0, \"ticks\": \"\"}, \"type\": \"surface\"}], \"table\": [{\"cells\": {\"fill\": {\"color\": \"#EBF0F8\"}, \"line\": {\"color\": \"white\"}}, \"header\": {\"fill\": {\"color\": \"#C8D4E3\"}, \"line\": {\"color\": \"white\"}}, \"type\": \"table\"}]}, \"layout\": {\"annotationdefaults\": {\"arrowcolor\": \"#506784\", \"arrowhead\": 0, \"arrowwidth\": 1}, \"colorscale\": {\"diverging\": [[0, \"#8e0152\"], [0.1, \"#c51b7d\"], [0.2, \"#de77ae\"], [0.3, \"#f1b6da\"], [0.4, \"#fde0ef\"], [0.5, \"#f7f7f7\"], [0.6, \"#e6f5d0\"], [0.7, \"#b8e186\"], [0.8, \"#7fbc41\"], [0.9, \"#4d9221\"], [1, \"#276419\"]], \"sequential\": [[0.0, \"#0508b8\"], [0.0893854748603352, \"#1910d8\"], [0.1787709497206704, \"#3c19f0\"], [0.2681564245810056, \"#6b1cfb\"], [0.3575418994413408, \"#981cfd\"], [0.44692737430167595, \"#bf1cfd\"], [0.5363128491620112, \"#dd2bfd\"], [0.6256983240223464, \"#f246fe\"], [0.7150837988826816, \"#fc67fd\"], [0.8044692737430168, \"#fe88fc\"], [0.8938547486033519, \"#fea5fd\"], [0.9832402234636871, \"#febefe\"], [1.0, \"#fec3fe\"]], \"sequentialminus\": [[0.0, \"#0508b8\"], [0.0893854748603352, \"#1910d8\"], [0.1787709497206704, \"#3c19f0\"], [0.2681564245810056, \"#6b1cfb\"], [0.3575418994413408, \"#981cfd\"], [0.44692737430167595, \"#bf1cfd\"], [0.5363128491620112, \"#dd2bfd\"], [0.6256983240223464, \"#f246fe\"], [0.7150837988826816, \"#fc67fd\"], [0.8044692737430168, \"#fe88fc\"], [0.8938547486033519, \"#fea5fd\"], [0.9832402234636871, \"#febefe\"], [1.0, \"#fec3fe\"]]}, \"colorway\": [\"#636efa\", \"#EF553B\", \"#00cc96\", \"#ab63fa\", \"#19d3f3\", \"#e763fa\", \"#FECB52\", \"#FFA15A\", \"#FF6692\", \"#B6E880\"], \"font\": {\"color\": \"#2a3f5f\"}, \"geo\": {\"bgcolor\": \"white\", \"lakecolor\": \"white\", \"landcolor\": \"#E5ECF6\", \"showlakes\": true, \"showland\": true, \"subunitcolor\": \"white\"}, \"hovermode\": \"closest\", \"mapbox\": {\"style\": \"light\"}, \"paper_bgcolor\": \"white\", \"plot_bgcolor\": \"#E5ECF6\", \"polar\": {\"angularaxis\": {\"gridcolor\": \"white\", \"linecolor\": \"white\", \"ticks\": \"\"}, \"bgcolor\": \"#E5ECF6\", \"radialaxis\": {\"gridcolor\": \"white\", \"linecolor\": \"white\", \"ticks\": \"\"}}, \"scene\": {\"xaxis\": {\"backgroundcolor\": \"#E5ECF6\", \"gridcolor\": \"white\", \"gridwidth\": 2, \"linecolor\": \"white\", \"showbackground\": true, \"ticks\": \"\", \"zerolinecolor\": \"white\"}, \"yaxis\": {\"backgroundcolor\": \"#E5ECF6\", \"gridcolor\": \"white\", \"gridwidth\": 2, \"linecolor\": \"white\", \"showbackground\": true, \"ticks\": \"\", \"zerolinecolor\": \"white\"}, \"zaxis\": {\"backgroundcolor\": \"#E5ECF6\", \"gridcolor\": \"white\", \"gridwidth\": 2, \"linecolor\": \"white\", \"showbackground\": true, \"ticks\": \"\", \"zerolinecolor\": \"white\"}}, \"shapedefaults\": {\"fillcolor\": \"#506784\", \"line\": {\"width\": 0}, \"opacity\": 0.4}, \"ternary\": {\"aaxis\": {\"gridcolor\": \"white\", \"linecolor\": \"white\", \"ticks\": \"\"}, \"baxis\": {\"gridcolor\": \"white\", \"linecolor\": \"white\", \"ticks\": \"\"}, \"bgcolor\": \"#E5ECF6\", \"caxis\": {\"gridcolor\": \"white\", \"linecolor\": \"white\", \"ticks\": \"\"}}, \"title\": {\"x\": 0.05}, \"xaxis\": {\"automargin\": true, \"gridcolor\": \"white\", \"linecolor\": \"white\", \"ticks\": \"\", \"zerolinecolor\": \"white\", \"zerolinewidth\": 2}, \"yaxis\": {\"automargin\": true, \"gridcolor\": \"white\", \"linecolor\": \"white\", \"ticks\": \"\", \"zerolinecolor\": \"white\", \"zerolinewidth\": 2}}}, \"grid\": {\"xaxes\": [\"x\", \"x2\", \"x3\", \"x4\", \"x5\", \"x6\"], \"yaxes\": [\"y\"], \"xgap\": 0.1, \"ygap\": 0.1, \"xside\": \"bottom\", \"yside\": \"left\"}, \"xaxis2\": {\"title\": {\"text\": \"month\"}, \"matches\": \"x\"}, \"xaxis3\": {\"title\": {\"text\": \"month\"}, \"matches\": \"x\"}, \"xaxis4\": {\"title\": {\"text\": \"month\"}, \"matches\": \"x\"}, \"xaxis5\": {\"title\": {\"text\": \"month\"}, \"matches\": \"x\"}, \"xaxis6\": {\"title\": {\"text\": \"month\"}, \"matches\": \"x\"}, \"annotations\": [{\"showarrow\": false, \"text\": \"area=a\", \"textangle\": 0, \"x\": 0.07627118644067797, \"xanchor\": \"center\", \"xref\": \"paper\", \"y\": 1.02, \"yanchor\": \"middle\", \"yref\": \"paper\"}, {\"showarrow\": false, \"text\": \"area=b\", \"textangle\": 0, \"x\": 0.24576271186440676, \"xanchor\": \"center\", \"xref\": \"paper\", \"y\": 1.02, \"yanchor\": \"middle\", \"yref\": \"paper\"}, {\"showarrow\": false, \"text\": \"area=c\", \"textangle\": 0, \"x\": 0.4152542372881356, \"xanchor\": \"center\", \"xref\": \"paper\", \"y\": 1.02, \"yanchor\": \"middle\", \"yref\": \"paper\"}, {\"showarrow\": false, \"text\": \"area=d\", \"textangle\": 0, \"x\": 0.5847457627118644, \"xanchor\": \"center\", \"xref\": \"paper\", \"y\": 1.02, \"yanchor\": \"middle\", \"yref\": \"paper\"}, {\"showarrow\": false, \"text\": \"area=e\", \"textangle\": 0, \"x\": 0.7542372881355932, \"xanchor\": \"center\", \"xref\": \"paper\", \"y\": 1.02, \"yanchor\": \"middle\", \"yref\": \"paper\"}, {\"showarrow\": false, \"text\": \"area=f\", \"textangle\": 0, \"x\": 0.923728813559322, \"xanchor\": \"center\", \"xref\": \"paper\", \"y\": 1.02, \"yanchor\": \"middle\", \"yref\": \"paper\"}], \"xaxis\": {\"title\": {\"text\": \"month\"}}, \"yaxis\": {\"title\": {\"text\": \"number\"}}}, {\"showLink\": false, \"linkText\": \"Export to plot.ly\", \"plotlyServerURL\": \"https://plot.ly\"}); \n",
       "}\n",
       "});</script><script type=\"text/javascript\">window.addEventListener(\"resize\", function(){if (document.getElementById(\"1c8c9bc3-342b-4319-8ddf-18dea61b565a\")) {window._Plotly.Plots.resize(document.getElementById(\"1c8c9bc3-342b-4319-8ddf-18dea61b565a\"));};})</script>"
      ]
     },
     "metadata": {},
     "output_type": "display_data"
    }
   ],
   "source": [
    "px.density_contour(dataset, x=\"month\", y=\"number\", color=\"area\", facet_col=\"area\")"
   ]
  },
  {
   "cell_type": "code",
   "execution_count": 10,
   "metadata": {},
   "outputs": [
    {
     "data": {
      "application/vnd.plotly.v1+json": {
       "config": {
        "linkText": "Export to plot.ly",
        "plotlyServerURL": "https://plot.ly",
        "showLink": false
       },
       "data": [
        {
         "contours": {
          "coloring": "none"
         },
         "legendgroup": "area=a",
         "line": {
          "color": "#636efa"
         },
         "name": "area=a",
         "showlegend": true,
         "type": "histogram2dcontour",
         "uid": "ea926818-accf-491d-b9f0-a9bbb4b709e6",
         "x": [
          1,
          2,
          3,
          4,
          5,
          6,
          7,
          8,
          9,
          10,
          11,
          12
         ],
         "xaxis": "x",
         "y": [
          70,
          73,
          89,
          66,
          97,
          168,
          180,
          177,
          125,
          81,
          62,
          54
         ],
         "yaxis": "y"
        },
        {
         "contours": {
          "coloring": "none"
         },
         "legendgroup": "area=b",
         "line": {
          "color": "#EF553B"
         },
         "name": "area=b",
         "showlegend": true,
         "type": "histogram2dcontour",
         "uid": "2ac68daf-7475-4ec9-9eaf-c12ae1203de9",
         "x": [
          1,
          2,
          3,
          4,
          5,
          6,
          7,
          8,
          9,
          10,
          11,
          12
         ],
         "xaxis": "x2",
         "y": [
          101,
          74,
          65,
          88,
          59,
          96,
          112,
          143,
          150,
          106,
          87,
          71
         ],
         "yaxis": "y"
        },
        {
         "contours": {
          "coloring": "none"
         },
         "legendgroup": "area=c",
         "line": {
          "color": "#00cc96"
         },
         "name": "area=c",
         "showlegend": true,
         "type": "histogram2dcontour",
         "uid": "2be14378-400f-4dc2-8776-80fe8bb44fa1",
         "x": [
          1,
          2,
          3,
          4,
          5,
          6,
          7,
          8,
          9,
          10,
          11,
          12
         ],
         "xaxis": "x3",
         "y": [
          68,
          52,
          64,
          46,
          55,
          70,
          68,
          62,
          86,
          103,
          116,
          89
         ],
         "yaxis": "y"
        },
        {
         "contours": {
          "coloring": "none"
         },
         "legendgroup": "area=d",
         "line": {
          "color": "#ab63fa"
         },
         "name": "area=d",
         "showlegend": true,
         "type": "histogram2dcontour",
         "uid": "e81ae946-8705-43af-a90d-d89690b51dd5",
         "x": [
          1,
          2,
          3,
          4,
          5,
          6,
          7,
          8,
          9,
          10,
          11,
          12
         ],
         "xaxis": "x4",
         "y": [
          103,
          86,
          70,
          55,
          61,
          49,
          70,
          73,
          62,
          87,
          99,
          121
         ],
         "yaxis": "y"
        },
        {
         "contours": {
          "coloring": "none"
         },
         "legendgroup": "area=e",
         "line": {
          "color": "#19d3f3"
         },
         "name": "area=e",
         "showlegend": true,
         "type": "histogram2dcontour",
         "uid": "4b353e0d-789a-4de7-bc16-99136164111c",
         "x": [
          1,
          2,
          3,
          4,
          5,
          6,
          7,
          8,
          9,
          10,
          11,
          12
         ],
         "xaxis": "x5",
         "y": [
          93,
          144,
          102,
          65,
          61,
          73,
          80,
          81,
          66,
          79,
          71,
          90
         ],
         "yaxis": "y"
        },
        {
         "contours": {
          "coloring": "none"
         },
         "legendgroup": "area=f",
         "line": {
          "color": "#e763fa"
         },
         "name": "area=f",
         "showlegend": true,
         "type": "histogram2dcontour",
         "uid": "948eebdc-f766-4300-bd16-9b1cb27716c2",
         "x": [
          1,
          2,
          3,
          4,
          5,
          6,
          7,
          8,
          9,
          10,
          11,
          12
         ],
         "xaxis": "x6",
         "y": [
          61,
          80,
          89,
          110,
          122,
          69,
          73,
          56,
          61,
          69,
          48,
          70
         ],
         "yaxis": "y"
        }
       ],
       "layout": {
        "annotations": [
         {
          "showarrow": false,
          "text": "area=a",
          "textangle": 0,
          "x": 0.07627118644067797,
          "xanchor": "center",
          "xref": "paper",
          "y": 1.02,
          "yanchor": "middle",
          "yref": "paper"
         },
         {
          "showarrow": false,
          "text": "area=b",
          "textangle": 0,
          "x": 0.24576271186440676,
          "xanchor": "center",
          "xref": "paper",
          "y": 1.02,
          "yanchor": "middle",
          "yref": "paper"
         },
         {
          "showarrow": false,
          "text": "area=c",
          "textangle": 0,
          "x": 0.4152542372881356,
          "xanchor": "center",
          "xref": "paper",
          "y": 1.02,
          "yanchor": "middle",
          "yref": "paper"
         },
         {
          "showarrow": false,
          "text": "area=d",
          "textangle": 0,
          "x": 0.5847457627118644,
          "xanchor": "center",
          "xref": "paper",
          "y": 1.02,
          "yanchor": "middle",
          "yref": "paper"
         },
         {
          "showarrow": false,
          "text": "area=e",
          "textangle": 0,
          "x": 0.7542372881355932,
          "xanchor": "center",
          "xref": "paper",
          "y": 1.02,
          "yanchor": "middle",
          "yref": "paper"
         },
         {
          "showarrow": false,
          "text": "area=f",
          "textangle": 0,
          "x": 0.923728813559322,
          "xanchor": "center",
          "xref": "paper",
          "y": 1.02,
          "yanchor": "middle",
          "yref": "paper"
         }
        ],
        "grid": {
         "xaxes": [
          "x",
          "x2",
          "x3",
          "x4",
          "x5",
          "x6"
         ],
         "xgap": 0.1,
         "xside": "bottom",
         "yaxes": [
          "y"
         ],
         "ygap": 0.1,
         "yside": "left"
        },
        "height": 600,
        "legend": {
         "tracegroupgap": 0
        },
        "margin": {
         "t": 60
        },
        "template": {
         "data": {
          "bar": [
           {
            "marker": {
             "line": {
              "color": "#E5ECF6",
              "width": 0.5
             }
            },
            "type": "bar"
           }
          ],
          "barpolar": [
           {
            "marker": {
             "line": {
              "color": "#E5ECF6",
              "width": 0.5
             }
            },
            "type": "barpolar"
           }
          ],
          "carpet": [
           {
            "aaxis": {
             "endlinecolor": "#2a3f5f",
             "gridcolor": "white",
             "linecolor": "white",
             "minorgridcolor": "white",
             "startlinecolor": "#2a3f5f"
            },
            "baxis": {
             "endlinecolor": "#2a3f5f",
             "gridcolor": "white",
             "linecolor": "white",
             "minorgridcolor": "white",
             "startlinecolor": "#2a3f5f"
            },
            "type": "carpet"
           }
          ],
          "choropleth": [
           {
            "colorbar": {
             "outlinewidth": 0,
             "ticks": ""
            },
            "type": "choropleth"
           }
          ],
          "contour": [
           {
            "autocolorscale": true,
            "colorbar": {
             "outlinewidth": 0,
             "ticks": ""
            },
            "type": "contour"
           }
          ],
          "contourcarpet": [
           {
            "colorbar": {
             "outlinewidth": 0,
             "ticks": ""
            },
            "type": "contourcarpet"
           }
          ],
          "heatmap": [
           {
            "autocolorscale": true,
            "colorbar": {
             "outlinewidth": 0,
             "ticks": ""
            },
            "type": "heatmap"
           }
          ],
          "heatmapgl": [
           {
            "colorbar": {
             "outlinewidth": 0,
             "ticks": ""
            },
            "type": "heatmapgl"
           }
          ],
          "histogram": [
           {
            "marker": {
             "colorbar": {
              "outlinewidth": 0,
              "ticks": ""
             }
            },
            "type": "histogram"
           }
          ],
          "histogram2d": [
           {
            "autocolorscale": true,
            "colorbar": {
             "outlinewidth": 0,
             "ticks": ""
            },
            "type": "histogram2d"
           }
          ],
          "histogram2dcontour": [
           {
            "autocolorscale": true,
            "colorbar": {
             "outlinewidth": 0,
             "ticks": ""
            },
            "type": "histogram2dcontour"
           }
          ],
          "mesh3d": [
           {
            "colorbar": {
             "outlinewidth": 0,
             "ticks": ""
            },
            "type": "mesh3d"
           }
          ],
          "parcoords": [
           {
            "line": {
             "colorbar": {
              "outlinewidth": 0,
              "ticks": ""
             }
            },
            "type": "parcoords"
           }
          ],
          "scatter": [
           {
            "marker": {
             "colorbar": {
              "outlinewidth": 0,
              "ticks": ""
             }
            },
            "type": "scatter"
           }
          ],
          "scatter3d": [
           {
            "marker": {
             "colorbar": {
              "outlinewidth": 0,
              "ticks": ""
             }
            },
            "type": "scatter3d"
           }
          ],
          "scattercarpet": [
           {
            "marker": {
             "colorbar": {
              "outlinewidth": 0,
              "ticks": ""
             }
            },
            "type": "scattercarpet"
           }
          ],
          "scattergeo": [
           {
            "marker": {
             "colorbar": {
              "outlinewidth": 0,
              "ticks": ""
             }
            },
            "type": "scattergeo"
           }
          ],
          "scattergl": [
           {
            "marker": {
             "colorbar": {
              "outlinewidth": 0,
              "ticks": ""
             }
            },
            "type": "scattergl"
           }
          ],
          "scattermapbox": [
           {
            "marker": {
             "colorbar": {
              "outlinewidth": 0,
              "ticks": ""
             }
            },
            "type": "scattermapbox"
           }
          ],
          "scatterpolar": [
           {
            "marker": {
             "colorbar": {
              "outlinewidth": 0,
              "ticks": ""
             }
            },
            "type": "scatterpolar"
           }
          ],
          "scatterpolargl": [
           {
            "marker": {
             "colorbar": {
              "outlinewidth": 0,
              "ticks": ""
             }
            },
            "type": "scatterpolargl"
           }
          ],
          "scatterternary": [
           {
            "marker": {
             "colorbar": {
              "outlinewidth": 0,
              "ticks": ""
             }
            },
            "type": "scatterternary"
           }
          ],
          "surface": [
           {
            "colorbar": {
             "outlinewidth": 0,
             "ticks": ""
            },
            "type": "surface"
           }
          ],
          "table": [
           {
            "cells": {
             "fill": {
              "color": "#EBF0F8"
             },
             "line": {
              "color": "white"
             }
            },
            "header": {
             "fill": {
              "color": "#C8D4E3"
             },
             "line": {
              "color": "white"
             }
            },
            "type": "table"
           }
          ]
         },
         "layout": {
          "annotationdefaults": {
           "arrowcolor": "#506784",
           "arrowhead": 0,
           "arrowwidth": 1
          },
          "colorscale": {
           "diverging": [
            [
             0,
             "#8e0152"
            ],
            [
             0.1,
             "#c51b7d"
            ],
            [
             0.2,
             "#de77ae"
            ],
            [
             0.3,
             "#f1b6da"
            ],
            [
             0.4,
             "#fde0ef"
            ],
            [
             0.5,
             "#f7f7f7"
            ],
            [
             0.6,
             "#e6f5d0"
            ],
            [
             0.7,
             "#b8e186"
            ],
            [
             0.8,
             "#7fbc41"
            ],
            [
             0.9,
             "#4d9221"
            ],
            [
             1,
             "#276419"
            ]
           ],
           "sequential": [
            [
             0,
             "#0508b8"
            ],
            [
             0.0893854748603352,
             "#1910d8"
            ],
            [
             0.1787709497206704,
             "#3c19f0"
            ],
            [
             0.2681564245810056,
             "#6b1cfb"
            ],
            [
             0.3575418994413408,
             "#981cfd"
            ],
            [
             0.44692737430167595,
             "#bf1cfd"
            ],
            [
             0.5363128491620112,
             "#dd2bfd"
            ],
            [
             0.6256983240223464,
             "#f246fe"
            ],
            [
             0.7150837988826816,
             "#fc67fd"
            ],
            [
             0.8044692737430168,
             "#fe88fc"
            ],
            [
             0.8938547486033519,
             "#fea5fd"
            ],
            [
             0.9832402234636871,
             "#febefe"
            ],
            [
             1,
             "#fec3fe"
            ]
           ],
           "sequentialminus": [
            [
             0,
             "#0508b8"
            ],
            [
             0.0893854748603352,
             "#1910d8"
            ],
            [
             0.1787709497206704,
             "#3c19f0"
            ],
            [
             0.2681564245810056,
             "#6b1cfb"
            ],
            [
             0.3575418994413408,
             "#981cfd"
            ],
            [
             0.44692737430167595,
             "#bf1cfd"
            ],
            [
             0.5363128491620112,
             "#dd2bfd"
            ],
            [
             0.6256983240223464,
             "#f246fe"
            ],
            [
             0.7150837988826816,
             "#fc67fd"
            ],
            [
             0.8044692737430168,
             "#fe88fc"
            ],
            [
             0.8938547486033519,
             "#fea5fd"
            ],
            [
             0.9832402234636871,
             "#febefe"
            ],
            [
             1,
             "#fec3fe"
            ]
           ]
          },
          "colorway": [
           "#636efa",
           "#EF553B",
           "#00cc96",
           "#ab63fa",
           "#19d3f3",
           "#e763fa",
           "#FECB52",
           "#FFA15A",
           "#FF6692",
           "#B6E880"
          ],
          "font": {
           "color": "#2a3f5f"
          },
          "geo": {
           "bgcolor": "white",
           "lakecolor": "white",
           "landcolor": "#E5ECF6",
           "showlakes": true,
           "showland": true,
           "subunitcolor": "white"
          },
          "hovermode": "closest",
          "mapbox": {
           "style": "light"
          },
          "paper_bgcolor": "white",
          "plot_bgcolor": "#E5ECF6",
          "polar": {
           "angularaxis": {
            "gridcolor": "white",
            "linecolor": "white",
            "ticks": ""
           },
           "bgcolor": "#E5ECF6",
           "radialaxis": {
            "gridcolor": "white",
            "linecolor": "white",
            "ticks": ""
           }
          },
          "scene": {
           "xaxis": {
            "backgroundcolor": "#E5ECF6",
            "gridcolor": "white",
            "gridwidth": 2,
            "linecolor": "white",
            "showbackground": true,
            "ticks": "",
            "zerolinecolor": "white"
           },
           "yaxis": {
            "backgroundcolor": "#E5ECF6",
            "gridcolor": "white",
            "gridwidth": 2,
            "linecolor": "white",
            "showbackground": true,
            "ticks": "",
            "zerolinecolor": "white"
           },
           "zaxis": {
            "backgroundcolor": "#E5ECF6",
            "gridcolor": "white",
            "gridwidth": 2,
            "linecolor": "white",
            "showbackground": true,
            "ticks": "",
            "zerolinecolor": "white"
           }
          },
          "shapedefaults": {
           "fillcolor": "#506784",
           "line": {
            "width": 0
           },
           "opacity": 0.4
          },
          "ternary": {
           "aaxis": {
            "gridcolor": "white",
            "linecolor": "white",
            "ticks": ""
           },
           "baxis": {
            "gridcolor": "white",
            "linecolor": "white",
            "ticks": ""
           },
           "bgcolor": "#E5ECF6",
           "caxis": {
            "gridcolor": "white",
            "linecolor": "white",
            "ticks": ""
           }
          },
          "title": {
           "x": 0.05
          },
          "xaxis": {
           "automargin": true,
           "gridcolor": "white",
           "linecolor": "white",
           "ticks": "",
           "zerolinecolor": "white",
           "zerolinewidth": 2
          },
          "yaxis": {
           "automargin": true,
           "gridcolor": "white",
           "linecolor": "white",
           "ticks": "",
           "zerolinecolor": "white",
           "zerolinewidth": 2
          }
         }
        },
        "xaxis": {
         "title": {
          "text": "month"
         }
        },
        "xaxis2": {
         "matches": "x",
         "title": {
          "text": "month"
         }
        },
        "xaxis3": {
         "matches": "x",
         "title": {
          "text": "month"
         }
        },
        "xaxis4": {
         "matches": "x",
         "title": {
          "text": "month"
         }
        },
        "xaxis5": {
         "matches": "x",
         "title": {
          "text": "month"
         }
        },
        "xaxis6": {
         "matches": "x",
         "title": {
          "text": "month"
         }
        },
        "yaxis": {
         "title": {
          "text": "giraffe"
         }
        }
       }
      },
      "text/html": [
       "<div id=\"16ff9ed7-bc12-4504-bcbd-806b9ea23c64\" style=\"height: 600px; width: 100%;\" class=\"plotly-graph-div\"></div><script type=\"text/javascript\">require([\"plotly\"], function(Plotly) { window.PLOTLYENV=window.PLOTLYENV || {};window.PLOTLYENV.BASE_URL=\"https://plot.ly\";\n",
       "if (document.getElementById(\"16ff9ed7-bc12-4504-bcbd-806b9ea23c64\")) {\n",
       "    Plotly.newPlot(\"16ff9ed7-bc12-4504-bcbd-806b9ea23c64\", [{\"contours\": {\"coloring\": \"none\"}, \"legendgroup\": \"area=a\", \"line\": {\"color\": \"#636efa\"}, \"name\": \"area=a\", \"showlegend\": true, \"x\": [1, 2, 3, 4, 5, 6, 7, 8, 9, 10, 11, 12], \"xaxis\": \"x\", \"y\": [70, 73, 89, 66, 97, 168, 180, 177, 125, 81, 62, 54], \"yaxis\": \"y\", \"type\": \"histogram2dcontour\", \"uid\": \"ea926818-accf-491d-b9f0-a9bbb4b709e6\"}, {\"contours\": {\"coloring\": \"none\"}, \"legendgroup\": \"area=b\", \"line\": {\"color\": \"#EF553B\"}, \"name\": \"area=b\", \"showlegend\": true, \"x\": [1, 2, 3, 4, 5, 6, 7, 8, 9, 10, 11, 12], \"xaxis\": \"x2\", \"y\": [101, 74, 65, 88, 59, 96, 112, 143, 150, 106, 87, 71], \"yaxis\": \"y\", \"type\": \"histogram2dcontour\", \"uid\": \"2ac68daf-7475-4ec9-9eaf-c12ae1203de9\"}, {\"contours\": {\"coloring\": \"none\"}, \"legendgroup\": \"area=c\", \"line\": {\"color\": \"#00cc96\"}, \"name\": \"area=c\", \"showlegend\": true, \"x\": [1, 2, 3, 4, 5, 6, 7, 8, 9, 10, 11, 12], \"xaxis\": \"x3\", \"y\": [68, 52, 64, 46, 55, 70, 68, 62, 86, 103, 116, 89], \"yaxis\": \"y\", \"type\": \"histogram2dcontour\", \"uid\": \"2be14378-400f-4dc2-8776-80fe8bb44fa1\"}, {\"contours\": {\"coloring\": \"none\"}, \"legendgroup\": \"area=d\", \"line\": {\"color\": \"#ab63fa\"}, \"name\": \"area=d\", \"showlegend\": true, \"x\": [1, 2, 3, 4, 5, 6, 7, 8, 9, 10, 11, 12], \"xaxis\": \"x4\", \"y\": [103, 86, 70, 55, 61, 49, 70, 73, 62, 87, 99, 121], \"yaxis\": \"y\", \"type\": \"histogram2dcontour\", \"uid\": \"e81ae946-8705-43af-a90d-d89690b51dd5\"}, {\"contours\": {\"coloring\": \"none\"}, \"legendgroup\": \"area=e\", \"line\": {\"color\": \"#19d3f3\"}, \"name\": \"area=e\", \"showlegend\": true, \"x\": [1, 2, 3, 4, 5, 6, 7, 8, 9, 10, 11, 12], \"xaxis\": \"x5\", \"y\": [93, 144, 102, 65, 61, 73, 80, 81, 66, 79, 71, 90], \"yaxis\": \"y\", \"type\": \"histogram2dcontour\", \"uid\": \"4b353e0d-789a-4de7-bc16-99136164111c\"}, {\"contours\": {\"coloring\": \"none\"}, \"legendgroup\": \"area=f\", \"line\": {\"color\": \"#e763fa\"}, \"name\": \"area=f\", \"showlegend\": true, \"x\": [1, 2, 3, 4, 5, 6, 7, 8, 9, 10, 11, 12], \"xaxis\": \"x6\", \"y\": [61, 80, 89, 110, 122, 69, 73, 56, 61, 69, 48, 70], \"yaxis\": \"y\", \"type\": \"histogram2dcontour\", \"uid\": \"948eebdc-f766-4300-bd16-9b1cb27716c2\"}], {\"height\": 600, \"legend\": {\"tracegroupgap\": 0}, \"margin\": {\"t\": 60}, \"template\": {\"data\": {\"barpolar\": [{\"marker\": {\"line\": {\"color\": \"#E5ECF6\", \"width\": 0.5}}, \"type\": \"barpolar\"}], \"bar\": [{\"marker\": {\"line\": {\"color\": \"#E5ECF6\", \"width\": 0.5}}, \"type\": \"bar\"}], \"carpet\": [{\"aaxis\": {\"endlinecolor\": \"#2a3f5f\", \"gridcolor\": \"white\", \"linecolor\": \"white\", \"minorgridcolor\": \"white\", \"startlinecolor\": \"#2a3f5f\"}, \"baxis\": {\"endlinecolor\": \"#2a3f5f\", \"gridcolor\": \"white\", \"linecolor\": \"white\", \"minorgridcolor\": \"white\", \"startlinecolor\": \"#2a3f5f\"}, \"type\": \"carpet\"}], \"choropleth\": [{\"colorbar\": {\"outlinewidth\": 0, \"ticks\": \"\"}, \"type\": \"choropleth\"}], \"contourcarpet\": [{\"colorbar\": {\"outlinewidth\": 0, \"ticks\": \"\"}, \"type\": \"contourcarpet\"}], \"contour\": [{\"autocolorscale\": true, \"colorbar\": {\"outlinewidth\": 0, \"ticks\": \"\"}, \"type\": \"contour\"}], \"heatmapgl\": [{\"colorbar\": {\"outlinewidth\": 0, \"ticks\": \"\"}, \"type\": \"heatmapgl\"}], \"heatmap\": [{\"autocolorscale\": true, \"colorbar\": {\"outlinewidth\": 0, \"ticks\": \"\"}, \"type\": \"heatmap\"}], \"histogram2dcontour\": [{\"autocolorscale\": true, \"colorbar\": {\"outlinewidth\": 0, \"ticks\": \"\"}, \"type\": \"histogram2dcontour\"}], \"histogram2d\": [{\"autocolorscale\": true, \"colorbar\": {\"outlinewidth\": 0, \"ticks\": \"\"}, \"type\": \"histogram2d\"}], \"histogram\": [{\"marker\": {\"colorbar\": {\"outlinewidth\": 0, \"ticks\": \"\"}}, \"type\": \"histogram\"}], \"mesh3d\": [{\"colorbar\": {\"outlinewidth\": 0, \"ticks\": \"\"}, \"type\": \"mesh3d\"}], \"parcoords\": [{\"line\": {\"colorbar\": {\"outlinewidth\": 0, \"ticks\": \"\"}}, \"type\": \"parcoords\"}], \"scatter3d\": [{\"marker\": {\"colorbar\": {\"outlinewidth\": 0, \"ticks\": \"\"}}, \"type\": \"scatter3d\"}], \"scattercarpet\": [{\"marker\": {\"colorbar\": {\"outlinewidth\": 0, \"ticks\": \"\"}}, \"type\": \"scattercarpet\"}], \"scattergeo\": [{\"marker\": {\"colorbar\": {\"outlinewidth\": 0, \"ticks\": \"\"}}, \"type\": \"scattergeo\"}], \"scattergl\": [{\"marker\": {\"colorbar\": {\"outlinewidth\": 0, \"ticks\": \"\"}}, \"type\": \"scattergl\"}], \"scattermapbox\": [{\"marker\": {\"colorbar\": {\"outlinewidth\": 0, \"ticks\": \"\"}}, \"type\": \"scattermapbox\"}], \"scatterpolargl\": [{\"marker\": {\"colorbar\": {\"outlinewidth\": 0, \"ticks\": \"\"}}, \"type\": \"scatterpolargl\"}], \"scatterpolar\": [{\"marker\": {\"colorbar\": {\"outlinewidth\": 0, \"ticks\": \"\"}}, \"type\": \"scatterpolar\"}], \"scatter\": [{\"marker\": {\"colorbar\": {\"outlinewidth\": 0, \"ticks\": \"\"}}, \"type\": \"scatter\"}], \"scatterternary\": [{\"marker\": {\"colorbar\": {\"outlinewidth\": 0, \"ticks\": \"\"}}, \"type\": \"scatterternary\"}], \"surface\": [{\"colorbar\": {\"outlinewidth\": 0, \"ticks\": \"\"}, \"type\": \"surface\"}], \"table\": [{\"cells\": {\"fill\": {\"color\": \"#EBF0F8\"}, \"line\": {\"color\": \"white\"}}, \"header\": {\"fill\": {\"color\": \"#C8D4E3\"}, \"line\": {\"color\": \"white\"}}, \"type\": \"table\"}]}, \"layout\": {\"annotationdefaults\": {\"arrowcolor\": \"#506784\", \"arrowhead\": 0, \"arrowwidth\": 1}, \"colorscale\": {\"diverging\": [[0, \"#8e0152\"], [0.1, \"#c51b7d\"], [0.2, \"#de77ae\"], [0.3, \"#f1b6da\"], [0.4, \"#fde0ef\"], [0.5, \"#f7f7f7\"], [0.6, \"#e6f5d0\"], [0.7, \"#b8e186\"], [0.8, \"#7fbc41\"], [0.9, \"#4d9221\"], [1, \"#276419\"]], \"sequential\": [[0.0, \"#0508b8\"], [0.0893854748603352, \"#1910d8\"], [0.1787709497206704, \"#3c19f0\"], [0.2681564245810056, \"#6b1cfb\"], [0.3575418994413408, \"#981cfd\"], [0.44692737430167595, \"#bf1cfd\"], [0.5363128491620112, \"#dd2bfd\"], [0.6256983240223464, \"#f246fe\"], [0.7150837988826816, \"#fc67fd\"], [0.8044692737430168, \"#fe88fc\"], [0.8938547486033519, \"#fea5fd\"], [0.9832402234636871, \"#febefe\"], [1.0, \"#fec3fe\"]], \"sequentialminus\": [[0.0, \"#0508b8\"], [0.0893854748603352, \"#1910d8\"], [0.1787709497206704, \"#3c19f0\"], [0.2681564245810056, \"#6b1cfb\"], [0.3575418994413408, \"#981cfd\"], [0.44692737430167595, \"#bf1cfd\"], [0.5363128491620112, \"#dd2bfd\"], [0.6256983240223464, \"#f246fe\"], [0.7150837988826816, \"#fc67fd\"], [0.8044692737430168, \"#fe88fc\"], [0.8938547486033519, \"#fea5fd\"], [0.9832402234636871, \"#febefe\"], [1.0, \"#fec3fe\"]]}, \"colorway\": [\"#636efa\", \"#EF553B\", \"#00cc96\", \"#ab63fa\", \"#19d3f3\", \"#e763fa\", \"#FECB52\", \"#FFA15A\", \"#FF6692\", \"#B6E880\"], \"font\": {\"color\": \"#2a3f5f\"}, \"geo\": {\"bgcolor\": \"white\", \"lakecolor\": \"white\", \"landcolor\": \"#E5ECF6\", \"showlakes\": true, \"showland\": true, \"subunitcolor\": \"white\"}, \"hovermode\": \"closest\", \"mapbox\": {\"style\": \"light\"}, \"paper_bgcolor\": \"white\", \"plot_bgcolor\": \"#E5ECF6\", \"polar\": {\"angularaxis\": {\"gridcolor\": \"white\", \"linecolor\": \"white\", \"ticks\": \"\"}, \"bgcolor\": \"#E5ECF6\", \"radialaxis\": {\"gridcolor\": \"white\", \"linecolor\": \"white\", \"ticks\": \"\"}}, \"scene\": {\"xaxis\": {\"backgroundcolor\": \"#E5ECF6\", \"gridcolor\": \"white\", \"gridwidth\": 2, \"linecolor\": \"white\", \"showbackground\": true, \"ticks\": \"\", \"zerolinecolor\": \"white\"}, \"yaxis\": {\"backgroundcolor\": \"#E5ECF6\", \"gridcolor\": \"white\", \"gridwidth\": 2, \"linecolor\": \"white\", \"showbackground\": true, \"ticks\": \"\", \"zerolinecolor\": \"white\"}, \"zaxis\": {\"backgroundcolor\": \"#E5ECF6\", \"gridcolor\": \"white\", \"gridwidth\": 2, \"linecolor\": \"white\", \"showbackground\": true, \"ticks\": \"\", \"zerolinecolor\": \"white\"}}, \"shapedefaults\": {\"fillcolor\": \"#506784\", \"line\": {\"width\": 0}, \"opacity\": 0.4}, \"ternary\": {\"aaxis\": {\"gridcolor\": \"white\", \"linecolor\": \"white\", \"ticks\": \"\"}, \"baxis\": {\"gridcolor\": \"white\", \"linecolor\": \"white\", \"ticks\": \"\"}, \"bgcolor\": \"#E5ECF6\", \"caxis\": {\"gridcolor\": \"white\", \"linecolor\": \"white\", \"ticks\": \"\"}}, \"title\": {\"x\": 0.05}, \"xaxis\": {\"automargin\": true, \"gridcolor\": \"white\", \"linecolor\": \"white\", \"ticks\": \"\", \"zerolinecolor\": \"white\", \"zerolinewidth\": 2}, \"yaxis\": {\"automargin\": true, \"gridcolor\": \"white\", \"linecolor\": \"white\", \"ticks\": \"\", \"zerolinecolor\": \"white\", \"zerolinewidth\": 2}}}, \"grid\": {\"xaxes\": [\"x\", \"x2\", \"x3\", \"x4\", \"x5\", \"x6\"], \"yaxes\": [\"y\"], \"xgap\": 0.1, \"ygap\": 0.1, \"xside\": \"bottom\", \"yside\": \"left\"}, \"xaxis2\": {\"title\": {\"text\": \"month\"}, \"matches\": \"x\"}, \"xaxis3\": {\"title\": {\"text\": \"month\"}, \"matches\": \"x\"}, \"xaxis4\": {\"title\": {\"text\": \"month\"}, \"matches\": \"x\"}, \"xaxis5\": {\"title\": {\"text\": \"month\"}, \"matches\": \"x\"}, \"xaxis6\": {\"title\": {\"text\": \"month\"}, \"matches\": \"x\"}, \"annotations\": [{\"showarrow\": false, \"text\": \"area=a\", \"textangle\": 0, \"x\": 0.07627118644067797, \"xanchor\": \"center\", \"xref\": \"paper\", \"y\": 1.02, \"yanchor\": \"middle\", \"yref\": \"paper\"}, {\"showarrow\": false, \"text\": \"area=b\", \"textangle\": 0, \"x\": 0.24576271186440676, \"xanchor\": \"center\", \"xref\": \"paper\", \"y\": 1.02, \"yanchor\": \"middle\", \"yref\": \"paper\"}, {\"showarrow\": false, \"text\": \"area=c\", \"textangle\": 0, \"x\": 0.4152542372881356, \"xanchor\": \"center\", \"xref\": \"paper\", \"y\": 1.02, \"yanchor\": \"middle\", \"yref\": \"paper\"}, {\"showarrow\": false, \"text\": \"area=d\", \"textangle\": 0, \"x\": 0.5847457627118644, \"xanchor\": \"center\", \"xref\": \"paper\", \"y\": 1.02, \"yanchor\": \"middle\", \"yref\": \"paper\"}, {\"showarrow\": false, \"text\": \"area=e\", \"textangle\": 0, \"x\": 0.7542372881355932, \"xanchor\": \"center\", \"xref\": \"paper\", \"y\": 1.02, \"yanchor\": \"middle\", \"yref\": \"paper\"}, {\"showarrow\": false, \"text\": \"area=f\", \"textangle\": 0, \"x\": 0.923728813559322, \"xanchor\": \"center\", \"xref\": \"paper\", \"y\": 1.02, \"yanchor\": \"middle\", \"yref\": \"paper\"}], \"xaxis\": {\"title\": {\"text\": \"month\"}}, \"yaxis\": {\"title\": {\"text\": \"giraffe\"}}}, {\"showLink\": false, \"linkText\": \"Export to plot.ly\", \"plotlyServerURL\": \"https://plot.ly\"}); \n",
       "}\n",
       "});</script><script type=\"text/javascript\">window.addEventListener(\"resize\", function(){if (document.getElementById(\"16ff9ed7-bc12-4504-bcbd-806b9ea23c64\")) {window._Plotly.Plots.resize(document.getElementById(\"16ff9ed7-bc12-4504-bcbd-806b9ea23c64\"));};})</script>"
      ],
      "text/vnd.plotly.v1+html": [
       "<div id=\"16ff9ed7-bc12-4504-bcbd-806b9ea23c64\" style=\"height: 600px; width: 100%;\" class=\"plotly-graph-div\"></div><script type=\"text/javascript\">require([\"plotly\"], function(Plotly) { window.PLOTLYENV=window.PLOTLYENV || {};window.PLOTLYENV.BASE_URL=\"https://plot.ly\";\n",
       "if (document.getElementById(\"16ff9ed7-bc12-4504-bcbd-806b9ea23c64\")) {\n",
       "    Plotly.newPlot(\"16ff9ed7-bc12-4504-bcbd-806b9ea23c64\", [{\"contours\": {\"coloring\": \"none\"}, \"legendgroup\": \"area=a\", \"line\": {\"color\": \"#636efa\"}, \"name\": \"area=a\", \"showlegend\": true, \"x\": [1, 2, 3, 4, 5, 6, 7, 8, 9, 10, 11, 12], \"xaxis\": \"x\", \"y\": [70, 73, 89, 66, 97, 168, 180, 177, 125, 81, 62, 54], \"yaxis\": \"y\", \"type\": \"histogram2dcontour\", \"uid\": \"ea926818-accf-491d-b9f0-a9bbb4b709e6\"}, {\"contours\": {\"coloring\": \"none\"}, \"legendgroup\": \"area=b\", \"line\": {\"color\": \"#EF553B\"}, \"name\": \"area=b\", \"showlegend\": true, \"x\": [1, 2, 3, 4, 5, 6, 7, 8, 9, 10, 11, 12], \"xaxis\": \"x2\", \"y\": [101, 74, 65, 88, 59, 96, 112, 143, 150, 106, 87, 71], \"yaxis\": \"y\", \"type\": \"histogram2dcontour\", \"uid\": \"2ac68daf-7475-4ec9-9eaf-c12ae1203de9\"}, {\"contours\": {\"coloring\": \"none\"}, \"legendgroup\": \"area=c\", \"line\": {\"color\": \"#00cc96\"}, \"name\": \"area=c\", \"showlegend\": true, \"x\": [1, 2, 3, 4, 5, 6, 7, 8, 9, 10, 11, 12], \"xaxis\": \"x3\", \"y\": [68, 52, 64, 46, 55, 70, 68, 62, 86, 103, 116, 89], \"yaxis\": \"y\", \"type\": \"histogram2dcontour\", \"uid\": \"2be14378-400f-4dc2-8776-80fe8bb44fa1\"}, {\"contours\": {\"coloring\": \"none\"}, \"legendgroup\": \"area=d\", \"line\": {\"color\": \"#ab63fa\"}, \"name\": \"area=d\", \"showlegend\": true, \"x\": [1, 2, 3, 4, 5, 6, 7, 8, 9, 10, 11, 12], \"xaxis\": \"x4\", \"y\": [103, 86, 70, 55, 61, 49, 70, 73, 62, 87, 99, 121], \"yaxis\": \"y\", \"type\": \"histogram2dcontour\", \"uid\": \"e81ae946-8705-43af-a90d-d89690b51dd5\"}, {\"contours\": {\"coloring\": \"none\"}, \"legendgroup\": \"area=e\", \"line\": {\"color\": \"#19d3f3\"}, \"name\": \"area=e\", \"showlegend\": true, \"x\": [1, 2, 3, 4, 5, 6, 7, 8, 9, 10, 11, 12], \"xaxis\": \"x5\", \"y\": [93, 144, 102, 65, 61, 73, 80, 81, 66, 79, 71, 90], \"yaxis\": \"y\", \"type\": \"histogram2dcontour\", \"uid\": \"4b353e0d-789a-4de7-bc16-99136164111c\"}, {\"contours\": {\"coloring\": \"none\"}, \"legendgroup\": \"area=f\", \"line\": {\"color\": \"#e763fa\"}, \"name\": \"area=f\", \"showlegend\": true, \"x\": [1, 2, 3, 4, 5, 6, 7, 8, 9, 10, 11, 12], \"xaxis\": \"x6\", \"y\": [61, 80, 89, 110, 122, 69, 73, 56, 61, 69, 48, 70], \"yaxis\": \"y\", \"type\": \"histogram2dcontour\", \"uid\": \"948eebdc-f766-4300-bd16-9b1cb27716c2\"}], {\"height\": 600, \"legend\": {\"tracegroupgap\": 0}, \"margin\": {\"t\": 60}, \"template\": {\"data\": {\"barpolar\": [{\"marker\": {\"line\": {\"color\": \"#E5ECF6\", \"width\": 0.5}}, \"type\": \"barpolar\"}], \"bar\": [{\"marker\": {\"line\": {\"color\": \"#E5ECF6\", \"width\": 0.5}}, \"type\": \"bar\"}], \"carpet\": [{\"aaxis\": {\"endlinecolor\": \"#2a3f5f\", \"gridcolor\": \"white\", \"linecolor\": \"white\", \"minorgridcolor\": \"white\", \"startlinecolor\": \"#2a3f5f\"}, \"baxis\": {\"endlinecolor\": \"#2a3f5f\", \"gridcolor\": \"white\", \"linecolor\": \"white\", \"minorgridcolor\": \"white\", \"startlinecolor\": \"#2a3f5f\"}, \"type\": \"carpet\"}], \"choropleth\": [{\"colorbar\": {\"outlinewidth\": 0, \"ticks\": \"\"}, \"type\": \"choropleth\"}], \"contourcarpet\": [{\"colorbar\": {\"outlinewidth\": 0, \"ticks\": \"\"}, \"type\": \"contourcarpet\"}], \"contour\": [{\"autocolorscale\": true, \"colorbar\": {\"outlinewidth\": 0, \"ticks\": \"\"}, \"type\": \"contour\"}], \"heatmapgl\": [{\"colorbar\": {\"outlinewidth\": 0, \"ticks\": \"\"}, \"type\": \"heatmapgl\"}], \"heatmap\": [{\"autocolorscale\": true, \"colorbar\": {\"outlinewidth\": 0, \"ticks\": \"\"}, \"type\": \"heatmap\"}], \"histogram2dcontour\": [{\"autocolorscale\": true, \"colorbar\": {\"outlinewidth\": 0, \"ticks\": \"\"}, \"type\": \"histogram2dcontour\"}], \"histogram2d\": [{\"autocolorscale\": true, \"colorbar\": {\"outlinewidth\": 0, \"ticks\": \"\"}, \"type\": \"histogram2d\"}], \"histogram\": [{\"marker\": {\"colorbar\": {\"outlinewidth\": 0, \"ticks\": \"\"}}, \"type\": \"histogram\"}], \"mesh3d\": [{\"colorbar\": {\"outlinewidth\": 0, \"ticks\": \"\"}, \"type\": \"mesh3d\"}], \"parcoords\": [{\"line\": {\"colorbar\": {\"outlinewidth\": 0, \"ticks\": \"\"}}, \"type\": \"parcoords\"}], \"scatter3d\": [{\"marker\": {\"colorbar\": {\"outlinewidth\": 0, \"ticks\": \"\"}}, \"type\": \"scatter3d\"}], \"scattercarpet\": [{\"marker\": {\"colorbar\": {\"outlinewidth\": 0, \"ticks\": \"\"}}, \"type\": \"scattercarpet\"}], \"scattergeo\": [{\"marker\": {\"colorbar\": {\"outlinewidth\": 0, \"ticks\": \"\"}}, \"type\": \"scattergeo\"}], \"scattergl\": [{\"marker\": {\"colorbar\": {\"outlinewidth\": 0, \"ticks\": \"\"}}, \"type\": \"scattergl\"}], \"scattermapbox\": [{\"marker\": {\"colorbar\": {\"outlinewidth\": 0, \"ticks\": \"\"}}, \"type\": \"scattermapbox\"}], \"scatterpolargl\": [{\"marker\": {\"colorbar\": {\"outlinewidth\": 0, \"ticks\": \"\"}}, \"type\": \"scatterpolargl\"}], \"scatterpolar\": [{\"marker\": {\"colorbar\": {\"outlinewidth\": 0, \"ticks\": \"\"}}, \"type\": \"scatterpolar\"}], \"scatter\": [{\"marker\": {\"colorbar\": {\"outlinewidth\": 0, \"ticks\": \"\"}}, \"type\": \"scatter\"}], \"scatterternary\": [{\"marker\": {\"colorbar\": {\"outlinewidth\": 0, \"ticks\": \"\"}}, \"type\": \"scatterternary\"}], \"surface\": [{\"colorbar\": {\"outlinewidth\": 0, \"ticks\": \"\"}, \"type\": \"surface\"}], \"table\": [{\"cells\": {\"fill\": {\"color\": \"#EBF0F8\"}, \"line\": {\"color\": \"white\"}}, \"header\": {\"fill\": {\"color\": \"#C8D4E3\"}, \"line\": {\"color\": \"white\"}}, \"type\": \"table\"}]}, \"layout\": {\"annotationdefaults\": {\"arrowcolor\": \"#506784\", \"arrowhead\": 0, \"arrowwidth\": 1}, \"colorscale\": {\"diverging\": [[0, \"#8e0152\"], [0.1, \"#c51b7d\"], [0.2, \"#de77ae\"], [0.3, \"#f1b6da\"], [0.4, \"#fde0ef\"], [0.5, \"#f7f7f7\"], [0.6, \"#e6f5d0\"], [0.7, \"#b8e186\"], [0.8, \"#7fbc41\"], [0.9, \"#4d9221\"], [1, \"#276419\"]], \"sequential\": [[0.0, \"#0508b8\"], [0.0893854748603352, \"#1910d8\"], [0.1787709497206704, \"#3c19f0\"], [0.2681564245810056, \"#6b1cfb\"], [0.3575418994413408, \"#981cfd\"], [0.44692737430167595, \"#bf1cfd\"], [0.5363128491620112, \"#dd2bfd\"], [0.6256983240223464, \"#f246fe\"], [0.7150837988826816, \"#fc67fd\"], [0.8044692737430168, \"#fe88fc\"], [0.8938547486033519, \"#fea5fd\"], [0.9832402234636871, \"#febefe\"], [1.0, \"#fec3fe\"]], \"sequentialminus\": [[0.0, \"#0508b8\"], [0.0893854748603352, \"#1910d8\"], [0.1787709497206704, \"#3c19f0\"], [0.2681564245810056, \"#6b1cfb\"], [0.3575418994413408, \"#981cfd\"], [0.44692737430167595, \"#bf1cfd\"], [0.5363128491620112, \"#dd2bfd\"], [0.6256983240223464, \"#f246fe\"], [0.7150837988826816, \"#fc67fd\"], [0.8044692737430168, \"#fe88fc\"], [0.8938547486033519, \"#fea5fd\"], [0.9832402234636871, \"#febefe\"], [1.0, \"#fec3fe\"]]}, \"colorway\": [\"#636efa\", \"#EF553B\", \"#00cc96\", \"#ab63fa\", \"#19d3f3\", \"#e763fa\", \"#FECB52\", \"#FFA15A\", \"#FF6692\", \"#B6E880\"], \"font\": {\"color\": \"#2a3f5f\"}, \"geo\": {\"bgcolor\": \"white\", \"lakecolor\": \"white\", \"landcolor\": \"#E5ECF6\", \"showlakes\": true, \"showland\": true, \"subunitcolor\": \"white\"}, \"hovermode\": \"closest\", \"mapbox\": {\"style\": \"light\"}, \"paper_bgcolor\": \"white\", \"plot_bgcolor\": \"#E5ECF6\", \"polar\": {\"angularaxis\": {\"gridcolor\": \"white\", \"linecolor\": \"white\", \"ticks\": \"\"}, \"bgcolor\": \"#E5ECF6\", \"radialaxis\": {\"gridcolor\": \"white\", \"linecolor\": \"white\", \"ticks\": \"\"}}, \"scene\": {\"xaxis\": {\"backgroundcolor\": \"#E5ECF6\", \"gridcolor\": \"white\", \"gridwidth\": 2, \"linecolor\": \"white\", \"showbackground\": true, \"ticks\": \"\", \"zerolinecolor\": \"white\"}, \"yaxis\": {\"backgroundcolor\": \"#E5ECF6\", \"gridcolor\": \"white\", \"gridwidth\": 2, \"linecolor\": \"white\", \"showbackground\": true, \"ticks\": \"\", \"zerolinecolor\": \"white\"}, \"zaxis\": {\"backgroundcolor\": \"#E5ECF6\", \"gridcolor\": \"white\", \"gridwidth\": 2, \"linecolor\": \"white\", \"showbackground\": true, \"ticks\": \"\", \"zerolinecolor\": \"white\"}}, \"shapedefaults\": {\"fillcolor\": \"#506784\", \"line\": {\"width\": 0}, \"opacity\": 0.4}, \"ternary\": {\"aaxis\": {\"gridcolor\": \"white\", \"linecolor\": \"white\", \"ticks\": \"\"}, \"baxis\": {\"gridcolor\": \"white\", \"linecolor\": \"white\", \"ticks\": \"\"}, \"bgcolor\": \"#E5ECF6\", \"caxis\": {\"gridcolor\": \"white\", \"linecolor\": \"white\", \"ticks\": \"\"}}, \"title\": {\"x\": 0.05}, \"xaxis\": {\"automargin\": true, \"gridcolor\": \"white\", \"linecolor\": \"white\", \"ticks\": \"\", \"zerolinecolor\": \"white\", \"zerolinewidth\": 2}, \"yaxis\": {\"automargin\": true, \"gridcolor\": \"white\", \"linecolor\": \"white\", \"ticks\": \"\", \"zerolinecolor\": \"white\", \"zerolinewidth\": 2}}}, \"grid\": {\"xaxes\": [\"x\", \"x2\", \"x3\", \"x4\", \"x5\", \"x6\"], \"yaxes\": [\"y\"], \"xgap\": 0.1, \"ygap\": 0.1, \"xside\": \"bottom\", \"yside\": \"left\"}, \"xaxis2\": {\"title\": {\"text\": \"month\"}, \"matches\": \"x\"}, \"xaxis3\": {\"title\": {\"text\": \"month\"}, \"matches\": \"x\"}, \"xaxis4\": {\"title\": {\"text\": \"month\"}, \"matches\": \"x\"}, \"xaxis5\": {\"title\": {\"text\": \"month\"}, \"matches\": \"x\"}, \"xaxis6\": {\"title\": {\"text\": \"month\"}, \"matches\": \"x\"}, \"annotations\": [{\"showarrow\": false, \"text\": \"area=a\", \"textangle\": 0, \"x\": 0.07627118644067797, \"xanchor\": \"center\", \"xref\": \"paper\", \"y\": 1.02, \"yanchor\": \"middle\", \"yref\": \"paper\"}, {\"showarrow\": false, \"text\": \"area=b\", \"textangle\": 0, \"x\": 0.24576271186440676, \"xanchor\": \"center\", \"xref\": \"paper\", \"y\": 1.02, \"yanchor\": \"middle\", \"yref\": \"paper\"}, {\"showarrow\": false, \"text\": \"area=c\", \"textangle\": 0, \"x\": 0.4152542372881356, \"xanchor\": \"center\", \"xref\": \"paper\", \"y\": 1.02, \"yanchor\": \"middle\", \"yref\": \"paper\"}, {\"showarrow\": false, \"text\": \"area=d\", \"textangle\": 0, \"x\": 0.5847457627118644, \"xanchor\": \"center\", \"xref\": \"paper\", \"y\": 1.02, \"yanchor\": \"middle\", \"yref\": \"paper\"}, {\"showarrow\": false, \"text\": \"area=e\", \"textangle\": 0, \"x\": 0.7542372881355932, \"xanchor\": \"center\", \"xref\": \"paper\", \"y\": 1.02, \"yanchor\": \"middle\", \"yref\": \"paper\"}, {\"showarrow\": false, \"text\": \"area=f\", \"textangle\": 0, \"x\": 0.923728813559322, \"xanchor\": \"center\", \"xref\": \"paper\", \"y\": 1.02, \"yanchor\": \"middle\", \"yref\": \"paper\"}], \"xaxis\": {\"title\": {\"text\": \"month\"}}, \"yaxis\": {\"title\": {\"text\": \"giraffe\"}}}, {\"showLink\": false, \"linkText\": \"Export to plot.ly\", \"plotlyServerURL\": \"https://plot.ly\"}); \n",
       "}\n",
       "});</script><script type=\"text/javascript\">window.addEventListener(\"resize\", function(){if (document.getElementById(\"16ff9ed7-bc12-4504-bcbd-806b9ea23c64\")) {window._Plotly.Plots.resize(document.getElementById(\"16ff9ed7-bc12-4504-bcbd-806b9ea23c64\"));};})</script>"
      ]
     },
     "metadata": {},
     "output_type": "display_data"
    }
   ],
   "source": [
    "px.density_contour(dataset, x=\"month\", y=\"giraffe\", color=\"area\", facet_col=\"area\")"
   ]
  },
  {
   "cell_type": "code",
   "execution_count": 11,
   "metadata": {},
   "outputs": [
    {
     "data": {
      "application/vnd.plotly.v1+json": {
       "config": {
        "linkText": "Export to plot.ly",
        "plotlyServerURL": "https://plot.ly",
        "showLink": false
       },
       "data": [
        {
         "contours": {
          "coloring": "none"
         },
         "legendgroup": "area=a",
         "line": {
          "color": "#636efa"
         },
         "name": "area=a",
         "showlegend": true,
         "type": "histogram2dcontour",
         "uid": "b49b8440-c043-46b2-aae9-1970748f2f95",
         "x": [
          1,
          2,
          3,
          4,
          5,
          6,
          7,
          8,
          9,
          10,
          11,
          12
         ],
         "xaxis": "x",
         "y": [
          8425333,
          9240934,
          10267083,
          11537966,
          13079460,
          14880372,
          12881816,
          13867957,
          16317921,
          22227415,
          25268405,
          31889923
         ],
         "yaxis": "y"
        },
        {
         "contours": {
          "coloring": "none"
         },
         "legendgroup": "area=b",
         "line": {
          "color": "#EF553B"
         },
         "name": "area=b",
         "showlegend": true,
         "type": "histogram2dcontour",
         "uid": "ab7b9048-8c1c-4d1f-8aea-1083a428fddf",
         "x": [
          1,
          2,
          3,
          4,
          5,
          6,
          7,
          8,
          9,
          10,
          11,
          12
         ],
         "xaxis": "x2",
         "y": [
          1282697,
          1476505,
          1728137,
          1984060,
          2263554,
          2509048,
          2780097,
          3075321,
          3326498,
          3428038,
          3508512,
          3600523
         ],
         "yaxis": "y"
        },
        {
         "contours": {
          "coloring": "none"
         },
         "legendgroup": "area=c",
         "line": {
          "color": "#00cc96"
         },
         "name": "area=c",
         "showlegend": true,
         "type": "histogram2dcontour",
         "uid": "de55c3ad-4f67-485a-a1b3-826b68c36651",
         "x": [
          1,
          2,
          3,
          4,
          5,
          6,
          7,
          8,
          9,
          10,
          11,
          12
         ],
         "xaxis": "x3",
         "y": [
          9279525,
          10270856,
          11000948,
          12760499,
          14760787,
          17152804,
          20033753,
          23254956,
          26298373,
          29072015,
          31287142,
          33333216
         ],
         "yaxis": "y"
        },
        {
         "contours": {
          "coloring": "none"
         },
         "legendgroup": "area=d",
         "line": {
          "color": "#ab63fa"
         },
         "name": "area=d",
         "showlegend": true,
         "type": "histogram2dcontour",
         "uid": "4f0fd4df-7177-424e-b2e4-48f4f0d205b2",
         "x": [
          1,
          2,
          3,
          4,
          5,
          6,
          7,
          8,
          9,
          10,
          11,
          12
         ],
         "xaxis": "x4",
         "y": [
          4232095,
          4561361,
          4826015,
          5247469,
          5894858,
          6162675,
          7016384,
          7874230,
          8735988,
          9875024,
          10866106,
          12420476
         ],
         "yaxis": "y"
        },
        {
         "contours": {
          "coloring": "none"
         },
         "legendgroup": "area=e",
         "line": {
          "color": "#19d3f3"
         },
         "name": "area=e",
         "showlegend": true,
         "type": "histogram2dcontour",
         "uid": "e600f50d-7828-46bd-8847-0a1ef917285d",
         "x": [
          1,
          2,
          3,
          4,
          5,
          6,
          7,
          8,
          9,
          10,
          11,
          12
         ],
         "xaxis": "x5",
         "y": [
          17876956,
          19610538,
          21283783,
          22934225,
          24779799,
          26983828,
          29341374,
          31620918,
          33958947,
          36203463,
          38331121,
          40301927
         ],
         "yaxis": "y"
        },
        {
         "contours": {
          "coloring": "none"
         },
         "legendgroup": "area=f",
         "line": {
          "color": "#e763fa"
         },
         "name": "area=f",
         "showlegend": true,
         "type": "histogram2dcontour",
         "uid": "706045dc-5d20-4915-bbf3-429b47a5979e",
         "x": [
          1,
          2,
          3,
          4,
          5,
          6,
          7,
          8,
          9,
          10,
          11,
          12
         ],
         "xaxis": "x6",
         "y": [
          8691212,
          9712569,
          10794968,
          11872264,
          13177000,
          14074100,
          15184200,
          16257249,
          17481977,
          18565243,
          19546792,
          20434176
         ],
         "yaxis": "y"
        }
       ],
       "layout": {
        "annotations": [
         {
          "showarrow": false,
          "text": "area=a",
          "textangle": 0,
          "x": 0.07627118644067797,
          "xanchor": "center",
          "xref": "paper",
          "y": 1.02,
          "yanchor": "middle",
          "yref": "paper"
         },
         {
          "showarrow": false,
          "text": "area=b",
          "textangle": 0,
          "x": 0.24576271186440676,
          "xanchor": "center",
          "xref": "paper",
          "y": 1.02,
          "yanchor": "middle",
          "yref": "paper"
         },
         {
          "showarrow": false,
          "text": "area=c",
          "textangle": 0,
          "x": 0.4152542372881356,
          "xanchor": "center",
          "xref": "paper",
          "y": 1.02,
          "yanchor": "middle",
          "yref": "paper"
         },
         {
          "showarrow": false,
          "text": "area=d",
          "textangle": 0,
          "x": 0.5847457627118644,
          "xanchor": "center",
          "xref": "paper",
          "y": 1.02,
          "yanchor": "middle",
          "yref": "paper"
         },
         {
          "showarrow": false,
          "text": "area=e",
          "textangle": 0,
          "x": 0.7542372881355932,
          "xanchor": "center",
          "xref": "paper",
          "y": 1.02,
          "yanchor": "middle",
          "yref": "paper"
         },
         {
          "showarrow": false,
          "text": "area=f",
          "textangle": 0,
          "x": 0.923728813559322,
          "xanchor": "center",
          "xref": "paper",
          "y": 1.02,
          "yanchor": "middle",
          "yref": "paper"
         }
        ],
        "grid": {
         "xaxes": [
          "x",
          "x2",
          "x3",
          "x4",
          "x5",
          "x6"
         ],
         "xgap": 0.1,
         "xside": "bottom",
         "yaxes": [
          "y"
         ],
         "ygap": 0.1,
         "yside": "left"
        },
        "height": 600,
        "legend": {
         "tracegroupgap": 0
        },
        "margin": {
         "t": 60
        },
        "template": {
         "data": {
          "bar": [
           {
            "marker": {
             "line": {
              "color": "#E5ECF6",
              "width": 0.5
             }
            },
            "type": "bar"
           }
          ],
          "barpolar": [
           {
            "marker": {
             "line": {
              "color": "#E5ECF6",
              "width": 0.5
             }
            },
            "type": "barpolar"
           }
          ],
          "carpet": [
           {
            "aaxis": {
             "endlinecolor": "#2a3f5f",
             "gridcolor": "white",
             "linecolor": "white",
             "minorgridcolor": "white",
             "startlinecolor": "#2a3f5f"
            },
            "baxis": {
             "endlinecolor": "#2a3f5f",
             "gridcolor": "white",
             "linecolor": "white",
             "minorgridcolor": "white",
             "startlinecolor": "#2a3f5f"
            },
            "type": "carpet"
           }
          ],
          "choropleth": [
           {
            "colorbar": {
             "outlinewidth": 0,
             "ticks": ""
            },
            "type": "choropleth"
           }
          ],
          "contour": [
           {
            "autocolorscale": true,
            "colorbar": {
             "outlinewidth": 0,
             "ticks": ""
            },
            "type": "contour"
           }
          ],
          "contourcarpet": [
           {
            "colorbar": {
             "outlinewidth": 0,
             "ticks": ""
            },
            "type": "contourcarpet"
           }
          ],
          "heatmap": [
           {
            "autocolorscale": true,
            "colorbar": {
             "outlinewidth": 0,
             "ticks": ""
            },
            "type": "heatmap"
           }
          ],
          "heatmapgl": [
           {
            "colorbar": {
             "outlinewidth": 0,
             "ticks": ""
            },
            "type": "heatmapgl"
           }
          ],
          "histogram": [
           {
            "marker": {
             "colorbar": {
              "outlinewidth": 0,
              "ticks": ""
             }
            },
            "type": "histogram"
           }
          ],
          "histogram2d": [
           {
            "autocolorscale": true,
            "colorbar": {
             "outlinewidth": 0,
             "ticks": ""
            },
            "type": "histogram2d"
           }
          ],
          "histogram2dcontour": [
           {
            "autocolorscale": true,
            "colorbar": {
             "outlinewidth": 0,
             "ticks": ""
            },
            "type": "histogram2dcontour"
           }
          ],
          "mesh3d": [
           {
            "colorbar": {
             "outlinewidth": 0,
             "ticks": ""
            },
            "type": "mesh3d"
           }
          ],
          "parcoords": [
           {
            "line": {
             "colorbar": {
              "outlinewidth": 0,
              "ticks": ""
             }
            },
            "type": "parcoords"
           }
          ],
          "scatter": [
           {
            "marker": {
             "colorbar": {
              "outlinewidth": 0,
              "ticks": ""
             }
            },
            "type": "scatter"
           }
          ],
          "scatter3d": [
           {
            "marker": {
             "colorbar": {
              "outlinewidth": 0,
              "ticks": ""
             }
            },
            "type": "scatter3d"
           }
          ],
          "scattercarpet": [
           {
            "marker": {
             "colorbar": {
              "outlinewidth": 0,
              "ticks": ""
             }
            },
            "type": "scattercarpet"
           }
          ],
          "scattergeo": [
           {
            "marker": {
             "colorbar": {
              "outlinewidth": 0,
              "ticks": ""
             }
            },
            "type": "scattergeo"
           }
          ],
          "scattergl": [
           {
            "marker": {
             "colorbar": {
              "outlinewidth": 0,
              "ticks": ""
             }
            },
            "type": "scattergl"
           }
          ],
          "scattermapbox": [
           {
            "marker": {
             "colorbar": {
              "outlinewidth": 0,
              "ticks": ""
             }
            },
            "type": "scattermapbox"
           }
          ],
          "scatterpolar": [
           {
            "marker": {
             "colorbar": {
              "outlinewidth": 0,
              "ticks": ""
             }
            },
            "type": "scatterpolar"
           }
          ],
          "scatterpolargl": [
           {
            "marker": {
             "colorbar": {
              "outlinewidth": 0,
              "ticks": ""
             }
            },
            "type": "scatterpolargl"
           }
          ],
          "scatterternary": [
           {
            "marker": {
             "colorbar": {
              "outlinewidth": 0,
              "ticks": ""
             }
            },
            "type": "scatterternary"
           }
          ],
          "surface": [
           {
            "colorbar": {
             "outlinewidth": 0,
             "ticks": ""
            },
            "type": "surface"
           }
          ],
          "table": [
           {
            "cells": {
             "fill": {
              "color": "#EBF0F8"
             },
             "line": {
              "color": "white"
             }
            },
            "header": {
             "fill": {
              "color": "#C8D4E3"
             },
             "line": {
              "color": "white"
             }
            },
            "type": "table"
           }
          ]
         },
         "layout": {
          "annotationdefaults": {
           "arrowcolor": "#506784",
           "arrowhead": 0,
           "arrowwidth": 1
          },
          "colorscale": {
           "diverging": [
            [
             0,
             "#8e0152"
            ],
            [
             0.1,
             "#c51b7d"
            ],
            [
             0.2,
             "#de77ae"
            ],
            [
             0.3,
             "#f1b6da"
            ],
            [
             0.4,
             "#fde0ef"
            ],
            [
             0.5,
             "#f7f7f7"
            ],
            [
             0.6,
             "#e6f5d0"
            ],
            [
             0.7,
             "#b8e186"
            ],
            [
             0.8,
             "#7fbc41"
            ],
            [
             0.9,
             "#4d9221"
            ],
            [
             1,
             "#276419"
            ]
           ],
           "sequential": [
            [
             0,
             "#0508b8"
            ],
            [
             0.0893854748603352,
             "#1910d8"
            ],
            [
             0.1787709497206704,
             "#3c19f0"
            ],
            [
             0.2681564245810056,
             "#6b1cfb"
            ],
            [
             0.3575418994413408,
             "#981cfd"
            ],
            [
             0.44692737430167595,
             "#bf1cfd"
            ],
            [
             0.5363128491620112,
             "#dd2bfd"
            ],
            [
             0.6256983240223464,
             "#f246fe"
            ],
            [
             0.7150837988826816,
             "#fc67fd"
            ],
            [
             0.8044692737430168,
             "#fe88fc"
            ],
            [
             0.8938547486033519,
             "#fea5fd"
            ],
            [
             0.9832402234636871,
             "#febefe"
            ],
            [
             1,
             "#fec3fe"
            ]
           ],
           "sequentialminus": [
            [
             0,
             "#0508b8"
            ],
            [
             0.0893854748603352,
             "#1910d8"
            ],
            [
             0.1787709497206704,
             "#3c19f0"
            ],
            [
             0.2681564245810056,
             "#6b1cfb"
            ],
            [
             0.3575418994413408,
             "#981cfd"
            ],
            [
             0.44692737430167595,
             "#bf1cfd"
            ],
            [
             0.5363128491620112,
             "#dd2bfd"
            ],
            [
             0.6256983240223464,
             "#f246fe"
            ],
            [
             0.7150837988826816,
             "#fc67fd"
            ],
            [
             0.8044692737430168,
             "#fe88fc"
            ],
            [
             0.8938547486033519,
             "#fea5fd"
            ],
            [
             0.9832402234636871,
             "#febefe"
            ],
            [
             1,
             "#fec3fe"
            ]
           ]
          },
          "colorway": [
           "#636efa",
           "#EF553B",
           "#00cc96",
           "#ab63fa",
           "#19d3f3",
           "#e763fa",
           "#FECB52",
           "#FFA15A",
           "#FF6692",
           "#B6E880"
          ],
          "font": {
           "color": "#2a3f5f"
          },
          "geo": {
           "bgcolor": "white",
           "lakecolor": "white",
           "landcolor": "#E5ECF6",
           "showlakes": true,
           "showland": true,
           "subunitcolor": "white"
          },
          "hovermode": "closest",
          "mapbox": {
           "style": "light"
          },
          "paper_bgcolor": "white",
          "plot_bgcolor": "#E5ECF6",
          "polar": {
           "angularaxis": {
            "gridcolor": "white",
            "linecolor": "white",
            "ticks": ""
           },
           "bgcolor": "#E5ECF6",
           "radialaxis": {
            "gridcolor": "white",
            "linecolor": "white",
            "ticks": ""
           }
          },
          "scene": {
           "xaxis": {
            "backgroundcolor": "#E5ECF6",
            "gridcolor": "white",
            "gridwidth": 2,
            "linecolor": "white",
            "showbackground": true,
            "ticks": "",
            "zerolinecolor": "white"
           },
           "yaxis": {
            "backgroundcolor": "#E5ECF6",
            "gridcolor": "white",
            "gridwidth": 2,
            "linecolor": "white",
            "showbackground": true,
            "ticks": "",
            "zerolinecolor": "white"
           },
           "zaxis": {
            "backgroundcolor": "#E5ECF6",
            "gridcolor": "white",
            "gridwidth": 2,
            "linecolor": "white",
            "showbackground": true,
            "ticks": "",
            "zerolinecolor": "white"
           }
          },
          "shapedefaults": {
           "fillcolor": "#506784",
           "line": {
            "width": 0
           },
           "opacity": 0.4
          },
          "ternary": {
           "aaxis": {
            "gridcolor": "white",
            "linecolor": "white",
            "ticks": ""
           },
           "baxis": {
            "gridcolor": "white",
            "linecolor": "white",
            "ticks": ""
           },
           "bgcolor": "#E5ECF6",
           "caxis": {
            "gridcolor": "white",
            "linecolor": "white",
            "ticks": ""
           }
          },
          "title": {
           "x": 0.05
          },
          "xaxis": {
           "automargin": true,
           "gridcolor": "white",
           "linecolor": "white",
           "ticks": "",
           "zerolinecolor": "white",
           "zerolinewidth": 2
          },
          "yaxis": {
           "automargin": true,
           "gridcolor": "white",
           "linecolor": "white",
           "ticks": "",
           "zerolinecolor": "white",
           "zerolinewidth": 2
          }
         }
        },
        "xaxis": {
         "title": {
          "text": "month"
         }
        },
        "xaxis2": {
         "matches": "x",
         "title": {
          "text": "month"
         }
        },
        "xaxis3": {
         "matches": "x",
         "title": {
          "text": "month"
         }
        },
        "xaxis4": {
         "matches": "x",
         "title": {
          "text": "month"
         }
        },
        "xaxis5": {
         "matches": "x",
         "title": {
          "text": "month"
         }
        },
        "xaxis6": {
         "matches": "x",
         "title": {
          "text": "month"
         }
        },
        "yaxis": {
         "title": {
          "text": "pop"
         }
        }
       }
      },
      "text/html": [
       "<div id=\"462e6f95-d56a-4713-832a-769eb952a832\" style=\"height: 600px; width: 100%;\" class=\"plotly-graph-div\"></div><script type=\"text/javascript\">require([\"plotly\"], function(Plotly) { window.PLOTLYENV=window.PLOTLYENV || {};window.PLOTLYENV.BASE_URL=\"https://plot.ly\";\n",
       "if (document.getElementById(\"462e6f95-d56a-4713-832a-769eb952a832\")) {\n",
       "    Plotly.newPlot(\"462e6f95-d56a-4713-832a-769eb952a832\", [{\"contours\": {\"coloring\": \"none\"}, \"legendgroup\": \"area=a\", \"line\": {\"color\": \"#636efa\"}, \"name\": \"area=a\", \"showlegend\": true, \"x\": [1, 2, 3, 4, 5, 6, 7, 8, 9, 10, 11, 12], \"xaxis\": \"x\", \"y\": [8425333, 9240934, 10267083, 11537966, 13079460, 14880372, 12881816, 13867957, 16317921, 22227415, 25268405, 31889923], \"yaxis\": \"y\", \"type\": \"histogram2dcontour\", \"uid\": \"b49b8440-c043-46b2-aae9-1970748f2f95\"}, {\"contours\": {\"coloring\": \"none\"}, \"legendgroup\": \"area=b\", \"line\": {\"color\": \"#EF553B\"}, \"name\": \"area=b\", \"showlegend\": true, \"x\": [1, 2, 3, 4, 5, 6, 7, 8, 9, 10, 11, 12], \"xaxis\": \"x2\", \"y\": [1282697, 1476505, 1728137, 1984060, 2263554, 2509048, 2780097, 3075321, 3326498, 3428038, 3508512, 3600523], \"yaxis\": \"y\", \"type\": \"histogram2dcontour\", \"uid\": \"ab7b9048-8c1c-4d1f-8aea-1083a428fddf\"}, {\"contours\": {\"coloring\": \"none\"}, \"legendgroup\": \"area=c\", \"line\": {\"color\": \"#00cc96\"}, \"name\": \"area=c\", \"showlegend\": true, \"x\": [1, 2, 3, 4, 5, 6, 7, 8, 9, 10, 11, 12], \"xaxis\": \"x3\", \"y\": [9279525, 10270856, 11000948, 12760499, 14760787, 17152804, 20033753, 23254956, 26298373, 29072015, 31287142, 33333216], \"yaxis\": \"y\", \"type\": \"histogram2dcontour\", \"uid\": \"de55c3ad-4f67-485a-a1b3-826b68c36651\"}, {\"contours\": {\"coloring\": \"none\"}, \"legendgroup\": \"area=d\", \"line\": {\"color\": \"#ab63fa\"}, \"name\": \"area=d\", \"showlegend\": true, \"x\": [1, 2, 3, 4, 5, 6, 7, 8, 9, 10, 11, 12], \"xaxis\": \"x4\", \"y\": [4232095, 4561361, 4826015, 5247469, 5894858, 6162675, 7016384, 7874230, 8735988, 9875024, 10866106, 12420476], \"yaxis\": \"y\", \"type\": \"histogram2dcontour\", \"uid\": \"4f0fd4df-7177-424e-b2e4-48f4f0d205b2\"}, {\"contours\": {\"coloring\": \"none\"}, \"legendgroup\": \"area=e\", \"line\": {\"color\": \"#19d3f3\"}, \"name\": \"area=e\", \"showlegend\": true, \"x\": [1, 2, 3, 4, 5, 6, 7, 8, 9, 10, 11, 12], \"xaxis\": \"x5\", \"y\": [17876956, 19610538, 21283783, 22934225, 24779799, 26983828, 29341374, 31620918, 33958947, 36203463, 38331121, 40301927], \"yaxis\": \"y\", \"type\": \"histogram2dcontour\", \"uid\": \"e600f50d-7828-46bd-8847-0a1ef917285d\"}, {\"contours\": {\"coloring\": \"none\"}, \"legendgroup\": \"area=f\", \"line\": {\"color\": \"#e763fa\"}, \"name\": \"area=f\", \"showlegend\": true, \"x\": [1, 2, 3, 4, 5, 6, 7, 8, 9, 10, 11, 12], \"xaxis\": \"x6\", \"y\": [8691212, 9712569, 10794968, 11872264, 13177000, 14074100, 15184200, 16257249, 17481977, 18565243, 19546792, 20434176], \"yaxis\": \"y\", \"type\": \"histogram2dcontour\", \"uid\": \"706045dc-5d20-4915-bbf3-429b47a5979e\"}], {\"height\": 600, \"legend\": {\"tracegroupgap\": 0}, \"margin\": {\"t\": 60}, \"template\": {\"data\": {\"barpolar\": [{\"marker\": {\"line\": {\"color\": \"#E5ECF6\", \"width\": 0.5}}, \"type\": \"barpolar\"}], \"bar\": [{\"marker\": {\"line\": {\"color\": \"#E5ECF6\", \"width\": 0.5}}, \"type\": \"bar\"}], \"carpet\": [{\"aaxis\": {\"endlinecolor\": \"#2a3f5f\", \"gridcolor\": \"white\", \"linecolor\": \"white\", \"minorgridcolor\": \"white\", \"startlinecolor\": \"#2a3f5f\"}, \"baxis\": {\"endlinecolor\": \"#2a3f5f\", \"gridcolor\": \"white\", \"linecolor\": \"white\", \"minorgridcolor\": \"white\", \"startlinecolor\": \"#2a3f5f\"}, \"type\": \"carpet\"}], \"choropleth\": [{\"colorbar\": {\"outlinewidth\": 0, \"ticks\": \"\"}, \"type\": \"choropleth\"}], \"contourcarpet\": [{\"colorbar\": {\"outlinewidth\": 0, \"ticks\": \"\"}, \"type\": \"contourcarpet\"}], \"contour\": [{\"autocolorscale\": true, \"colorbar\": {\"outlinewidth\": 0, \"ticks\": \"\"}, \"type\": \"contour\"}], \"heatmapgl\": [{\"colorbar\": {\"outlinewidth\": 0, \"ticks\": \"\"}, \"type\": \"heatmapgl\"}], \"heatmap\": [{\"autocolorscale\": true, \"colorbar\": {\"outlinewidth\": 0, \"ticks\": \"\"}, \"type\": \"heatmap\"}], \"histogram2dcontour\": [{\"autocolorscale\": true, \"colorbar\": {\"outlinewidth\": 0, \"ticks\": \"\"}, \"type\": \"histogram2dcontour\"}], \"histogram2d\": [{\"autocolorscale\": true, \"colorbar\": {\"outlinewidth\": 0, \"ticks\": \"\"}, \"type\": \"histogram2d\"}], \"histogram\": [{\"marker\": {\"colorbar\": {\"outlinewidth\": 0, \"ticks\": \"\"}}, \"type\": \"histogram\"}], \"mesh3d\": [{\"colorbar\": {\"outlinewidth\": 0, \"ticks\": \"\"}, \"type\": \"mesh3d\"}], \"parcoords\": [{\"line\": {\"colorbar\": {\"outlinewidth\": 0, \"ticks\": \"\"}}, \"type\": \"parcoords\"}], \"scatter3d\": [{\"marker\": {\"colorbar\": {\"outlinewidth\": 0, \"ticks\": \"\"}}, \"type\": \"scatter3d\"}], \"scattercarpet\": [{\"marker\": {\"colorbar\": {\"outlinewidth\": 0, \"ticks\": \"\"}}, \"type\": \"scattercarpet\"}], \"scattergeo\": [{\"marker\": {\"colorbar\": {\"outlinewidth\": 0, \"ticks\": \"\"}}, \"type\": \"scattergeo\"}], \"scattergl\": [{\"marker\": {\"colorbar\": {\"outlinewidth\": 0, \"ticks\": \"\"}}, \"type\": \"scattergl\"}], \"scattermapbox\": [{\"marker\": {\"colorbar\": {\"outlinewidth\": 0, \"ticks\": \"\"}}, \"type\": \"scattermapbox\"}], \"scatterpolargl\": [{\"marker\": {\"colorbar\": {\"outlinewidth\": 0, \"ticks\": \"\"}}, \"type\": \"scatterpolargl\"}], \"scatterpolar\": [{\"marker\": {\"colorbar\": {\"outlinewidth\": 0, \"ticks\": \"\"}}, \"type\": \"scatterpolar\"}], \"scatter\": [{\"marker\": {\"colorbar\": {\"outlinewidth\": 0, \"ticks\": \"\"}}, \"type\": \"scatter\"}], \"scatterternary\": [{\"marker\": {\"colorbar\": {\"outlinewidth\": 0, \"ticks\": \"\"}}, \"type\": \"scatterternary\"}], \"surface\": [{\"colorbar\": {\"outlinewidth\": 0, \"ticks\": \"\"}, \"type\": \"surface\"}], \"table\": [{\"cells\": {\"fill\": {\"color\": \"#EBF0F8\"}, \"line\": {\"color\": \"white\"}}, \"header\": {\"fill\": {\"color\": \"#C8D4E3\"}, \"line\": {\"color\": \"white\"}}, \"type\": \"table\"}]}, \"layout\": {\"annotationdefaults\": {\"arrowcolor\": \"#506784\", \"arrowhead\": 0, \"arrowwidth\": 1}, \"colorscale\": {\"diverging\": [[0, \"#8e0152\"], [0.1, \"#c51b7d\"], [0.2, \"#de77ae\"], [0.3, \"#f1b6da\"], [0.4, \"#fde0ef\"], [0.5, \"#f7f7f7\"], [0.6, \"#e6f5d0\"], [0.7, \"#b8e186\"], [0.8, \"#7fbc41\"], [0.9, \"#4d9221\"], [1, \"#276419\"]], \"sequential\": [[0.0, \"#0508b8\"], [0.0893854748603352, \"#1910d8\"], [0.1787709497206704, \"#3c19f0\"], [0.2681564245810056, \"#6b1cfb\"], [0.3575418994413408, \"#981cfd\"], [0.44692737430167595, \"#bf1cfd\"], [0.5363128491620112, \"#dd2bfd\"], [0.6256983240223464, \"#f246fe\"], [0.7150837988826816, \"#fc67fd\"], [0.8044692737430168, \"#fe88fc\"], [0.8938547486033519, \"#fea5fd\"], [0.9832402234636871, \"#febefe\"], [1.0, \"#fec3fe\"]], \"sequentialminus\": [[0.0, \"#0508b8\"], [0.0893854748603352, \"#1910d8\"], [0.1787709497206704, \"#3c19f0\"], [0.2681564245810056, \"#6b1cfb\"], [0.3575418994413408, \"#981cfd\"], [0.44692737430167595, \"#bf1cfd\"], [0.5363128491620112, \"#dd2bfd\"], [0.6256983240223464, \"#f246fe\"], [0.7150837988826816, \"#fc67fd\"], [0.8044692737430168, \"#fe88fc\"], [0.8938547486033519, \"#fea5fd\"], [0.9832402234636871, \"#febefe\"], [1.0, \"#fec3fe\"]]}, \"colorway\": [\"#636efa\", \"#EF553B\", \"#00cc96\", \"#ab63fa\", \"#19d3f3\", \"#e763fa\", \"#FECB52\", \"#FFA15A\", \"#FF6692\", \"#B6E880\"], \"font\": {\"color\": \"#2a3f5f\"}, \"geo\": {\"bgcolor\": \"white\", \"lakecolor\": \"white\", \"landcolor\": \"#E5ECF6\", \"showlakes\": true, \"showland\": true, \"subunitcolor\": \"white\"}, \"hovermode\": \"closest\", \"mapbox\": {\"style\": \"light\"}, \"paper_bgcolor\": \"white\", \"plot_bgcolor\": \"#E5ECF6\", \"polar\": {\"angularaxis\": {\"gridcolor\": \"white\", \"linecolor\": \"white\", \"ticks\": \"\"}, \"bgcolor\": \"#E5ECF6\", \"radialaxis\": {\"gridcolor\": \"white\", \"linecolor\": \"white\", \"ticks\": \"\"}}, \"scene\": {\"xaxis\": {\"backgroundcolor\": \"#E5ECF6\", \"gridcolor\": \"white\", \"gridwidth\": 2, \"linecolor\": \"white\", \"showbackground\": true, \"ticks\": \"\", \"zerolinecolor\": \"white\"}, \"yaxis\": {\"backgroundcolor\": \"#E5ECF6\", \"gridcolor\": \"white\", \"gridwidth\": 2, \"linecolor\": \"white\", \"showbackground\": true, \"ticks\": \"\", \"zerolinecolor\": \"white\"}, \"zaxis\": {\"backgroundcolor\": \"#E5ECF6\", \"gridcolor\": \"white\", \"gridwidth\": 2, \"linecolor\": \"white\", \"showbackground\": true, \"ticks\": \"\", \"zerolinecolor\": \"white\"}}, \"shapedefaults\": {\"fillcolor\": \"#506784\", \"line\": {\"width\": 0}, \"opacity\": 0.4}, \"ternary\": {\"aaxis\": {\"gridcolor\": \"white\", \"linecolor\": \"white\", \"ticks\": \"\"}, \"baxis\": {\"gridcolor\": \"white\", \"linecolor\": \"white\", \"ticks\": \"\"}, \"bgcolor\": \"#E5ECF6\", \"caxis\": {\"gridcolor\": \"white\", \"linecolor\": \"white\", \"ticks\": \"\"}}, \"title\": {\"x\": 0.05}, \"xaxis\": {\"automargin\": true, \"gridcolor\": \"white\", \"linecolor\": \"white\", \"ticks\": \"\", \"zerolinecolor\": \"white\", \"zerolinewidth\": 2}, \"yaxis\": {\"automargin\": true, \"gridcolor\": \"white\", \"linecolor\": \"white\", \"ticks\": \"\", \"zerolinecolor\": \"white\", \"zerolinewidth\": 2}}}, \"grid\": {\"xaxes\": [\"x\", \"x2\", \"x3\", \"x4\", \"x5\", \"x6\"], \"yaxes\": [\"y\"], \"xgap\": 0.1, \"ygap\": 0.1, \"xside\": \"bottom\", \"yside\": \"left\"}, \"xaxis2\": {\"title\": {\"text\": \"month\"}, \"matches\": \"x\"}, \"xaxis3\": {\"title\": {\"text\": \"month\"}, \"matches\": \"x\"}, \"xaxis4\": {\"title\": {\"text\": \"month\"}, \"matches\": \"x\"}, \"xaxis5\": {\"title\": {\"text\": \"month\"}, \"matches\": \"x\"}, \"xaxis6\": {\"title\": {\"text\": \"month\"}, \"matches\": \"x\"}, \"annotations\": [{\"showarrow\": false, \"text\": \"area=a\", \"textangle\": 0, \"x\": 0.07627118644067797, \"xanchor\": \"center\", \"xref\": \"paper\", \"y\": 1.02, \"yanchor\": \"middle\", \"yref\": \"paper\"}, {\"showarrow\": false, \"text\": \"area=b\", \"textangle\": 0, \"x\": 0.24576271186440676, \"xanchor\": \"center\", \"xref\": \"paper\", \"y\": 1.02, \"yanchor\": \"middle\", \"yref\": \"paper\"}, {\"showarrow\": false, \"text\": \"area=c\", \"textangle\": 0, \"x\": 0.4152542372881356, \"xanchor\": \"center\", \"xref\": \"paper\", \"y\": 1.02, \"yanchor\": \"middle\", \"yref\": \"paper\"}, {\"showarrow\": false, \"text\": \"area=d\", \"textangle\": 0, \"x\": 0.5847457627118644, \"xanchor\": \"center\", \"xref\": \"paper\", \"y\": 1.02, \"yanchor\": \"middle\", \"yref\": \"paper\"}, {\"showarrow\": false, \"text\": \"area=e\", \"textangle\": 0, \"x\": 0.7542372881355932, \"xanchor\": \"center\", \"xref\": \"paper\", \"y\": 1.02, \"yanchor\": \"middle\", \"yref\": \"paper\"}, {\"showarrow\": false, \"text\": \"area=f\", \"textangle\": 0, \"x\": 0.923728813559322, \"xanchor\": \"center\", \"xref\": \"paper\", \"y\": 1.02, \"yanchor\": \"middle\", \"yref\": \"paper\"}], \"xaxis\": {\"title\": {\"text\": \"month\"}}, \"yaxis\": {\"title\": {\"text\": \"pop\"}}}, {\"showLink\": false, \"linkText\": \"Export to plot.ly\", \"plotlyServerURL\": \"https://plot.ly\"}); \n",
       "}\n",
       "});</script><script type=\"text/javascript\">window.addEventListener(\"resize\", function(){if (document.getElementById(\"462e6f95-d56a-4713-832a-769eb952a832\")) {window._Plotly.Plots.resize(document.getElementById(\"462e6f95-d56a-4713-832a-769eb952a832\"));};})</script>"
      ],
      "text/vnd.plotly.v1+html": [
       "<div id=\"462e6f95-d56a-4713-832a-769eb952a832\" style=\"height: 600px; width: 100%;\" class=\"plotly-graph-div\"></div><script type=\"text/javascript\">require([\"plotly\"], function(Plotly) { window.PLOTLYENV=window.PLOTLYENV || {};window.PLOTLYENV.BASE_URL=\"https://plot.ly\";\n",
       "if (document.getElementById(\"462e6f95-d56a-4713-832a-769eb952a832\")) {\n",
       "    Plotly.newPlot(\"462e6f95-d56a-4713-832a-769eb952a832\", [{\"contours\": {\"coloring\": \"none\"}, \"legendgroup\": \"area=a\", \"line\": {\"color\": \"#636efa\"}, \"name\": \"area=a\", \"showlegend\": true, \"x\": [1, 2, 3, 4, 5, 6, 7, 8, 9, 10, 11, 12], \"xaxis\": \"x\", \"y\": [8425333, 9240934, 10267083, 11537966, 13079460, 14880372, 12881816, 13867957, 16317921, 22227415, 25268405, 31889923], \"yaxis\": \"y\", \"type\": \"histogram2dcontour\", \"uid\": \"b49b8440-c043-46b2-aae9-1970748f2f95\"}, {\"contours\": {\"coloring\": \"none\"}, \"legendgroup\": \"area=b\", \"line\": {\"color\": \"#EF553B\"}, \"name\": \"area=b\", \"showlegend\": true, \"x\": [1, 2, 3, 4, 5, 6, 7, 8, 9, 10, 11, 12], \"xaxis\": \"x2\", \"y\": [1282697, 1476505, 1728137, 1984060, 2263554, 2509048, 2780097, 3075321, 3326498, 3428038, 3508512, 3600523], \"yaxis\": \"y\", \"type\": \"histogram2dcontour\", \"uid\": \"ab7b9048-8c1c-4d1f-8aea-1083a428fddf\"}, {\"contours\": {\"coloring\": \"none\"}, \"legendgroup\": \"area=c\", \"line\": {\"color\": \"#00cc96\"}, \"name\": \"area=c\", \"showlegend\": true, \"x\": [1, 2, 3, 4, 5, 6, 7, 8, 9, 10, 11, 12], \"xaxis\": \"x3\", \"y\": [9279525, 10270856, 11000948, 12760499, 14760787, 17152804, 20033753, 23254956, 26298373, 29072015, 31287142, 33333216], \"yaxis\": \"y\", \"type\": \"histogram2dcontour\", \"uid\": \"de55c3ad-4f67-485a-a1b3-826b68c36651\"}, {\"contours\": {\"coloring\": \"none\"}, \"legendgroup\": \"area=d\", \"line\": {\"color\": \"#ab63fa\"}, \"name\": \"area=d\", \"showlegend\": true, \"x\": [1, 2, 3, 4, 5, 6, 7, 8, 9, 10, 11, 12], \"xaxis\": \"x4\", \"y\": [4232095, 4561361, 4826015, 5247469, 5894858, 6162675, 7016384, 7874230, 8735988, 9875024, 10866106, 12420476], \"yaxis\": \"y\", \"type\": \"histogram2dcontour\", \"uid\": \"4f0fd4df-7177-424e-b2e4-48f4f0d205b2\"}, {\"contours\": {\"coloring\": \"none\"}, \"legendgroup\": \"area=e\", \"line\": {\"color\": \"#19d3f3\"}, \"name\": \"area=e\", \"showlegend\": true, \"x\": [1, 2, 3, 4, 5, 6, 7, 8, 9, 10, 11, 12], \"xaxis\": \"x5\", \"y\": [17876956, 19610538, 21283783, 22934225, 24779799, 26983828, 29341374, 31620918, 33958947, 36203463, 38331121, 40301927], \"yaxis\": \"y\", \"type\": \"histogram2dcontour\", \"uid\": \"e600f50d-7828-46bd-8847-0a1ef917285d\"}, {\"contours\": {\"coloring\": \"none\"}, \"legendgroup\": \"area=f\", \"line\": {\"color\": \"#e763fa\"}, \"name\": \"area=f\", \"showlegend\": true, \"x\": [1, 2, 3, 4, 5, 6, 7, 8, 9, 10, 11, 12], \"xaxis\": \"x6\", \"y\": [8691212, 9712569, 10794968, 11872264, 13177000, 14074100, 15184200, 16257249, 17481977, 18565243, 19546792, 20434176], \"yaxis\": \"y\", \"type\": \"histogram2dcontour\", \"uid\": \"706045dc-5d20-4915-bbf3-429b47a5979e\"}], {\"height\": 600, \"legend\": {\"tracegroupgap\": 0}, \"margin\": {\"t\": 60}, \"template\": {\"data\": {\"barpolar\": [{\"marker\": {\"line\": {\"color\": \"#E5ECF6\", \"width\": 0.5}}, \"type\": \"barpolar\"}], \"bar\": [{\"marker\": {\"line\": {\"color\": \"#E5ECF6\", \"width\": 0.5}}, \"type\": \"bar\"}], \"carpet\": [{\"aaxis\": {\"endlinecolor\": \"#2a3f5f\", \"gridcolor\": \"white\", \"linecolor\": \"white\", \"minorgridcolor\": \"white\", \"startlinecolor\": \"#2a3f5f\"}, \"baxis\": {\"endlinecolor\": \"#2a3f5f\", \"gridcolor\": \"white\", \"linecolor\": \"white\", \"minorgridcolor\": \"white\", \"startlinecolor\": \"#2a3f5f\"}, \"type\": \"carpet\"}], \"choropleth\": [{\"colorbar\": {\"outlinewidth\": 0, \"ticks\": \"\"}, \"type\": \"choropleth\"}], \"contourcarpet\": [{\"colorbar\": {\"outlinewidth\": 0, \"ticks\": \"\"}, \"type\": \"contourcarpet\"}], \"contour\": [{\"autocolorscale\": true, \"colorbar\": {\"outlinewidth\": 0, \"ticks\": \"\"}, \"type\": \"contour\"}], \"heatmapgl\": [{\"colorbar\": {\"outlinewidth\": 0, \"ticks\": \"\"}, \"type\": \"heatmapgl\"}], \"heatmap\": [{\"autocolorscale\": true, \"colorbar\": {\"outlinewidth\": 0, \"ticks\": \"\"}, \"type\": \"heatmap\"}], \"histogram2dcontour\": [{\"autocolorscale\": true, \"colorbar\": {\"outlinewidth\": 0, \"ticks\": \"\"}, \"type\": \"histogram2dcontour\"}], \"histogram2d\": [{\"autocolorscale\": true, \"colorbar\": {\"outlinewidth\": 0, \"ticks\": \"\"}, \"type\": \"histogram2d\"}], \"histogram\": [{\"marker\": {\"colorbar\": {\"outlinewidth\": 0, \"ticks\": \"\"}}, \"type\": \"histogram\"}], \"mesh3d\": [{\"colorbar\": {\"outlinewidth\": 0, \"ticks\": \"\"}, \"type\": \"mesh3d\"}], \"parcoords\": [{\"line\": {\"colorbar\": {\"outlinewidth\": 0, \"ticks\": \"\"}}, \"type\": \"parcoords\"}], \"scatter3d\": [{\"marker\": {\"colorbar\": {\"outlinewidth\": 0, \"ticks\": \"\"}}, \"type\": \"scatter3d\"}], \"scattercarpet\": [{\"marker\": {\"colorbar\": {\"outlinewidth\": 0, \"ticks\": \"\"}}, \"type\": \"scattercarpet\"}], \"scattergeo\": [{\"marker\": {\"colorbar\": {\"outlinewidth\": 0, \"ticks\": \"\"}}, \"type\": \"scattergeo\"}], \"scattergl\": [{\"marker\": {\"colorbar\": {\"outlinewidth\": 0, \"ticks\": \"\"}}, \"type\": \"scattergl\"}], \"scattermapbox\": [{\"marker\": {\"colorbar\": {\"outlinewidth\": 0, \"ticks\": \"\"}}, \"type\": \"scattermapbox\"}], \"scatterpolargl\": [{\"marker\": {\"colorbar\": {\"outlinewidth\": 0, \"ticks\": \"\"}}, \"type\": \"scatterpolargl\"}], \"scatterpolar\": [{\"marker\": {\"colorbar\": {\"outlinewidth\": 0, \"ticks\": \"\"}}, \"type\": \"scatterpolar\"}], \"scatter\": [{\"marker\": {\"colorbar\": {\"outlinewidth\": 0, \"ticks\": \"\"}}, \"type\": \"scatter\"}], \"scatterternary\": [{\"marker\": {\"colorbar\": {\"outlinewidth\": 0, \"ticks\": \"\"}}, \"type\": \"scatterternary\"}], \"surface\": [{\"colorbar\": {\"outlinewidth\": 0, \"ticks\": \"\"}, \"type\": \"surface\"}], \"table\": [{\"cells\": {\"fill\": {\"color\": \"#EBF0F8\"}, \"line\": {\"color\": \"white\"}}, \"header\": {\"fill\": {\"color\": \"#C8D4E3\"}, \"line\": {\"color\": \"white\"}}, \"type\": \"table\"}]}, \"layout\": {\"annotationdefaults\": {\"arrowcolor\": \"#506784\", \"arrowhead\": 0, \"arrowwidth\": 1}, \"colorscale\": {\"diverging\": [[0, \"#8e0152\"], [0.1, \"#c51b7d\"], [0.2, \"#de77ae\"], [0.3, \"#f1b6da\"], [0.4, \"#fde0ef\"], [0.5, \"#f7f7f7\"], [0.6, \"#e6f5d0\"], [0.7, \"#b8e186\"], [0.8, \"#7fbc41\"], [0.9, \"#4d9221\"], [1, \"#276419\"]], \"sequential\": [[0.0, \"#0508b8\"], [0.0893854748603352, \"#1910d8\"], [0.1787709497206704, \"#3c19f0\"], [0.2681564245810056, \"#6b1cfb\"], [0.3575418994413408, \"#981cfd\"], [0.44692737430167595, \"#bf1cfd\"], [0.5363128491620112, \"#dd2bfd\"], [0.6256983240223464, \"#f246fe\"], [0.7150837988826816, \"#fc67fd\"], [0.8044692737430168, \"#fe88fc\"], [0.8938547486033519, \"#fea5fd\"], [0.9832402234636871, \"#febefe\"], [1.0, \"#fec3fe\"]], \"sequentialminus\": [[0.0, \"#0508b8\"], [0.0893854748603352, \"#1910d8\"], [0.1787709497206704, \"#3c19f0\"], [0.2681564245810056, \"#6b1cfb\"], [0.3575418994413408, \"#981cfd\"], [0.44692737430167595, \"#bf1cfd\"], [0.5363128491620112, \"#dd2bfd\"], [0.6256983240223464, \"#f246fe\"], [0.7150837988826816, \"#fc67fd\"], [0.8044692737430168, \"#fe88fc\"], [0.8938547486033519, \"#fea5fd\"], [0.9832402234636871, \"#febefe\"], [1.0, \"#fec3fe\"]]}, \"colorway\": [\"#636efa\", \"#EF553B\", \"#00cc96\", \"#ab63fa\", \"#19d3f3\", \"#e763fa\", \"#FECB52\", \"#FFA15A\", \"#FF6692\", \"#B6E880\"], \"font\": {\"color\": \"#2a3f5f\"}, \"geo\": {\"bgcolor\": \"white\", \"lakecolor\": \"white\", \"landcolor\": \"#E5ECF6\", \"showlakes\": true, \"showland\": true, \"subunitcolor\": \"white\"}, \"hovermode\": \"closest\", \"mapbox\": {\"style\": \"light\"}, \"paper_bgcolor\": \"white\", \"plot_bgcolor\": \"#E5ECF6\", \"polar\": {\"angularaxis\": {\"gridcolor\": \"white\", \"linecolor\": \"white\", \"ticks\": \"\"}, \"bgcolor\": \"#E5ECF6\", \"radialaxis\": {\"gridcolor\": \"white\", \"linecolor\": \"white\", \"ticks\": \"\"}}, \"scene\": {\"xaxis\": {\"backgroundcolor\": \"#E5ECF6\", \"gridcolor\": \"white\", \"gridwidth\": 2, \"linecolor\": \"white\", \"showbackground\": true, \"ticks\": \"\", \"zerolinecolor\": \"white\"}, \"yaxis\": {\"backgroundcolor\": \"#E5ECF6\", \"gridcolor\": \"white\", \"gridwidth\": 2, \"linecolor\": \"white\", \"showbackground\": true, \"ticks\": \"\", \"zerolinecolor\": \"white\"}, \"zaxis\": {\"backgroundcolor\": \"#E5ECF6\", \"gridcolor\": \"white\", \"gridwidth\": 2, \"linecolor\": \"white\", \"showbackground\": true, \"ticks\": \"\", \"zerolinecolor\": \"white\"}}, \"shapedefaults\": {\"fillcolor\": \"#506784\", \"line\": {\"width\": 0}, \"opacity\": 0.4}, \"ternary\": {\"aaxis\": {\"gridcolor\": \"white\", \"linecolor\": \"white\", \"ticks\": \"\"}, \"baxis\": {\"gridcolor\": \"white\", \"linecolor\": \"white\", \"ticks\": \"\"}, \"bgcolor\": \"#E5ECF6\", \"caxis\": {\"gridcolor\": \"white\", \"linecolor\": \"white\", \"ticks\": \"\"}}, \"title\": {\"x\": 0.05}, \"xaxis\": {\"automargin\": true, \"gridcolor\": \"white\", \"linecolor\": \"white\", \"ticks\": \"\", \"zerolinecolor\": \"white\", \"zerolinewidth\": 2}, \"yaxis\": {\"automargin\": true, \"gridcolor\": \"white\", \"linecolor\": \"white\", \"ticks\": \"\", \"zerolinecolor\": \"white\", \"zerolinewidth\": 2}}}, \"grid\": {\"xaxes\": [\"x\", \"x2\", \"x3\", \"x4\", \"x5\", \"x6\"], \"yaxes\": [\"y\"], \"xgap\": 0.1, \"ygap\": 0.1, \"xside\": \"bottom\", \"yside\": \"left\"}, \"xaxis2\": {\"title\": {\"text\": \"month\"}, \"matches\": \"x\"}, \"xaxis3\": {\"title\": {\"text\": \"month\"}, \"matches\": \"x\"}, \"xaxis4\": {\"title\": {\"text\": \"month\"}, \"matches\": \"x\"}, \"xaxis5\": {\"title\": {\"text\": \"month\"}, \"matches\": \"x\"}, \"xaxis6\": {\"title\": {\"text\": \"month\"}, \"matches\": \"x\"}, \"annotations\": [{\"showarrow\": false, \"text\": \"area=a\", \"textangle\": 0, \"x\": 0.07627118644067797, \"xanchor\": \"center\", \"xref\": \"paper\", \"y\": 1.02, \"yanchor\": \"middle\", \"yref\": \"paper\"}, {\"showarrow\": false, \"text\": \"area=b\", \"textangle\": 0, \"x\": 0.24576271186440676, \"xanchor\": \"center\", \"xref\": \"paper\", \"y\": 1.02, \"yanchor\": \"middle\", \"yref\": \"paper\"}, {\"showarrow\": false, \"text\": \"area=c\", \"textangle\": 0, \"x\": 0.4152542372881356, \"xanchor\": \"center\", \"xref\": \"paper\", \"y\": 1.02, \"yanchor\": \"middle\", \"yref\": \"paper\"}, {\"showarrow\": false, \"text\": \"area=d\", \"textangle\": 0, \"x\": 0.5847457627118644, \"xanchor\": \"center\", \"xref\": \"paper\", \"y\": 1.02, \"yanchor\": \"middle\", \"yref\": \"paper\"}, {\"showarrow\": false, \"text\": \"area=e\", \"textangle\": 0, \"x\": 0.7542372881355932, \"xanchor\": \"center\", \"xref\": \"paper\", \"y\": 1.02, \"yanchor\": \"middle\", \"yref\": \"paper\"}, {\"showarrow\": false, \"text\": \"area=f\", \"textangle\": 0, \"x\": 0.923728813559322, \"xanchor\": \"center\", \"xref\": \"paper\", \"y\": 1.02, \"yanchor\": \"middle\", \"yref\": \"paper\"}], \"xaxis\": {\"title\": {\"text\": \"month\"}}, \"yaxis\": {\"title\": {\"text\": \"pop\"}}}, {\"showLink\": false, \"linkText\": \"Export to plot.ly\", \"plotlyServerURL\": \"https://plot.ly\"}); \n",
       "}\n",
       "});</script><script type=\"text/javascript\">window.addEventListener(\"resize\", function(){if (document.getElementById(\"462e6f95-d56a-4713-832a-769eb952a832\")) {window._Plotly.Plots.resize(document.getElementById(\"462e6f95-d56a-4713-832a-769eb952a832\"));};})</script>"
      ]
     },
     "metadata": {},
     "output_type": "display_data"
    }
   ],
   "source": [
    "px.density_contour(dataset, x=\"month\", y=\"pop\", color=\"area\", facet_col=\"area\")"
   ]
  },
  {
   "cell_type": "code",
   "execution_count": null,
   "metadata": {},
   "outputs": [],
   "source": []
  }
 ],
 "metadata": {
  "kernelspec": {
   "display_name": "Python 3",
   "language": "python",
   "name": "python3"
  },
  "language_info": {
   "codemirror_mode": {
    "name": "ipython",
    "version": 3
   },
   "file_extension": ".py",
   "mimetype": "text/x-python",
   "name": "python",
   "nbconvert_exporter": "python",
   "pygments_lexer": "ipython3",
   "version": "3.7.1"
  }
 },
 "nbformat": 4,
 "nbformat_minor": 2
}
