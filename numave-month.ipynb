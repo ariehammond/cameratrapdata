{
 "cells": [
  {
   "cell_type": "code",
   "execution_count": 1,
   "metadata": {},
   "outputs": [],
   "source": [
    "import plotly \n",
    "plotly.tools.set_credentials_file(username='graycyd', api_key='96NyPvCrAUv0oEVikSmV')"
   ]
  },
  {
   "cell_type": "code",
   "execution_count": 2,
   "metadata": {},
   "outputs": [],
   "source": [
    "import plotly.plotly as py\n",
    "import plotly.graph_objs as go"
   ]
  },
  {
   "cell_type": "code",
   "execution_count": 7,
   "metadata": {},
   "outputs": [],
   "source": [
    "month = ['January', 'February', 'March', 'April', 'May', 'June', 'July',\n",
    "         'August', 'September', 'October', 'November', 'December']\n",
    "zebra_ave = [303,318,299,241,289,669,826,1143,550,342,301,296]\n",
    "wildebeest_ave = [309, 321, 270, 258, 298, 519, 766, 1201, 596, 301,326, 301]\n",
    "gazelle_ave = [278, 303, 283, 226, 266, 460, 774, 1096, 533, 267, 255,286]\n",
    "giraffe_ave = [408, 389, 325, 260, 329, 441, 536, 583, 492, 391, 306, 347]"
   ]
  },
  {
   "cell_type": "code",
   "execution_count": 8,
   "metadata": {},
   "outputs": [
    {
     "name": "stdout",
     "output_type": "stream",
     "text": [
      "High five! You successfully sent some data to your account on plotly. View your plot in your browser at https://plot.ly/~graycyd/0 or inside your plot.ly account where it is named 'line-mode'\n"
     ]
    },
    {
     "data": {
      "text/html": [
       "<iframe id=\"igraph\" scrolling=\"no\" style=\"border:none;\" seamless=\"seamless\" src=\"https://plot.ly/~graycyd/0.embed\" height=\"525px\" width=\"100%\"></iframe>"
      ],
      "text/plain": [
       "<plotly.tools.PlotlyDisplay object>"
      ]
     },
     "execution_count": 8,
     "metadata": {},
     "output_type": "execute_result"
    }
   ],
   "source": [
    "trace0 = go.Scatter(\n",
    "    x = month,\n",
    "    y = zebra_ave,\n",
    "    mode = 'lines+markers',\n",
    "    name = 'zebra'\n",
    ")\n",
    "trace1 = go.Scatter(\n",
    "    x = month,\n",
    "    y = wildebeest_ave,\n",
    "    mode = 'lines+markers',\n",
    "    name = 'wildebeest'\n",
    ")\n",
    "trace2 = go.Scatter(\n",
    "    x = month,\n",
    "    y = gazelle_ave,\n",
    "    mode = 'lines+markers',\n",
    "    name = 'gazelle'\n",
    ")\n",
    "trace3 = go.Scatter(\n",
    "    x = month,\n",
    "    y = giraffe_ave,\n",
    "    mode = 'lines+markers',\n",
    "    name = 'Giraffe'\n",
    ")\n",
    "data = [trace0, trace1, trace2, trace3]\n",
    "\n",
    "py.iplot(data, filename='line-mode')"
   ]
  },
  {
   "cell_type": "code",
   "execution_count": null,
   "metadata": {},
   "outputs": [],
   "source": []
  }
 ],
 "metadata": {
  "kernelspec": {
   "display_name": "Python 3",
   "language": "python",
   "name": "python3"
  },
  "language_info": {
   "codemirror_mode": {
    "name": "ipython",
    "version": 3
   },
   "file_extension": ".py",
   "mimetype": "text/x-python",
   "name": "python",
   "nbconvert_exporter": "python",
   "pygments_lexer": "ipython3",
   "version": "3.7.1"
  }
 },
 "nbformat": 4,
 "nbformat_minor": 2
}
