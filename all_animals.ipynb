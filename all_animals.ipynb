{
 "cells": [
  {
   "cell_type": "code",
   "execution_count": 1,
   "metadata": {},
   "outputs": [],
   "source": [
    "import plotly.plotly as py\n",
    "import plotly.graph_objs as go"
   ]
  },
  {
   "cell_type": "code",
   "execution_count": 16,
   "metadata": {},
   "outputs": [],
   "source": [
    "trace0 = go.Bar(\n",
    "    x=['2010', '2011', '2012', '2013'],\n",
    "    y=[6392, 6808, 6036,6977],\n",
    "    name='Zebra'\n",
    ")\n",
    "trace1 = go.Bar(\n",
    "    x=['2010', '2011', '2012', '2013'],\n",
    "    y=[6011, 5114 , 6740, 6662],\n",
    "    name='Wildebeest'\n",
    ")\n",
    "trace2 = go.Bar(\n",
    "    x=['2010', '2011', '2012', '2013'],\n",
    "    y=[5407, 5312, 4998,4787],\n",
    "    name='Giraffe'\n",
    ")\n",
    "trace3 = go.Bar(\n",
    "    x=['2010', '2011', '2012', '2013'],\n",
    "    y=[4892, 6022, 4710, 5013],\n",
    "    name='Gazelle'\n",
    ")\n",
    "trace4 = go.Bar(\n",
    "    x=['2010', '2011', '2012', '2013'],\n",
    "    y=[1476, 2002, 1565, 1403],\n",
    "    name='Redbuck'\n",
    ")\n",
    "trace5 = go.Bar(\n",
    "    x=['2010', '2011', '2012', '2013'],\n",
    "    y=[2077, 2436, 1969, 2355],\n",
    "    name='Elephant'\n",
    ")\n",
    "trace6 = go.Bar(\n",
    "    x=['2010', '2011', '2012', '2013'],\n",
    "    y=[1226, 1908, 1637, 1044],\n",
    "    name='Buffalo'\n",
    ")\n",
    "trace7 = go.Bar(\n",
    "    x=['2010', '2011', '2012', '2013'],\n",
    "    y=[1095, 877, 1447, 1020],\n",
    "    name='Warthog'\n",
    ")\n",
    "trace8 = go.Bar(\n",
    "    x=['2010', '2011', '2012', '2013'],\n",
    "    y=[21401, 18498, 24031, 20659],\n",
    "    name='Others'\n",
    ")\n",
    "trace9 = go.Bar(\n",
    "    x=['2010', '2011', '2012', '2013'],\n",
    "    y=[203730, 176948, 234296, 181706],\n",
    "    base=[-203730, -176948, -234296, -181706],\n",
    "    name='Empty'\n",
    ")"
   ]
  },
  {
   "cell_type": "code",
   "execution_count": 18,
   "metadata": {},
   "outputs": [
    {
     "data": {
      "text/html": [
       "<iframe id=\"igraph\" scrolling=\"no\" style=\"border:none;\" seamless=\"seamless\" src=\"https://plot.ly/~graycyd/8.embed\" height=\"525px\" width=\"100%\"></iframe>"
      ],
      "text/plain": [
       "<plotly.tools.PlotlyDisplay object>"
      ]
     },
     "execution_count": 18,
     "metadata": {},
     "output_type": "execute_result"
    }
   ],
   "source": [
    "data = [trace0, trace1, trace2, trace3, trace4, trace5, trace6,trace7, trace8]\n",
    "layout = go.Layout(\n",
    "    barmode='stack'\n",
    ")\n",
    "fig = go.Figure(data=data, layout=layout)\n",
    "py.iplot(fig, filename='stacked-bar')"
   ]
  },
  {
   "cell_type": "code",
   "execution_count": null,
   "metadata": {},
   "outputs": [],
   "source": []
  }
 ],
 "metadata": {
  "kernelspec": {
   "display_name": "Python 3",
   "language": "python",
   "name": "python3"
  },
  "language_info": {
   "codemirror_mode": {
    "name": "ipython",
    "version": 3
   },
   "file_extension": ".py",
   "mimetype": "text/x-python",
   "name": "python",
   "nbconvert_exporter": "python",
   "pygments_lexer": "ipython3",
   "version": "3.7.1"
  }
 },
 "nbformat": 4,
 "nbformat_minor": 2
}
