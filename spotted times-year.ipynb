{
 "cells": [
  {
   "cell_type": "code",
   "execution_count": 1,
   "metadata": {},
   "outputs": [],
   "source": [
    "import dash\n",
    "import dash_core_components as dcc\n",
    "import dash_html_components as html"
   ]
  },
  {
   "cell_type": "code",
   "execution_count": 2,
   "metadata": {},
   "outputs": [],
   "source": [
    "external_stylesheets = ['https://codepen.io/chriddyp/pen/bWLwgP.css']\n",
    "\n",
    "app = dash.Dash(__name__, external_stylesheets=external_stylesheets)"
   ]
  },
  {
   "cell_type": "code",
   "execution_count": 3,
   "metadata": {},
   "outputs": [],
   "source": [
    "app.layout = html.Div(children=[\n",
    "    html.H1(children='Highest Spotted times'),\n",
    "\n",
    "    html.Div(children='''\n",
    "        Four animals spotted most commonly each year\n",
    "    '''),\n",
    "\n",
    "    dcc.Graph(\n",
    "        id='spotted-times',\n",
    "        figure={\n",
    "            'data': [\n",
    "                {'x': [2010, 2011, 2012, 2013], 'y': [5407, 6022, 4998,4787], 'type': 'bar', 'name': 'Giraffe'},\n",
    "                {'x': [2010, 2011, 2012, 2013], 'y': [6392, 6808, 6036,6977], 'type': 'bar', 'name': 'Zebra'},\n",
    "                {'x': [2010, 2011, 2012, 2013], 'y': [6011, 5114, 6740,6662], 'type': 'bar', 'name': 'Wildebeest'},\n",
    "                {'x': [2010, 2011, 2012, 2013], 'y': [4892, 5312, 4710,5013], 'type': 'bar', 'name': 'gazelle'},\n",
    "            ],\n",
    "            'layout': {\n",
    "                'title': 'Spotted Times - Year Visualization'\n",
    "            }\n",
    "        }\n",
    "    )\n",
    "])"
   ]
  },
  {
   "cell_type": "code",
   "execution_count": null,
   "metadata": {},
   "outputs": [
    {
     "name": "stdout",
     "output_type": "stream",
     "text": [
      " * Serving Flask app \"__main__\" (lazy loading)\n",
      " * Environment: production\n",
      "   WARNING: Do not use the development server in a production environment.\n",
      "   Use a production WSGI server instead.\n",
      " * Debug mode: off\n"
     ]
    },
    {
     "name": "stderr",
     "output_type": "stream",
     "text": [
      " * Running on http://127.0.0.1:5260/ (Press CTRL+C to quit)\n",
      "127.0.0.1 - - [25/Mar/2019 00:29:05] \"GET / HTTP/1.1\" 200 -\n",
      "127.0.0.1 - - [25/Mar/2019 00:29:05] \"GET /_dash-layout HTTP/1.1\" 200 -\n",
      "127.0.0.1 - - [25/Mar/2019 00:29:05] \"GET /_dash-dependencies HTTP/1.1\" 200 -\n",
      "127.0.0.1 - - [25/Mar/2019 00:29:05] \"GET /_favicon.ico HTTP/1.1\" 200 -\n",
      "127.0.0.1 - - [25/Mar/2019 00:30:59] \"GET / HTTP/1.1\" 200 -\n",
      "127.0.0.1 - - [25/Mar/2019 00:30:59] \"GET /_dash-layout HTTP/1.1\" 200 -\n",
      "127.0.0.1 - - [25/Mar/2019 00:30:59] \"GET /_dash-dependencies HTTP/1.1\" 200 -\n",
      "127.0.0.1 - - [25/Mar/2019 00:30:59] \"GET /_favicon.ico HTTP/1.1\" 200 -\n",
      "127.0.0.1 - - [25/Mar/2019 00:41:38] \"GET / HTTP/1.1\" 200 -\n",
      "127.0.0.1 - - [25/Mar/2019 00:41:38] \"GET /_dash-layout HTTP/1.1\" 200 -\n",
      "127.0.0.1 - - [25/Mar/2019 00:41:38] \"GET /_dash-dependencies HTTP/1.1\" 200 -\n",
      "127.0.0.1 - - [25/Mar/2019 00:41:38] \"GET /_favicon.ico HTTP/1.1\" 200 -\n",
      "127.0.0.1 - - [25/Mar/2019 00:41:51] \"GET / HTTP/1.1\" 200 -\n",
      "127.0.0.1 - - [25/Mar/2019 00:41:51] \"GET /_dash-layout HTTP/1.1\" 200 -\n",
      "127.0.0.1 - - [25/Mar/2019 00:41:51] \"GET /_dash-dependencies HTTP/1.1\" 200 -\n",
      "127.0.0.1 - - [25/Mar/2019 00:41:51] \"GET /_favicon.ico HTTP/1.1\" 200 -\n",
      "127.0.0.1 - - [25/Mar/2019 00:42:38] \"GET / HTTP/1.1\" 200 -\n",
      "127.0.0.1 - - [25/Mar/2019 00:42:38] \"GET /_dash-layout HTTP/1.1\" 200 -\n",
      "127.0.0.1 - - [25/Mar/2019 00:42:38] \"GET /_dash-dependencies HTTP/1.1\" 200 -\n",
      "127.0.0.1 - - [25/Mar/2019 00:42:38] \"GET /_favicon.ico HTTP/1.1\" 200 -\n"
     ]
    }
   ],
   "source": [
    "if __name__ == '__main__':\n",
    "    app.run_server(port=5260)"
   ]
  },
  {
   "cell_type": "code",
   "execution_count": null,
   "metadata": {},
   "outputs": [],
   "source": []
  }
 ],
 "metadata": {
  "kernelspec": {
   "display_name": "Python 3",
   "language": "python",
   "name": "python3"
  },
  "language_info": {
   "codemirror_mode": {
    "name": "ipython",
    "version": 3
   },
   "file_extension": ".py",
   "mimetype": "text/x-python",
   "name": "python",
   "nbconvert_exporter": "python",
   "pygments_lexer": "ipython3",
   "version": "3.7.1"
  }
 },
 "nbformat": 4,
 "nbformat_minor": 2
}
